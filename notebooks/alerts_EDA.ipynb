{
 "cells": [
  {
   "cell_type": "markdown",
   "metadata": {},
   "source": [
    "The goal of this notebook is to explore DETER data within the first AOI i selected. group by month and make a histogram to see if DETER polygons are more clustered in dry season which would indicate they are also delayed by clouds (which might or might not be the case since they use some SAR data as well I think). Also, look at MapBiomas for the same period (and perhaps PRODES and Hansen) and visually compare them against the S-2 images.\n",
    "\n",
    "As for PRODES v. Hansen, one compelling reason to use Hansen is that it has global coverage so then the methodology would be applicable anywhere."
   ]
  },
  {
   "cell_type": "code",
   "execution_count": 25,
   "metadata": {},
   "outputs": [],
   "source": [
    "import geopandas as gpd\n",
    "import pandas as pd\n",
    "import numpy as np"
   ]
  },
  {
   "cell_type": "code",
   "execution_count": 4,
   "metadata": {},
   "outputs": [
    {
     "data": {
      "text/html": [
       "<div>\n",
       "<style scoped>\n",
       "    .dataframe tbody tr th:only-of-type {\n",
       "        vertical-align: middle;\n",
       "    }\n",
       "\n",
       "    .dataframe tbody tr th {\n",
       "        vertical-align: top;\n",
       "    }\n",
       "\n",
       "    .dataframe thead th {\n",
       "        text-align: right;\n",
       "    }\n",
       "</style>\n",
       "<table border=\"1\" class=\"dataframe\">\n",
       "  <thead>\n",
       "    <tr style=\"text-align: right;\">\n",
       "      <th></th>\n",
       "      <th>CLASSNAME</th>\n",
       "      <th>QUADRANT</th>\n",
       "      <th>PATH_ROW</th>\n",
       "      <th>VIEW_DATE</th>\n",
       "      <th>SENSOR</th>\n",
       "      <th>SATELLITE</th>\n",
       "      <th>AREAUCKM</th>\n",
       "      <th>UC</th>\n",
       "      <th>AREAMUNKM</th>\n",
       "      <th>MUNICIPALI</th>\n",
       "      <th>GEOCODIBGE</th>\n",
       "      <th>UF</th>\n",
       "      <th>geometry</th>\n",
       "    </tr>\n",
       "  </thead>\n",
       "  <tbody>\n",
       "    <tr>\n",
       "      <th>0</th>\n",
       "      <td>CS_DESORDENADO</td>\n",
       "      <td>None</td>\n",
       "      <td>177111</td>\n",
       "      <td>2021-10-02</td>\n",
       "      <td>AWFI</td>\n",
       "      <td>CBERS-4</td>\n",
       "      <td>0.0</td>\n",
       "      <td>None</td>\n",
       "      <td>2.473354</td>\n",
       "      <td>Porto Velho</td>\n",
       "      <td>1100205</td>\n",
       "      <td>RO</td>\n",
       "      <td>POLYGON ((-65.72031 -9.55796, -65.71991 -9.557...</td>\n",
       "    </tr>\n",
       "    <tr>\n",
       "      <th>1</th>\n",
       "      <td>DESMATAMENTO_CR</td>\n",
       "      <td>None</td>\n",
       "      <td>177111</td>\n",
       "      <td>2021-10-02</td>\n",
       "      <td>AWFI</td>\n",
       "      <td>CBERS-4</td>\n",
       "      <td>0.0</td>\n",
       "      <td>None</td>\n",
       "      <td>0.070332</td>\n",
       "      <td>Sena Madureira</td>\n",
       "      <td>1200500</td>\n",
       "      <td>AC</td>\n",
       "      <td>POLYGON ((-68.85109 -9.90415, -68.85039 -9.903...</td>\n",
       "    </tr>\n",
       "    <tr>\n",
       "      <th>2</th>\n",
       "      <td>DESMATAMENTO_CR</td>\n",
       "      <td>None</td>\n",
       "      <td>177111</td>\n",
       "      <td>2021-10-02</td>\n",
       "      <td>AWFI</td>\n",
       "      <td>CBERS-4</td>\n",
       "      <td>0.0</td>\n",
       "      <td>None</td>\n",
       "      <td>0.128672</td>\n",
       "      <td>Labrea</td>\n",
       "      <td>1302405</td>\n",
       "      <td>AM</td>\n",
       "      <td>POLYGON ((-65.76534 -9.32607, -65.76502 -9.326...</td>\n",
       "    </tr>\n",
       "    <tr>\n",
       "      <th>3</th>\n",
       "      <td>DESMATAMENTO_CR</td>\n",
       "      <td>None</td>\n",
       "      <td>169105</td>\n",
       "      <td>2018-01-14</td>\n",
       "      <td>AWFI</td>\n",
       "      <td>CBERS-4</td>\n",
       "      <td>0.0</td>\n",
       "      <td>None</td>\n",
       "      <td>0.101666</td>\n",
       "      <td>obidos</td>\n",
       "      <td>1505106</td>\n",
       "      <td>PA</td>\n",
       "      <td>POLYGON ((-55.65637 -1.44008, -55.65618 -1.440...</td>\n",
       "    </tr>\n",
       "    <tr>\n",
       "      <th>4</th>\n",
       "      <td>DESMATAMENTO_CR</td>\n",
       "      <td>None</td>\n",
       "      <td>169105</td>\n",
       "      <td>2018-01-14</td>\n",
       "      <td>AWFI</td>\n",
       "      <td>CBERS-4</td>\n",
       "      <td>0.0</td>\n",
       "      <td>None</td>\n",
       "      <td>0.124988</td>\n",
       "      <td>obidos</td>\n",
       "      <td>1505106</td>\n",
       "      <td>PA</td>\n",
       "      <td>POLYGON ((-55.65314 -1.44255, -55.65314 -1.442...</td>\n",
       "    </tr>\n",
       "  </tbody>\n",
       "</table>\n",
       "</div>"
      ],
      "text/plain": [
       "         CLASSNAME QUADRANT PATH_ROW   VIEW_DATE SENSOR SATELLITE  AREAUCKM  \\\n",
       "0   CS_DESORDENADO     None   177111  2021-10-02   AWFI   CBERS-4       0.0   \n",
       "1  DESMATAMENTO_CR     None   177111  2021-10-02   AWFI   CBERS-4       0.0   \n",
       "2  DESMATAMENTO_CR     None   177111  2021-10-02   AWFI   CBERS-4       0.0   \n",
       "3  DESMATAMENTO_CR     None   169105  2018-01-14   AWFI   CBERS-4       0.0   \n",
       "4  DESMATAMENTO_CR     None   169105  2018-01-14   AWFI   CBERS-4       0.0   \n",
       "\n",
       "     UC  AREAMUNKM      MUNICIPALI GEOCODIBGE  UF  \\\n",
       "0  None   2.473354     Porto Velho    1100205  RO   \n",
       "1  None   0.070332  Sena Madureira    1200500  AC   \n",
       "2  None   0.128672          Labrea    1302405  AM   \n",
       "3  None   0.101666          obidos    1505106  PA   \n",
       "4  None   0.124988          obidos    1505106  PA   \n",
       "\n",
       "                                            geometry  \n",
       "0  POLYGON ((-65.72031 -9.55796, -65.71991 -9.557...  \n",
       "1  POLYGON ((-68.85109 -9.90415, -68.85039 -9.903...  \n",
       "2  POLYGON ((-65.76534 -9.32607, -65.76502 -9.326...  \n",
       "3  POLYGON ((-55.65637 -1.44008, -55.65618 -1.440...  \n",
       "4  POLYGON ((-55.65314 -1.44255, -55.65314 -1.442...  "
      ]
     },
     "execution_count": 4,
     "metadata": {},
     "output_type": "execute_result"
    }
   ],
   "source": [
    "deter = gpd.read_file(\"../data/sample_data/DETER/deter_public.shp\")\n",
    "deter.head()"
   ]
  },
  {
   "cell_type": "code",
   "execution_count": 30,
   "metadata": {},
   "outputs": [
    {
     "data": {
      "text/plain": [
       "Text(0, 0.5, 'Count')"
      ]
     },
     "execution_count": 30,
     "metadata": {},
     "output_type": "execute_result"
    },
    {
     "data": {
      "image/png": "[encoded data removed]",
      "text/plain": [
       "<Figure size 432x288 with 1 Axes>"
      ]
     },
     "metadata": {
      "needs_background": "light"
     },
     "output_type": "display_data"
    }
   ],
   "source": [
    "#deter.index = pd.to_datetime(deter.VIEW_DATE)\n",
    "#deter_monthly = deter.groupby(pd.Grouper(freq='M'))\n",
    "deter['month'] = pd.to_datetime(deter.VIEW_DATE).dt.month\n",
    "plot = deter.month.hist()\n",
    "\n",
    "plot.set_title(\"Annual distribution of DETER deforestation polygons\")\n",
    "plot.set_xlabel(\"Month - January to December\")\n",
    "plot.set_ylabel(\"Count\")\n"
   ]
  },
  {
   "cell_type": "code",
   "execution_count": 26,
   "metadata": {},
   "outputs": [
    {
     "name": "stdout",
     "output_type": "stream",
     "text": [
      "[2016 2017 2018 2019 2020 2021 2022]\n"
     ]
    },
    {
     "data": {
      "image/png": "[encoded data removed]",
      "text/plain": [
       "<Figure size 432x288 with 1 Axes>"
      ]
     },
     "metadata": {
      "needs_background": "light"
     },
     "output_type": "display_data"
    }
   ],
   "source": [
    "deter['year'] = pd.to_datetime(deter.VIEW_DATE).dt.year\n",
    "plot = deter.year.hist()\n",
    "\n",
    "plot.set_title(\"Distribution of DETER deforestation polygons by year\")\n",
    "plot.set_xlabel(\"Year\")\n",
    "plot.set_ylabel(\"Count\")\n",
    "print(np.unique(deter.year))"
   ]
  },
  {
   "cell_type": "code",
   "execution_count": 33,
   "metadata": {},
   "outputs": [
    {
     "data": {
      "text/plain": [
       "Text(0, 0.5, 'Count')"
      ]
     },
     "execution_count": 33,
     "metadata": {},
     "output_type": "execute_result"
    },
    {
     "data": {
      "image/png": "[encoded data removed]",
      "text/plain": [
       "<Figure size 432x288 with 1 Axes>"
      ]
     },
     "metadata": {
      "needs_background": "light"
     },
     "output_type": "display_data"
    }
   ],
   "source": [
    "mapb = gpd.read_file(\"/Users/janpisl/Documents/EPFL/workdir/sample_data/MapBiomas/dashboard_alerts-shapefilePolygon.shp\")\n",
    "mapb.head()\n",
    "\n",
    "\n",
    "mapb['month'] = pd.to_datetime(mapb.DataDetec).dt.month\n",
    "plot = mapb.month.hist()\n",
    "plot.set_title(\"Annual distribution of MapBiomas deforestation polygons\")\n",
    "plot.set_xlabel(\"Month - January to December\")\n",
    "plot.set_ylabel(\"Count\")"
   ]
  },
  {
   "cell_type": "markdown",
   "metadata": {},
   "source": [
    "Here I clip DETER by my AOI and then extract alerts within AOI separately for July, August, September 2019."
   ]
  },
  {
   "cell_type": "code",
   "execution_count": 11,
   "metadata": {},
   "outputs": [],
   "source": [
    "aoi = gpd.read_file(\"../data/aoi_1/vector/aoi_1.geojson\")\n",
    "aoi = aoi.to_crs(deter.crs)"
   ]
  },
  {
   "cell_type": "code",
   "execution_count": 12,
   "metadata": {},
   "outputs": [],
   "source": [
    "clipped_deter = deter.clip(aoi)\n"
   ]
  },
  {
   "cell_type": "code",
   "execution_count": 15,
   "metadata": {},
   "outputs": [],
   "source": [
    "clipped_deter['date'] = pd.to_datetime(clipped_deter.VIEW_DATE)"
   ]
  },
  {
   "cell_type": "code",
   "execution_count": 19,
   "metadata": {},
   "outputs": [
    {
     "data": {
      "text/plain": [
       "<AxesSubplot:>"
      ]
     },
     "execution_count": 19,
     "metadata": {},
     "output_type": "execute_result"
    },
    {
     "data": {
      "image/png": "[encoded data removed]",
      "text/plain": [
       "<Figure size 432x288 with 1 Axes>"
      ]
     },
     "metadata": {
      "needs_background": "light"
     },
     "output_type": "display_data"
    }
   ],
   "source": [
    "clipped_deter.query('20190701 < date < 20191001').plot()"
   ]
  },
  {
   "cell_type": "code",
   "execution_count": 27,
   "metadata": {},
   "outputs": [
    {
     "name": "stdout",
     "output_type": "stream",
     "text": [
      "[2017 2018 2019 2020 2021 2022]\n"
     ]
    },
    {
     "data": {
      "image/png": "[encoded data removed]",
      "text/plain": [
       "<Figure size 432x288 with 1 Axes>"
      ]
     },
     "metadata": {
      "needs_background": "light"
     },
     "output_type": "display_data"
    }
   ],
   "source": [
    "clipped_deter['year'] = pd.to_datetime(clipped_deter.VIEW_DATE).dt.year\n",
    "plot = clipped_deter.year.hist()\n",
    "\n",
    "plot.set_title(\"Distribution of DETER deforestation polygons by year\")\n",
    "plot.set_xlabel(\"Year\")\n",
    "plot.set_ylabel(\"Count\")\n",
    "print(np.unique(clipped_deter.year))"
   ]
  },
  {
   "cell_type": "code",
   "execution_count": null,
   "metadata": {},
   "outputs": [],
   "source": []
  },
  {
   "cell_type": "code",
   "execution_count": null,
   "metadata": {},
   "outputs": [],
   "source": []
  }
 ],
 "metadata": {
  "interpreter": {
   "hash": "ed0d5165fde6336af43e98beed8c8cc4390213f314ddbf79d35dc3e0efe92c7d"
  },
  "kernelspec": {
   "display_name": "Python 3.9.10 ('gee')",
   "language": "python",
   "name": "python3"
  },
  "language_info": {
   "codemirror_mode": {
    "name": "ipython",
    "version": 3
   },
   "file_extension": ".py",
   "mimetype": "text/x-python",
   "name": "python",
   "nbconvert_exporter": "python",
   "pygments_lexer": "ipython3",
   "version": "3.9.7"
  },
  "orig_nbformat": 4
 },
 "nbformat": 4,
 "nbformat_minor": 2
}
