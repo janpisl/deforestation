{
 "cells": [
  {
   "cell_type": "markdown",
   "metadata": {},
   "source": [
    "The goal of this notebook is to explore DETER data within the first AOI i selected. group by month and make a histogram to see if DETER polygons are more clustered in dry season which would indicate they are also delayed by clouds (which might or might not be the case since they use some SAR data as well I think). Also, look at MapBiomas for the same period (and perhaps PRODES and Hansen) and visually compare them against the S-2 images.\n",
    "\n",
    "As for PRODES v. Hansen, one compelling reason to use Hansen is that it has global coverage so then the methodology would be applicable anywhere."
   ]
  },
  {
   "cell_type": "code",
   "execution_count": 54,
   "metadata": {},
   "outputs": [],
   "source": [
    "import geopandas as gpd\n",
    "import pandas as pd\n",
    "import numpy as np\n",
    "import rasterio\n",
    "import rasterio.mask\n",
    "\n",
    "import os"
   ]
  },
  {
   "cell_type": "code",
   "execution_count": 2,
   "metadata": {},
   "outputs": [
    {
     "data": {
      "text/html": [
       "<div>\n",
       "<style scoped>\n",
       "    .dataframe tbody tr th:only-of-type {\n",
       "        vertical-align: middle;\n",
       "    }\n",
       "\n",
       "    .dataframe tbody tr th {\n",
       "        vertical-align: top;\n",
       "    }\n",
       "\n",
       "    .dataframe thead th {\n",
       "        text-align: right;\n",
       "    }\n",
       "</style>\n",
       "<table border=\"1\" class=\"dataframe\">\n",
       "  <thead>\n",
       "    <tr style=\"text-align: right;\">\n",
       "      <th></th>\n",
       "      <th>CLASSNAME</th>\n",
       "      <th>QUADRANT</th>\n",
       "      <th>PATH_ROW</th>\n",
       "      <th>VIEW_DATE</th>\n",
       "      <th>SENSOR</th>\n",
       "      <th>SATELLITE</th>\n",
       "      <th>AREAUCKM</th>\n",
       "      <th>UC</th>\n",
       "      <th>AREAMUNKM</th>\n",
       "      <th>MUNICIPALI</th>\n",
       "      <th>GEOCODIBGE</th>\n",
       "      <th>UF</th>\n",
       "      <th>geometry</th>\n",
       "    </tr>\n",
       "  </thead>\n",
       "  <tbody>\n",
       "    <tr>\n",
       "      <th>0</th>\n",
       "      <td>CS_DESORDENADO</td>\n",
       "      <td>None</td>\n",
       "      <td>177111</td>\n",
       "      <td>2021-10-02</td>\n",
       "      <td>AWFI</td>\n",
       "      <td>CBERS-4</td>\n",
       "      <td>0.0</td>\n",
       "      <td>None</td>\n",
       "      <td>2.473354</td>\n",
       "      <td>Porto Velho</td>\n",
       "      <td>1100205</td>\n",
       "      <td>RO</td>\n",
       "      <td>POLYGON ((-65.72031 -9.55796, -65.71991 -9.557...</td>\n",
       "    </tr>\n",
       "    <tr>\n",
       "      <th>1</th>\n",
       "      <td>DESMATAMENTO_CR</td>\n",
       "      <td>None</td>\n",
       "      <td>177111</td>\n",
       "      <td>2021-10-02</td>\n",
       "      <td>AWFI</td>\n",
       "      <td>CBERS-4</td>\n",
       "      <td>0.0</td>\n",
       "      <td>None</td>\n",
       "      <td>0.070332</td>\n",
       "      <td>Sena Madureira</td>\n",
       "      <td>1200500</td>\n",
       "      <td>AC</td>\n",
       "      <td>POLYGON ((-68.85109 -9.90415, -68.85039 -9.903...</td>\n",
       "    </tr>\n",
       "    <tr>\n",
       "      <th>2</th>\n",
       "      <td>DESMATAMENTO_CR</td>\n",
       "      <td>None</td>\n",
       "      <td>177111</td>\n",
       "      <td>2021-10-02</td>\n",
       "      <td>AWFI</td>\n",
       "      <td>CBERS-4</td>\n",
       "      <td>0.0</td>\n",
       "      <td>None</td>\n",
       "      <td>0.128672</td>\n",
       "      <td>Labrea</td>\n",
       "      <td>1302405</td>\n",
       "      <td>AM</td>\n",
       "      <td>POLYGON ((-65.76534 -9.32607, -65.76502 -9.326...</td>\n",
       "    </tr>\n",
       "    <tr>\n",
       "      <th>3</th>\n",
       "      <td>DESMATAMENTO_CR</td>\n",
       "      <td>None</td>\n",
       "      <td>169105</td>\n",
       "      <td>2018-01-14</td>\n",
       "      <td>AWFI</td>\n",
       "      <td>CBERS-4</td>\n",
       "      <td>0.0</td>\n",
       "      <td>None</td>\n",
       "      <td>0.101666</td>\n",
       "      <td>obidos</td>\n",
       "      <td>1505106</td>\n",
       "      <td>PA</td>\n",
       "      <td>POLYGON ((-55.65637 -1.44008, -55.65618 -1.440...</td>\n",
       "    </tr>\n",
       "    <tr>\n",
       "      <th>4</th>\n",
       "      <td>DESMATAMENTO_CR</td>\n",
       "      <td>None</td>\n",
       "      <td>169105</td>\n",
       "      <td>2018-01-14</td>\n",
       "      <td>AWFI</td>\n",
       "      <td>CBERS-4</td>\n",
       "      <td>0.0</td>\n",
       "      <td>None</td>\n",
       "      <td>0.124988</td>\n",
       "      <td>obidos</td>\n",
       "      <td>1505106</td>\n",
       "      <td>PA</td>\n",
       "      <td>POLYGON ((-55.65314 -1.44255, -55.65314 -1.442...</td>\n",
       "    </tr>\n",
       "  </tbody>\n",
       "</table>\n",
       "</div>"
      ],
      "text/plain": [
       "         CLASSNAME QUADRANT PATH_ROW   VIEW_DATE SENSOR SATELLITE  AREAUCKM  \\\n",
       "0   CS_DESORDENADO     None   177111  2021-10-02   AWFI   CBERS-4       0.0   \n",
       "1  DESMATAMENTO_CR     None   177111  2021-10-02   AWFI   CBERS-4       0.0   \n",
       "2  DESMATAMENTO_CR     None   177111  2021-10-02   AWFI   CBERS-4       0.0   \n",
       "3  DESMATAMENTO_CR     None   169105  2018-01-14   AWFI   CBERS-4       0.0   \n",
       "4  DESMATAMENTO_CR     None   169105  2018-01-14   AWFI   CBERS-4       0.0   \n",
       "\n",
       "     UC  AREAMUNKM      MUNICIPALI GEOCODIBGE  UF  \\\n",
       "0  None   2.473354     Porto Velho    1100205  RO   \n",
       "1  None   0.070332  Sena Madureira    1200500  AC   \n",
       "2  None   0.128672          Labrea    1302405  AM   \n",
       "3  None   0.101666          obidos    1505106  PA   \n",
       "4  None   0.124988          obidos    1505106  PA   \n",
       "\n",
       "                                            geometry  \n",
       "0  POLYGON ((-65.72031 -9.55796, -65.71991 -9.557...  \n",
       "1  POLYGON ((-68.85109 -9.90415, -68.85039 -9.903...  \n",
       "2  POLYGON ((-65.76534 -9.32607, -65.76502 -9.326...  \n",
       "3  POLYGON ((-55.65637 -1.44008, -55.65618 -1.440...  \n",
       "4  POLYGON ((-55.65314 -1.44255, -55.65314 -1.442...  "
      ]
     },
     "execution_count": 2,
     "metadata": {},
     "output_type": "execute_result"
    }
   ],
   "source": [
    "deter = gpd.read_file(\"../data/sample_data/DETER/deter_public.shp\")\n",
    "deter.head()"
   ]
  },
  {
   "cell_type": "code",
   "execution_count": 3,
   "metadata": {},
   "outputs": [
    {
     "data": {
      "text/plain": [
       "Text(0, 0.5, 'Count')"
      ]
     },
     "execution_count": 3,
     "metadata": {},
     "output_type": "execute_result"
    },
    {
     "data": {
      "image/png": "[encoded data removed]",
      "text/plain": [
       "<Figure size 432x288 with 1 Axes>"
      ]
     },
     "metadata": {
      "needs_background": "light"
     },
     "output_type": "display_data"
    }
   ],
   "source": [
    "#deter.index = pd.to_datetime(deter.VIEW_DATE)\n",
    "#deter_monthly = deter.groupby(pd.Grouper(freq='M'))\n",
    "deter['month'] = pd.to_datetime(deter.VIEW_DATE).dt.month\n",
    "plot = deter.month.hist()\n",
    "\n",
    "plot.set_title(\"Annual distribution of DETER deforestation polygons\")\n",
    "plot.set_xlabel(\"Month - January to December\")\n",
    "plot.set_ylabel(\"Count\")\n"
   ]
  },
  {
   "cell_type": "code",
   "execution_count": 4,
   "metadata": {},
   "outputs": [
    {
     "name": "stdout",
     "output_type": "stream",
     "text": [
      "[2016 2017 2018 2019 2020 2021 2022]\n"
     ]
    },
    {
     "data": {
      "image/png": "[encoded data removed]",
      "text/plain": [
       "<Figure size 432x288 with 1 Axes>"
      ]
     },
     "metadata": {
      "needs_background": "light"
     },
     "output_type": "display_data"
    }
   ],
   "source": [
    "deter['year'] = pd.to_datetime(deter.VIEW_DATE).dt.year\n",
    "plot = deter.year.hist()\n",
    "\n",
    "plot.set_title(\"Distribution of DETER deforestation polygons by year\")\n",
    "plot.set_xlabel(\"Year\")\n",
    "plot.set_ylabel(\"Count\")\n",
    "print(np.unique(deter.year))"
   ]
  },
  {
   "cell_type": "code",
   "execution_count": 5,
   "metadata": {},
   "outputs": [
    {
     "ename": "DriverError",
     "evalue": "/Users/janpisl/Documents/EPFL/workdir/sample_data/MapBiomas/dashboard_alerts-shapefilePolygon.shp: No such file or directory",
     "output_type": "error",
     "traceback": [
      "\u001b[0;31m---------------------------------------------------------------------------\u001b[0m",
      "\u001b[0;31mCPLE_OpenFailedError\u001b[0m                      Traceback (most recent call last)",
      "File \u001b[0;32mfiona/_shim.pyx:83\u001b[0m, in \u001b[0;36mfiona._shim.gdal_open_vector\u001b[0;34m()\u001b[0m\n",
      "File \u001b[0;32mfiona/_err.pyx:270\u001b[0m, in \u001b[0;36mfiona._err.exc_wrap_pointer\u001b[0;34m()\u001b[0m\n",
      "\u001b[0;31mCPLE_OpenFailedError\u001b[0m: /Users/janpisl/Documents/EPFL/workdir/sample_data/MapBiomas/dashboard_alerts-shapefilePolygon.shp: No such file or directory",
      "\nDuring handling of the above exception, another exception occurred:\n",
      "\u001b[0;31mDriverError\u001b[0m                               Traceback (most recent call last)",
      "\u001b[1;32m/Users/janpisl/Documents/EPFL/deforestation/notebooks/alerts_EDA.ipynb Cell 6'\u001b[0m in \u001b[0;36m<module>\u001b[0;34m\u001b[0m\n\u001b[0;32m----> <a href='vscode-notebook-cell:/Users/janpisl/Documents/EPFL/deforestation/notebooks/alerts_EDA.ipynb#ch0000005?line=0'>1</a>\u001b[0m mapb \u001b[39m=\u001b[39m gpd\u001b[39m.\u001b[39;49mread_file(\u001b[39m\"\u001b[39;49m\u001b[39m/Users/janpisl/Documents/EPFL/workdir/sample_data/MapBiomas/dashboard_alerts-shapefilePolygon.shp\u001b[39;49m\u001b[39m\"\u001b[39;49m)\n\u001b[1;32m      <a href='vscode-notebook-cell:/Users/janpisl/Documents/EPFL/deforestation/notebooks/alerts_EDA.ipynb#ch0000005?line=1'>2</a>\u001b[0m mapb\u001b[39m.\u001b[39mhead()\n\u001b[1;32m      <a href='vscode-notebook-cell:/Users/janpisl/Documents/EPFL/deforestation/notebooks/alerts_EDA.ipynb#ch0000005?line=4'>5</a>\u001b[0m mapb[\u001b[39m'\u001b[39m\u001b[39mmonth\u001b[39m\u001b[39m'\u001b[39m] \u001b[39m=\u001b[39m pd\u001b[39m.\u001b[39mto_datetime(mapb\u001b[39m.\u001b[39mDataDetec)\u001b[39m.\u001b[39mdt\u001b[39m.\u001b[39mmonth\n",
      "File \u001b[0;32m~/miniconda3/envs/gee/lib/python3.9/site-packages/geopandas/io/file.py:160\u001b[0m, in \u001b[0;36m_read_file\u001b[0;34m(filename, bbox, mask, rows, **kwargs)\u001b[0m\n\u001b[1;32m    <a href='file:///~/miniconda3/envs/gee/lib/python3.9/site-packages/geopandas/io/file.py?line=156'>157</a>\u001b[0m     reader \u001b[39m=\u001b[39m fiona\u001b[39m.\u001b[39mopen\n\u001b[1;32m    <a href='file:///~/miniconda3/envs/gee/lib/python3.9/site-packages/geopandas/io/file.py?line=158'>159</a>\u001b[0m \u001b[39mwith\u001b[39;00m fiona_env():\n\u001b[0;32m--> <a href='file:///~/miniconda3/envs/gee/lib/python3.9/site-packages/geopandas/io/file.py?line=159'>160</a>\u001b[0m     \u001b[39mwith\u001b[39;00m reader(path_or_bytes, \u001b[39m*\u001b[39;49m\u001b[39m*\u001b[39;49mkwargs) \u001b[39mas\u001b[39;00m features:\n\u001b[1;32m    <a href='file:///~/miniconda3/envs/gee/lib/python3.9/site-packages/geopandas/io/file.py?line=160'>161</a>\u001b[0m \n\u001b[1;32m    <a href='file:///~/miniconda3/envs/gee/lib/python3.9/site-packages/geopandas/io/file.py?line=161'>162</a>\u001b[0m         \u001b[39m# In a future Fiona release the crs attribute of features will\u001b[39;00m\n\u001b[1;32m    <a href='file:///~/miniconda3/envs/gee/lib/python3.9/site-packages/geopandas/io/file.py?line=162'>163</a>\u001b[0m         \u001b[39m# no longer be a dict, but will behave like a dict. So this should\u001b[39;00m\n\u001b[1;32m    <a href='file:///~/miniconda3/envs/gee/lib/python3.9/site-packages/geopandas/io/file.py?line=163'>164</a>\u001b[0m         \u001b[39m# be forwards compatible\u001b[39;00m\n\u001b[1;32m    <a href='file:///~/miniconda3/envs/gee/lib/python3.9/site-packages/geopandas/io/file.py?line=164'>165</a>\u001b[0m         crs \u001b[39m=\u001b[39m (\n\u001b[1;32m    <a href='file:///~/miniconda3/envs/gee/lib/python3.9/site-packages/geopandas/io/file.py?line=165'>166</a>\u001b[0m             features\u001b[39m.\u001b[39mcrs[\u001b[39m\"\u001b[39m\u001b[39minit\u001b[39m\u001b[39m\"\u001b[39m]\n\u001b[1;32m    <a href='file:///~/miniconda3/envs/gee/lib/python3.9/site-packages/geopandas/io/file.py?line=166'>167</a>\u001b[0m             \u001b[39mif\u001b[39;00m features\u001b[39m.\u001b[39mcrs \u001b[39mand\u001b[39;00m \u001b[39m\"\u001b[39m\u001b[39minit\u001b[39m\u001b[39m\"\u001b[39m \u001b[39min\u001b[39;00m features\u001b[39m.\u001b[39mcrs\n\u001b[1;32m    <a href='file:///~/miniconda3/envs/gee/lib/python3.9/site-packages/geopandas/io/file.py?line=167'>168</a>\u001b[0m             \u001b[39melse\u001b[39;00m features\u001b[39m.\u001b[39mcrs_wkt\n\u001b[1;32m    <a href='file:///~/miniconda3/envs/gee/lib/python3.9/site-packages/geopandas/io/file.py?line=168'>169</a>\u001b[0m         )\n\u001b[1;32m    <a href='file:///~/miniconda3/envs/gee/lib/python3.9/site-packages/geopandas/io/file.py?line=170'>171</a>\u001b[0m         \u001b[39m# handle loading the bounding box\u001b[39;00m\n",
      "File \u001b[0;32m~/miniconda3/envs/gee/lib/python3.9/site-packages/fiona/env.py:398\u001b[0m, in \u001b[0;36mensure_env_with_credentials.<locals>.wrapper\u001b[0;34m(*args, **kwargs)\u001b[0m\n\u001b[1;32m    <a href='file:///~/miniconda3/envs/gee/lib/python3.9/site-packages/fiona/env.py?line=394'>395</a>\u001b[0m \u001b[39m@wraps\u001b[39m(f)\n\u001b[1;32m    <a href='file:///~/miniconda3/envs/gee/lib/python3.9/site-packages/fiona/env.py?line=395'>396</a>\u001b[0m \u001b[39mdef\u001b[39;00m \u001b[39mwrapper\u001b[39m(\u001b[39m*\u001b[39margs, \u001b[39m*\u001b[39m\u001b[39m*\u001b[39mkwargs):\n\u001b[1;32m    <a href='file:///~/miniconda3/envs/gee/lib/python3.9/site-packages/fiona/env.py?line=396'>397</a>\u001b[0m     \u001b[39mif\u001b[39;00m local\u001b[39m.\u001b[39m_env:\n\u001b[0;32m--> <a href='file:///~/miniconda3/envs/gee/lib/python3.9/site-packages/fiona/env.py?line=397'>398</a>\u001b[0m         \u001b[39mreturn\u001b[39;00m f(\u001b[39m*\u001b[39;49margs, \u001b[39m*\u001b[39;49m\u001b[39m*\u001b[39;49mkwargs)\n\u001b[1;32m    <a href='file:///~/miniconda3/envs/gee/lib/python3.9/site-packages/fiona/env.py?line=398'>399</a>\u001b[0m     \u001b[39melse\u001b[39;00m:\n\u001b[1;32m    <a href='file:///~/miniconda3/envs/gee/lib/python3.9/site-packages/fiona/env.py?line=399'>400</a>\u001b[0m         \u001b[39mif\u001b[39;00m \u001b[39misinstance\u001b[39m(args[\u001b[39m0\u001b[39m], \u001b[39mstr\u001b[39m):\n",
      "File \u001b[0;32m~/miniconda3/envs/gee/lib/python3.9/site-packages/fiona/__init__.py:253\u001b[0m, in \u001b[0;36mopen\u001b[0;34m(fp, mode, driver, schema, crs, encoding, layer, vfs, enabled_drivers, crs_wkt, **kwargs)\u001b[0m\n\u001b[1;32m    <a href='file:///~/miniconda3/envs/gee/lib/python3.9/site-packages/fiona/__init__.py?line=249'>250</a>\u001b[0m     path \u001b[39m=\u001b[39m parse_path(fp)\n\u001b[1;32m    <a href='file:///~/miniconda3/envs/gee/lib/python3.9/site-packages/fiona/__init__.py?line=251'>252</a>\u001b[0m \u001b[39mif\u001b[39;00m mode \u001b[39min\u001b[39;00m (\u001b[39m'\u001b[39m\u001b[39ma\u001b[39m\u001b[39m'\u001b[39m, \u001b[39m'\u001b[39m\u001b[39mr\u001b[39m\u001b[39m'\u001b[39m):\n\u001b[0;32m--> <a href='file:///~/miniconda3/envs/gee/lib/python3.9/site-packages/fiona/__init__.py?line=252'>253</a>\u001b[0m     c \u001b[39m=\u001b[39m Collection(path, mode, driver\u001b[39m=\u001b[39;49mdriver, encoding\u001b[39m=\u001b[39;49mencoding,\n\u001b[1;32m    <a href='file:///~/miniconda3/envs/gee/lib/python3.9/site-packages/fiona/__init__.py?line=253'>254</a>\u001b[0m                    layer\u001b[39m=\u001b[39;49mlayer, enabled_drivers\u001b[39m=\u001b[39;49menabled_drivers, \u001b[39m*\u001b[39;49m\u001b[39m*\u001b[39;49mkwargs)\n\u001b[1;32m    <a href='file:///~/miniconda3/envs/gee/lib/python3.9/site-packages/fiona/__init__.py?line=254'>255</a>\u001b[0m \u001b[39melif\u001b[39;00m mode \u001b[39m==\u001b[39m \u001b[39m'\u001b[39m\u001b[39mw\u001b[39m\u001b[39m'\u001b[39m:\n\u001b[1;32m    <a href='file:///~/miniconda3/envs/gee/lib/python3.9/site-packages/fiona/__init__.py?line=255'>256</a>\u001b[0m     \u001b[39mif\u001b[39;00m schema:\n\u001b[1;32m    <a href='file:///~/miniconda3/envs/gee/lib/python3.9/site-packages/fiona/__init__.py?line=256'>257</a>\u001b[0m         \u001b[39m# Make an ordered dict of schema properties.\u001b[39;00m\n",
      "File \u001b[0;32m~/miniconda3/envs/gee/lib/python3.9/site-packages/fiona/collection.py:154\u001b[0m, in \u001b[0;36mCollection.__init__\u001b[0;34m(self, path, mode, driver, schema, crs, encoding, layer, vsi, archive, enabled_drivers, crs_wkt, ignore_fields, ignore_geometry, **kwargs)\u001b[0m\n\u001b[1;32m    <a href='file:///~/miniconda3/envs/gee/lib/python3.9/site-packages/fiona/collection.py?line=151'>152</a>\u001b[0m \u001b[39mif\u001b[39;00m \u001b[39mself\u001b[39m\u001b[39m.\u001b[39mmode \u001b[39m==\u001b[39m \u001b[39m'\u001b[39m\u001b[39mr\u001b[39m\u001b[39m'\u001b[39m:\n\u001b[1;32m    <a href='file:///~/miniconda3/envs/gee/lib/python3.9/site-packages/fiona/collection.py?line=152'>153</a>\u001b[0m     \u001b[39mself\u001b[39m\u001b[39m.\u001b[39msession \u001b[39m=\u001b[39m Session()\n\u001b[0;32m--> <a href='file:///~/miniconda3/envs/gee/lib/python3.9/site-packages/fiona/collection.py?line=153'>154</a>\u001b[0m     \u001b[39mself\u001b[39;49m\u001b[39m.\u001b[39;49msession\u001b[39m.\u001b[39;49mstart(\u001b[39mself\u001b[39;49m, \u001b[39m*\u001b[39;49m\u001b[39m*\u001b[39;49mkwargs)\n\u001b[1;32m    <a href='file:///~/miniconda3/envs/gee/lib/python3.9/site-packages/fiona/collection.py?line=154'>155</a>\u001b[0m \u001b[39melif\u001b[39;00m \u001b[39mself\u001b[39m\u001b[39m.\u001b[39mmode \u001b[39min\u001b[39;00m (\u001b[39m'\u001b[39m\u001b[39ma\u001b[39m\u001b[39m'\u001b[39m, \u001b[39m'\u001b[39m\u001b[39mw\u001b[39m\u001b[39m'\u001b[39m):\n\u001b[1;32m    <a href='file:///~/miniconda3/envs/gee/lib/python3.9/site-packages/fiona/collection.py?line=155'>156</a>\u001b[0m     \u001b[39mself\u001b[39m\u001b[39m.\u001b[39msession \u001b[39m=\u001b[39m WritingSession()\n",
      "File \u001b[0;32mfiona/ogrext.pyx:484\u001b[0m, in \u001b[0;36mfiona.ogrext.Session.start\u001b[0;34m()\u001b[0m\n",
      "File \u001b[0;32mfiona/_shim.pyx:90\u001b[0m, in \u001b[0;36mfiona._shim.gdal_open_vector\u001b[0;34m()\u001b[0m\n",
      "\u001b[0;31mDriverError\u001b[0m: /Users/janpisl/Documents/EPFL/workdir/sample_data/MapBiomas/dashboard_alerts-shapefilePolygon.shp: No such file or directory"
     ]
    }
   ],
   "source": [
    "mapb = gpd.read_file(\"/Users/janpisl/Documents/EPFL/workdir/sample_data/MapBiomas/dashboard_alerts-shapefilePolygon.shp\")\n",
    "mapb.head()\n",
    "\n",
    "\n",
    "mapb['month'] = pd.to_datetime(mapb.DataDetec).dt.month\n",
    "plot = mapb.month.hist()\n",
    "plot.set_title(\"Annual distribution of MapBiomas deforestation polygons\")\n",
    "plot.set_xlabel(\"Month - January to December\")\n",
    "plot.set_ylabel(\"Count\")"
   ]
  },
  {
   "cell_type": "markdown",
   "metadata": {},
   "source": [
    "Here I clip DETER by my AOI and then extract alerts within AOI separately for July, August, September 2019."
   ]
  },
  {
   "cell_type": "code",
   "execution_count": 6,
   "metadata": {},
   "outputs": [],
   "source": [
    "aoi = gpd.read_file(\"../data/aoi_1/vector/aoi_1.geojson\")\n",
    "aoi = aoi.to_crs(deter.crs)"
   ]
  },
  {
   "cell_type": "code",
   "execution_count": 9,
   "metadata": {},
   "outputs": [],
   "source": [
    "clipped_deter = gpd.clip(deter, aoi)\n"
   ]
  },
  {
   "cell_type": "code",
   "execution_count": 10,
   "metadata": {},
   "outputs": [],
   "source": [
    "clipped_deter['date'] = pd.to_datetime(clipped_deter.VIEW_DATE)"
   ]
  },
  {
   "cell_type": "code",
   "execution_count": 8,
   "metadata": {},
   "outputs": [
    {
     "ename": "NameError",
     "evalue": "name 'clipped_deter' is not defined",
     "output_type": "error",
     "traceback": [
      "\u001b[0;31m---------------------------------------------------------------------------\u001b[0m",
      "\u001b[0;31mNameError\u001b[0m                                 Traceback (most recent call last)",
      "\u001b[1;32m/Users/janpisl/Documents/EPFL/deforestation/notebooks/alerts_EDA.ipynb Cell 11'\u001b[0m in \u001b[0;36m<module>\u001b[0;34m\u001b[0m\n\u001b[0;32m----> <a href='vscode-notebook-cell:/Users/janpisl/Documents/EPFL/deforestation/notebooks/alerts_EDA.ipynb#ch0000010?line=0'>1</a>\u001b[0m clipped_deter\u001b[39m.\u001b[39mquery(\u001b[39m'\u001b[39m\u001b[39m20190701 < date < 20191001\u001b[39m\u001b[39m'\u001b[39m)\u001b[39m.\u001b[39mplot()\n",
      "\u001b[0;31mNameError\u001b[0m: name 'clipped_deter' is not defined"
     ]
    }
   ],
   "source": [
    "clipped_deter.query('20190701 < date < 20191001').plot()"
   ]
  },
  {
   "cell_type": "code",
   "execution_count": 11,
   "metadata": {},
   "outputs": [
    {
     "name": "stdout",
     "output_type": "stream",
     "text": [
      "[2016 2017 2018 2019 2020 2021 2022]\n"
     ]
    },
    {
     "data": {
      "image/png": "[encoded data removed]",
      "text/plain": [
       "<Figure size 432x288 with 1 Axes>"
      ]
     },
     "metadata": {
      "needs_background": "light"
     },
     "output_type": "display_data"
    }
   ],
   "source": [
    "clipped_deter['year'] = pd.to_datetime(clipped_deter.VIEW_DATE).dt.year\n",
    "plot = clipped_deter.year.hist()\n",
    "\n",
    "plot.set_title(\"Distribution of DETER deforestation polygons by year\")\n",
    "plot.set_xlabel(\"Year\")\n",
    "plot.set_ylabel(\"Count\")\n",
    "print(np.unique(clipped_deter.year))"
   ]
  },
  {
   "cell_type": "markdown",
   "metadata": {},
   "source": [
    "Here I am gonna develop the code for generating labels. The procedure for a single DETER polygon is that i buffer the polygon, then open some raster, mask and clip this by the buffered polygon and write it to disk. i will use this new raster as a template for rasterizing the polygon.\n",
    "\n",
    "in the next step, i open the raster and burn the polygon in it"
   ]
  },
  {
   "cell_type": "code",
   "execution_count": 23,
   "metadata": {},
   "outputs": [],
   "source": [
    "subset = clipped_deter[11:12]\n",
    "#32722 is UTM 22S which is the right UTM zone for this area\n",
    "subset = subset.to_crs(32722)"
   ]
  },
  {
   "cell_type": "code",
   "execution_count": 35,
   "metadata": {},
   "outputs": [
    {
     "data": {
      "text/plain": [
       "count    2.482090e+05\n",
       "mean     5.457492e+05\n",
       "std      2.766549e+06\n",
       "min      9.736174e-04\n",
       "25%      9.390980e+04\n",
       "50%      1.540349e+05\n",
       "75%      3.290466e+05\n",
       "max      6.187093e+08\n",
       "dtype: float64"
      ]
     },
     "execution_count": 35,
     "metadata": {},
     "output_type": "execute_result"
    }
   ],
   "source": [
    "#deter_proj = deter.to_crs(32722)\n",
    "#deter_proj['area'] = deter_proj.geometry.area\n",
    "deter_proj.area.describe()\n"
   ]
  },
  {
   "cell_type": "code",
   "execution_count": 39,
   "metadata": {},
   "outputs": [
    {
     "data": {
      "text/html": [
       "<div>\n",
       "<style scoped>\n",
       "    .dataframe tbody tr th:only-of-type {\n",
       "        vertical-align: middle;\n",
       "    }\n",
       "\n",
       "    .dataframe tbody tr th {\n",
       "        vertical-align: top;\n",
       "    }\n",
       "\n",
       "    .dataframe thead th {\n",
       "        text-align: right;\n",
       "    }\n",
       "</style>\n",
       "<table border=\"1\" class=\"dataframe\">\n",
       "  <thead>\n",
       "    <tr style=\"text-align: right;\">\n",
       "      <th></th>\n",
       "      <th>CLASSNAME</th>\n",
       "      <th>QUADRANT</th>\n",
       "      <th>PATH_ROW</th>\n",
       "      <th>VIEW_DATE</th>\n",
       "      <th>SENSOR</th>\n",
       "      <th>SATELLITE</th>\n",
       "      <th>AREAUCKM</th>\n",
       "      <th>UC</th>\n",
       "      <th>AREAMUNKM</th>\n",
       "      <th>MUNICIPALI</th>\n",
       "      <th>GEOCODIBGE</th>\n",
       "      <th>UF</th>\n",
       "      <th>geometry</th>\n",
       "      <th>month</th>\n",
       "      <th>year</th>\n",
       "      <th>date</th>\n",
       "    </tr>\n",
       "  </thead>\n",
       "  <tbody>\n",
       "    <tr>\n",
       "      <th>2075</th>\n",
       "      <td>CICATRIZ_DE_QUEIMADA</td>\n",
       "      <td>None</td>\n",
       "      <td>165105</td>\n",
       "      <td>2020-09-17</td>\n",
       "      <td>AWFI</td>\n",
       "      <td>CBERS-4</td>\n",
       "      <td>0.0</td>\n",
       "      <td>None</td>\n",
       "      <td>0.12829</td>\n",
       "      <td>Altamira</td>\n",
       "      <td>1500602</td>\n",
       "      <td>PA</td>\n",
       "      <td>POLYGON ((214792.162 9310676.268, 214791.984 9...</td>\n",
       "      <td>9</td>\n",
       "      <td>2020</td>\n",
       "      <td>2020-09-17</td>\n",
       "    </tr>\n",
       "  </tbody>\n",
       "</table>\n",
       "</div>"
      ],
      "text/plain": [
       "                 CLASSNAME QUADRANT PATH_ROW   VIEW_DATE SENSOR SATELLITE  \\\n",
       "2075  CICATRIZ_DE_QUEIMADA     None   165105  2020-09-17   AWFI   CBERS-4   \n",
       "\n",
       "      AREAUCKM    UC  AREAMUNKM MUNICIPALI GEOCODIBGE  UF  \\\n",
       "2075       0.0  None    0.12829   Altamira    1500602  PA   \n",
       "\n",
       "                                               geometry  month  year  \\\n",
       "2075  POLYGON ((214792.162 9310676.268, 214791.984 9...      9  2020   \n",
       "\n",
       "           date  \n",
       "2075 2020-09-17  "
      ]
     },
     "execution_count": 39,
     "metadata": {},
     "output_type": "execute_result"
    }
   ],
   "source": [
    "subset"
   ]
  },
  {
   "cell_type": "code",
   "execution_count": 141,
   "metadata": {},
   "outputs": [
    {
     "data": {
      "text/html": [
       "<div>\n",
       "<style scoped>\n",
       "    .dataframe tbody tr th:only-of-type {\n",
       "        vertical-align: middle;\n",
       "    }\n",
       "\n",
       "    .dataframe tbody tr th {\n",
       "        vertical-align: top;\n",
       "    }\n",
       "\n",
       "    .dataframe thead th {\n",
       "        text-align: right;\n",
       "    }\n",
       "</style>\n",
       "<table border=\"1\" class=\"dataframe\">\n",
       "  <thead>\n",
       "    <tr style=\"text-align: right;\">\n",
       "      <th></th>\n",
       "      <th>minx</th>\n",
       "      <th>miny</th>\n",
       "      <th>maxx</th>\n",
       "      <th>maxy</th>\n",
       "    </tr>\n",
       "  </thead>\n",
       "  <tbody>\n",
       "    <tr>\n",
       "      <th>2075</th>\n",
       "      <td>214734.804941</td>\n",
       "      <td>9.310657e+06</td>\n",
       "      <td>215029.199383</td>\n",
       "      <td>9.311894e+06</td>\n",
       "    </tr>\n",
       "  </tbody>\n",
       "</table>\n",
       "</div>"
      ],
      "text/plain": [
       "               minx          miny           maxx          maxy\n",
       "2075  214734.804941  9.310657e+06  215029.199383  9.311894e+06"
      ]
     },
     "execution_count": 141,
     "metadata": {},
     "output_type": "execute_result"
    }
   ],
   "source": [
    "subset.buffer(100).plot()"
   ]
  },
  {
   "cell_type": "code",
   "execution_count": 51,
   "metadata": {},
   "outputs": [
    {
     "data": {
      "text/plain": [
       "'2020-09-17'"
      ]
     },
     "execution_count": 51,
     "metadata": {},
     "output_type": "execute_result"
    }
   ],
   "source": []
  },
  {
   "cell_type": "code",
   "execution_count": 52,
   "metadata": {},
   "outputs": [],
   "source": [
    "raster_path = '../data/aoi_1/raster/2019_2021/2019_01_02.tif'\n",
    "labels_dir = '../data/aoi_1/raster/labels/'\n",
    "\n",
    "date = subset.date.dt.strftime('%Y_%m_%d').values[0]\n",
    "id = subset.PATH_ROW.values[0]\n",
    "name = f\"{date}_deter_{id}.tif\"\n",
    "out_path = os.path.join(labels_dir, name)\n",
    "\n",
    "with rasterio.open(raster_path) as src:\n",
    "    out_image, out_transform = rasterio.mask.mask(src, [subset.buffer(100).geometry.values[0]], crop=True)\n",
    "    out_meta = src.meta\n",
    "\n",
    "\n",
    "out_meta.update({\"driver\": \"GTiff\",\n",
    "                 \"height\": out_image.shape[1],\n",
    "                 \"width\": out_image.shape[2],\n",
    "                 \"transform\": out_transform})\n",
    "\n",
    "with rasterio.open(out_path, \"w\", **out_meta) as dest:\n",
    "    dest.write(out_image)"
   ]
  },
  {
   "cell_type": "code",
   "execution_count": 53,
   "metadata": {},
   "outputs": [],
   "source": [
    "with rasterio.open(out_path) as src:\n",
    "    out_image, out_transform = rasterio.mask.mask(src, [subset.geometry.values[0]])\n",
    "    out_meta = src.meta\n",
    "    out_image[out_image > 0] = 1\n",
    "\n",
    "\n",
    "out_meta.update({\"driver\": \"GTiff\",\n",
    "                 \"height\": out_image.shape[1],\n",
    "                 \"width\": out_image.shape[2],\n",
    "                 \"transform\": out_transform})\n",
    "\n",
    "with rasterio.open(out_path, \"w\", **out_meta) as dest:\n",
    "    dest.write(out_image)"
   ]
  },
  {
   "cell_type": "code",
   "execution_count": 57,
   "metadata": {},
   "outputs": [],
   "source": [
    "valid = deter.geometry.is_valid"
   ]
  },
  {
   "cell_type": "code",
   "execution_count": 138,
   "metadata": {},
   "outputs": [
    {
     "data": {
      "text/html": [
       "<div>\n",
       "<style scoped>\n",
       "    .dataframe tbody tr th:only-of-type {\n",
       "        vertical-align: middle;\n",
       "    }\n",
       "\n",
       "    .dataframe tbody tr th {\n",
       "        vertical-align: top;\n",
       "    }\n",
       "\n",
       "    .dataframe thead th {\n",
       "        text-align: right;\n",
       "    }\n",
       "</style>\n",
       "<table border=\"1\" class=\"dataframe\">\n",
       "  <thead>\n",
       "    <tr style=\"text-align: right;\">\n",
       "      <th></th>\n",
       "      <th>CLASSNAME</th>\n",
       "      <th>QUADRANT</th>\n",
       "      <th>PATH_ROW</th>\n",
       "      <th>VIEW_DATE</th>\n",
       "      <th>SENSOR</th>\n",
       "      <th>SATELLITE</th>\n",
       "      <th>AREAUCKM</th>\n",
       "      <th>UC</th>\n",
       "      <th>AREAMUNKM</th>\n",
       "      <th>MUNICIPALI</th>\n",
       "      <th>GEOCODIBGE</th>\n",
       "      <th>UF</th>\n",
       "      <th>geometry</th>\n",
       "      <th>month</th>\n",
       "      <th>year</th>\n",
       "    </tr>\n",
       "  </thead>\n",
       "  <tbody>\n",
       "    <tr>\n",
       "      <th>0</th>\n",
       "      <td>CS_DESORDENADO</td>\n",
       "      <td>None</td>\n",
       "      <td>177111</td>\n",
       "      <td>2021-10-02</td>\n",
       "      <td>AWFI</td>\n",
       "      <td>CBERS-4</td>\n",
       "      <td>0.0</td>\n",
       "      <td>None</td>\n",
       "      <td>2.473354</td>\n",
       "      <td>Porto Velho</td>\n",
       "      <td>1100205</td>\n",
       "      <td>RO</td>\n",
       "      <td>POLYGON ((-65.72031 -9.55796, -65.71991 -9.557...</td>\n",
       "      <td>10</td>\n",
       "      <td>2021</td>\n",
       "    </tr>\n",
       "    <tr>\n",
       "      <th>1</th>\n",
       "      <td>DESMATAMENTO_CR</td>\n",
       "      <td>None</td>\n",
       "      <td>177111</td>\n",
       "      <td>2021-10-02</td>\n",
       "      <td>AWFI</td>\n",
       "      <td>CBERS-4</td>\n",
       "      <td>0.0</td>\n",
       "      <td>None</td>\n",
       "      <td>0.070332</td>\n",
       "      <td>Sena Madureira</td>\n",
       "      <td>1200500</td>\n",
       "      <td>AC</td>\n",
       "      <td>POLYGON ((-68.85109 -9.90415, -68.85039 -9.903...</td>\n",
       "      <td>10</td>\n",
       "      <td>2021</td>\n",
       "    </tr>\n",
       "    <tr>\n",
       "      <th>2</th>\n",
       "      <td>DESMATAMENTO_CR</td>\n",
       "      <td>None</td>\n",
       "      <td>177111</td>\n",
       "      <td>2021-10-02</td>\n",
       "      <td>AWFI</td>\n",
       "      <td>CBERS-4</td>\n",
       "      <td>0.0</td>\n",
       "      <td>None</td>\n",
       "      <td>0.128672</td>\n",
       "      <td>Labrea</td>\n",
       "      <td>1302405</td>\n",
       "      <td>AM</td>\n",
       "      <td>POLYGON ((-65.76534 -9.32607, -65.76502 -9.326...</td>\n",
       "      <td>10</td>\n",
       "      <td>2021</td>\n",
       "    </tr>\n",
       "    <tr>\n",
       "      <th>3</th>\n",
       "      <td>DESMATAMENTO_CR</td>\n",
       "      <td>None</td>\n",
       "      <td>169105</td>\n",
       "      <td>2018-01-14</td>\n",
       "      <td>AWFI</td>\n",
       "      <td>CBERS-4</td>\n",
       "      <td>0.0</td>\n",
       "      <td>None</td>\n",
       "      <td>0.101666</td>\n",
       "      <td>obidos</td>\n",
       "      <td>1505106</td>\n",
       "      <td>PA</td>\n",
       "      <td>POLYGON ((-55.65637 -1.44008, -55.65618 -1.440...</td>\n",
       "      <td>1</td>\n",
       "      <td>2018</td>\n",
       "    </tr>\n",
       "    <tr>\n",
       "      <th>4</th>\n",
       "      <td>DESMATAMENTO_CR</td>\n",
       "      <td>None</td>\n",
       "      <td>169105</td>\n",
       "      <td>2018-01-14</td>\n",
       "      <td>AWFI</td>\n",
       "      <td>CBERS-4</td>\n",
       "      <td>0.0</td>\n",
       "      <td>None</td>\n",
       "      <td>0.124988</td>\n",
       "      <td>obidos</td>\n",
       "      <td>1505106</td>\n",
       "      <td>PA</td>\n",
       "      <td>POLYGON ((-55.65314 -1.44255, -55.65314 -1.442...</td>\n",
       "      <td>1</td>\n",
       "      <td>2018</td>\n",
       "    </tr>\n",
       "  </tbody>\n",
       "</table>\n",
       "</div>"
      ],
      "text/plain": [
       "         CLASSNAME QUADRANT PATH_ROW   VIEW_DATE SENSOR SATELLITE  AREAUCKM  \\\n",
       "0   CS_DESORDENADO     None   177111  2021-10-02   AWFI   CBERS-4       0.0   \n",
       "1  DESMATAMENTO_CR     None   177111  2021-10-02   AWFI   CBERS-4       0.0   \n",
       "2  DESMATAMENTO_CR     None   177111  2021-10-02   AWFI   CBERS-4       0.0   \n",
       "3  DESMATAMENTO_CR     None   169105  2018-01-14   AWFI   CBERS-4       0.0   \n",
       "4  DESMATAMENTO_CR     None   169105  2018-01-14   AWFI   CBERS-4       0.0   \n",
       "\n",
       "     UC  AREAMUNKM      MUNICIPALI GEOCODIBGE  UF  \\\n",
       "0  None   2.473354     Porto Velho    1100205  RO   \n",
       "1  None   0.070332  Sena Madureira    1200500  AC   \n",
       "2  None   0.128672          Labrea    1302405  AM   \n",
       "3  None   0.101666          obidos    1505106  PA   \n",
       "4  None   0.124988          obidos    1505106  PA   \n",
       "\n",
       "                                            geometry  month  year  \n",
       "0  POLYGON ((-65.72031 -9.55796, -65.71991 -9.557...     10  2021  \n",
       "1  POLYGON ((-68.85109 -9.90415, -68.85039 -9.903...     10  2021  \n",
       "2  POLYGON ((-65.76534 -9.32607, -65.76502 -9.326...     10  2021  \n",
       "3  POLYGON ((-55.65637 -1.44008, -55.65618 -1.440...      1  2018  \n",
       "4  POLYGON ((-55.65314 -1.44255, -55.65314 -1.442...      1  2018  "
      ]
     },
     "execution_count": 138,
     "metadata": {},
     "output_type": "execute_result"
    }
   ],
   "source": [
    "deter.head()"
   ]
  },
  {
   "cell_type": "code",
   "execution_count": 60,
   "metadata": {},
   "outputs": [
    {
     "data": {
      "text/plain": [
       "(array([False,  True]), array([    60, 248149]))"
      ]
     },
     "execution_count": 60,
     "metadata": {},
     "output_type": "execute_result"
    }
   ],
   "source": [
    "np.unique(valid, return_counts=True)"
   ]
  },
  {
   "cell_type": "code",
   "execution_count": 62,
   "metadata": {},
   "outputs": [],
   "source": [
    "invalid = deter[~valid]"
   ]
  },
  {
   "cell_type": "code",
   "execution_count": 63,
   "metadata": {},
   "outputs": [
    {
     "data": {
      "text/plain": [
       "(60, 15)"
      ]
     },
     "execution_count": 63,
     "metadata": {},
     "output_type": "execute_result"
    }
   ],
   "source": [
    "invalid.shape"
   ]
  },
  {
   "cell_type": "code",
   "execution_count": 65,
   "metadata": {},
   "outputs": [
    {
     "name": "stderr",
     "output_type": "stream",
     "text": [
      "/Users/janpisl/miniconda3/envs/gee/lib/python3.9/site-packages/geopandas/io/file.py:299: FutureWarning: pandas.Int64Index is deprecated and will be removed from pandas in a future version. Use pandas.Index with the appropriate dtype instead.\n",
      "  pd.Int64Index,\n"
     ]
    }
   ],
   "source": [
    "invalid.to_file(\"../data/aoi_1/vector/workdir/invalid_deter.gpkg\", driver='GPKG')"
   ]
  },
  {
   "cell_type": "code",
   "execution_count": 69,
   "metadata": {},
   "outputs": [
    {
     "data": {
      "text/plain": [
       "(array([ True]), array([136]))"
      ]
     },
     "execution_count": 69,
     "metadata": {},
     "output_type": "execute_result"
    }
   ],
   "source": [
    "\n",
    "#exploding multipolygons results in all polygons being valid\n",
    "np.unique(invalid.explode().geometry.is_valid, return_counts=True)"
   ]
  },
  {
   "cell_type": "code",
   "execution_count": 71,
   "metadata": {},
   "outputs": [
    {
     "name": "stderr",
     "output_type": "stream",
     "text": [
      "/Users/janpisl/miniconda3/envs/gee/lib/python3.9/site-packages/geopandas/base.py:67: FutureWarning: is_ring currently returns True for Polygons, which is not correct. This will be corrected to False in a future release.\n",
      "  data = getattr(a_this, op)\n"
     ]
    },
    {
     "data": {
      "text/plain": [
       "(array([False,  True]), array([  1651, 246558]))"
      ]
     },
     "execution_count": 71,
     "metadata": {},
     "output_type": "execute_result"
    }
   ],
   "source": [
    "np.unique(deter.geometry.is_ring, return_counts=True)"
   ]
  },
  {
   "cell_type": "code",
   "execution_count": 83,
   "metadata": {},
   "outputs": [
    {
     "ename": "KeyError",
     "evalue": "170",
     "output_type": "error",
     "traceback": [
      "\u001b[0;31m---------------------------------------------------------------------------\u001b[0m",
      "\u001b[0;31mKeyError\u001b[0m                                  Traceback (most recent call last)",
      "File \u001b[0;32m~/miniconda3/envs/gee/lib/python3.9/site-packages/pandas/core/indexes/base.py:3621\u001b[0m, in \u001b[0;36mIndex.get_loc\u001b[0;34m(self, key, method, tolerance)\u001b[0m\n\u001b[1;32m   <a href='file:///~/miniconda3/envs/gee/lib/python3.9/site-packages/pandas/core/indexes/base.py?line=3619'>3620</a>\u001b[0m \u001b[39mtry\u001b[39;00m:\n\u001b[0;32m-> <a href='file:///~/miniconda3/envs/gee/lib/python3.9/site-packages/pandas/core/indexes/base.py?line=3620'>3621</a>\u001b[0m     \u001b[39mreturn\u001b[39;00m \u001b[39mself\u001b[39;49m\u001b[39m.\u001b[39;49m_engine\u001b[39m.\u001b[39;49mget_loc(casted_key)\n\u001b[1;32m   <a href='file:///~/miniconda3/envs/gee/lib/python3.9/site-packages/pandas/core/indexes/base.py?line=3621'>3622</a>\u001b[0m \u001b[39mexcept\u001b[39;00m \u001b[39mKeyError\u001b[39;00m \u001b[39mas\u001b[39;00m err:\n",
      "File \u001b[0;32m~/miniconda3/envs/gee/lib/python3.9/site-packages/pandas/_libs/index.pyx:136\u001b[0m, in \u001b[0;36mpandas._libs.index.IndexEngine.get_loc\u001b[0;34m()\u001b[0m\n",
      "File \u001b[0;32m~/miniconda3/envs/gee/lib/python3.9/site-packages/pandas/_libs/index.pyx:163\u001b[0m, in \u001b[0;36mpandas._libs.index.IndexEngine.get_loc\u001b[0;34m()\u001b[0m\n",
      "File \u001b[0;32mpandas/_libs/hashtable_class_helper.pxi:5198\u001b[0m, in \u001b[0;36mpandas._libs.hashtable.PyObjectHashTable.get_item\u001b[0;34m()\u001b[0m\n",
      "File \u001b[0;32mpandas/_libs/hashtable_class_helper.pxi:5206\u001b[0m, in \u001b[0;36mpandas._libs.hashtable.PyObjectHashTable.get_item\u001b[0;34m()\u001b[0m\n",
      "\u001b[0;31mKeyError\u001b[0m: 170",
      "\nThe above exception was the direct cause of the following exception:\n",
      "\u001b[0;31mKeyError\u001b[0m                                  Traceback (most recent call last)",
      "\u001b[1;32m/Users/janpisl/Documents/EPFL/deforestation/notebooks/alerts_EDA.ipynb Cell 28'\u001b[0m in \u001b[0;36m<module>\u001b[0;34m\u001b[0m\n\u001b[1;32m     <a href='vscode-notebook-cell:/Users/janpisl/Documents/EPFL/deforestation/notebooks/alerts_EDA.ipynb#ch0000029?line=9'>10</a>\u001b[0m \u001b[39m# Loop through each Shapely polygon\u001b[39;00m\n\u001b[1;32m     <a href='vscode-notebook-cell:/Users/janpisl/Documents/EPFL/deforestation/notebooks/alerts_EDA.ipynb#ch0000029?line=10'>11</a>\u001b[0m \u001b[39mfor\u001b[39;00m poly \u001b[39min\u001b[39;00m clipped_deter\u001b[39m.\u001b[39mgeometry:\n\u001b[1;32m     <a href='vscode-notebook-cell:/Users/janpisl/Documents/EPFL/deforestation/notebooks/alerts_EDA.ipynb#ch0000029?line=11'>12</a>\u001b[0m     \u001b[39m# Merge cells that have overlapping bounding boxes\u001b[39;00m\n\u001b[0;32m---> <a href='vscode-notebook-cell:/Users/janpisl/Documents/EPFL/deforestation/notebooks/alerts_EDA.ipynb#ch0000029?line=12'>13</a>\u001b[0m     merged_cells \u001b[39m=\u001b[39m cascaded_union([clipped_deter[pos] \u001b[39mfor\u001b[39;00m pos \u001b[39min\u001b[39;00m idx\u001b[39m.\u001b[39mintersection(poly\u001b[39m.\u001b[39mbounds)])\n\u001b[1;32m     <a href='vscode-notebook-cell:/Users/janpisl/Documents/EPFL/deforestation/notebooks/alerts_EDA.ipynb#ch0000029?line=13'>14</a>\u001b[0m     \u001b[39m# Now do actual intersection\u001b[39;00m\n\u001b[1;32m     <a href='vscode-notebook-cell:/Users/janpisl/Documents/EPFL/deforestation/notebooks/alerts_EDA.ipynb#ch0000029?line=14'>15</a>\u001b[0m     \u001b[39mprint\u001b[39m(poly\u001b[39m.\u001b[39mintersection(merged_cells)\u001b[39m.\u001b[39marea)\n",
      "\u001b[1;32m/Users/janpisl/Documents/EPFL/deforestation/notebooks/alerts_EDA.ipynb Cell 28'\u001b[0m in \u001b[0;36m<listcomp>\u001b[0;34m(.0)\u001b[0m\n\u001b[1;32m     <a href='vscode-notebook-cell:/Users/janpisl/Documents/EPFL/deforestation/notebooks/alerts_EDA.ipynb#ch0000029?line=9'>10</a>\u001b[0m \u001b[39m# Loop through each Shapely polygon\u001b[39;00m\n\u001b[1;32m     <a href='vscode-notebook-cell:/Users/janpisl/Documents/EPFL/deforestation/notebooks/alerts_EDA.ipynb#ch0000029?line=10'>11</a>\u001b[0m \u001b[39mfor\u001b[39;00m poly \u001b[39min\u001b[39;00m clipped_deter\u001b[39m.\u001b[39mgeometry:\n\u001b[1;32m     <a href='vscode-notebook-cell:/Users/janpisl/Documents/EPFL/deforestation/notebooks/alerts_EDA.ipynb#ch0000029?line=11'>12</a>\u001b[0m     \u001b[39m# Merge cells that have overlapping bounding boxes\u001b[39;00m\n\u001b[0;32m---> <a href='vscode-notebook-cell:/Users/janpisl/Documents/EPFL/deforestation/notebooks/alerts_EDA.ipynb#ch0000029?line=12'>13</a>\u001b[0m     merged_cells \u001b[39m=\u001b[39m cascaded_union([clipped_deter[pos] \u001b[39mfor\u001b[39;00m pos \u001b[39min\u001b[39;00m idx\u001b[39m.\u001b[39mintersection(poly\u001b[39m.\u001b[39mbounds)])\n\u001b[1;32m     <a href='vscode-notebook-cell:/Users/janpisl/Documents/EPFL/deforestation/notebooks/alerts_EDA.ipynb#ch0000029?line=13'>14</a>\u001b[0m     \u001b[39m# Now do actual intersection\u001b[39;00m\n\u001b[1;32m     <a href='vscode-notebook-cell:/Users/janpisl/Documents/EPFL/deforestation/notebooks/alerts_EDA.ipynb#ch0000029?line=14'>15</a>\u001b[0m     \u001b[39mprint\u001b[39m(poly\u001b[39m.\u001b[39mintersection(merged_cells)\u001b[39m.\u001b[39marea)\n",
      "File \u001b[0;32m~/miniconda3/envs/gee/lib/python3.9/site-packages/geopandas/geodataframe.py:1299\u001b[0m, in \u001b[0;36mGeoDataFrame.__getitem__\u001b[0;34m(self, key)\u001b[0m\n\u001b[1;32m   <a href='file:///~/miniconda3/envs/gee/lib/python3.9/site-packages/geopandas/geodataframe.py?line=1292'>1293</a>\u001b[0m \u001b[39mdef\u001b[39;00m \u001b[39m__getitem__\u001b[39m(\u001b[39mself\u001b[39m, key):\n\u001b[1;32m   <a href='file:///~/miniconda3/envs/gee/lib/python3.9/site-packages/geopandas/geodataframe.py?line=1293'>1294</a>\u001b[0m     \u001b[39m\"\"\"\u001b[39;00m\n\u001b[1;32m   <a href='file:///~/miniconda3/envs/gee/lib/python3.9/site-packages/geopandas/geodataframe.py?line=1294'>1295</a>\u001b[0m \u001b[39m    If the result is a column containing only 'geometry', return a\u001b[39;00m\n\u001b[1;32m   <a href='file:///~/miniconda3/envs/gee/lib/python3.9/site-packages/geopandas/geodataframe.py?line=1295'>1296</a>\u001b[0m \u001b[39m    GeoSeries. If it's a DataFrame with a 'geometry' column, return a\u001b[39;00m\n\u001b[1;32m   <a href='file:///~/miniconda3/envs/gee/lib/python3.9/site-packages/geopandas/geodataframe.py?line=1296'>1297</a>\u001b[0m \u001b[39m    GeoDataFrame.\u001b[39;00m\n\u001b[1;32m   <a href='file:///~/miniconda3/envs/gee/lib/python3.9/site-packages/geopandas/geodataframe.py?line=1297'>1298</a>\u001b[0m \u001b[39m    \"\"\"\u001b[39;00m\n\u001b[0;32m-> <a href='file:///~/miniconda3/envs/gee/lib/python3.9/site-packages/geopandas/geodataframe.py?line=1298'>1299</a>\u001b[0m     result \u001b[39m=\u001b[39m \u001b[39msuper\u001b[39;49m(GeoDataFrame, \u001b[39mself\u001b[39;49m)\u001b[39m.\u001b[39;49m\u001b[39m__getitem__\u001b[39;49m(key)\n\u001b[1;32m   <a href='file:///~/miniconda3/envs/gee/lib/python3.9/site-packages/geopandas/geodataframe.py?line=1299'>1300</a>\u001b[0m     geo_col \u001b[39m=\u001b[39m \u001b[39mself\u001b[39m\u001b[39m.\u001b[39m_geometry_column_name\n\u001b[1;32m   <a href='file:///~/miniconda3/envs/gee/lib/python3.9/site-packages/geopandas/geodataframe.py?line=1300'>1301</a>\u001b[0m     \u001b[39mif\u001b[39;00m \u001b[39misinstance\u001b[39m(result, Series) \u001b[39mand\u001b[39;00m \u001b[39misinstance\u001b[39m(result\u001b[39m.\u001b[39mdtype, GeometryDtype):\n",
      "File \u001b[0;32m~/miniconda3/envs/gee/lib/python3.9/site-packages/pandas/core/frame.py:3505\u001b[0m, in \u001b[0;36mDataFrame.__getitem__\u001b[0;34m(self, key)\u001b[0m\n\u001b[1;32m   <a href='file:///~/miniconda3/envs/gee/lib/python3.9/site-packages/pandas/core/frame.py?line=3502'>3503</a>\u001b[0m \u001b[39mif\u001b[39;00m \u001b[39mself\u001b[39m\u001b[39m.\u001b[39mcolumns\u001b[39m.\u001b[39mnlevels \u001b[39m>\u001b[39m \u001b[39m1\u001b[39m:\n\u001b[1;32m   <a href='file:///~/miniconda3/envs/gee/lib/python3.9/site-packages/pandas/core/frame.py?line=3503'>3504</a>\u001b[0m     \u001b[39mreturn\u001b[39;00m \u001b[39mself\u001b[39m\u001b[39m.\u001b[39m_getitem_multilevel(key)\n\u001b[0;32m-> <a href='file:///~/miniconda3/envs/gee/lib/python3.9/site-packages/pandas/core/frame.py?line=3504'>3505</a>\u001b[0m indexer \u001b[39m=\u001b[39m \u001b[39mself\u001b[39;49m\u001b[39m.\u001b[39;49mcolumns\u001b[39m.\u001b[39;49mget_loc(key)\n\u001b[1;32m   <a href='file:///~/miniconda3/envs/gee/lib/python3.9/site-packages/pandas/core/frame.py?line=3505'>3506</a>\u001b[0m \u001b[39mif\u001b[39;00m is_integer(indexer):\n\u001b[1;32m   <a href='file:///~/miniconda3/envs/gee/lib/python3.9/site-packages/pandas/core/frame.py?line=3506'>3507</a>\u001b[0m     indexer \u001b[39m=\u001b[39m [indexer]\n",
      "File \u001b[0;32m~/miniconda3/envs/gee/lib/python3.9/site-packages/pandas/core/indexes/base.py:3623\u001b[0m, in \u001b[0;36mIndex.get_loc\u001b[0;34m(self, key, method, tolerance)\u001b[0m\n\u001b[1;32m   <a href='file:///~/miniconda3/envs/gee/lib/python3.9/site-packages/pandas/core/indexes/base.py?line=3620'>3621</a>\u001b[0m     \u001b[39mreturn\u001b[39;00m \u001b[39mself\u001b[39m\u001b[39m.\u001b[39m_engine\u001b[39m.\u001b[39mget_loc(casted_key)\n\u001b[1;32m   <a href='file:///~/miniconda3/envs/gee/lib/python3.9/site-packages/pandas/core/indexes/base.py?line=3621'>3622</a>\u001b[0m \u001b[39mexcept\u001b[39;00m \u001b[39mKeyError\u001b[39;00m \u001b[39mas\u001b[39;00m err:\n\u001b[0;32m-> <a href='file:///~/miniconda3/envs/gee/lib/python3.9/site-packages/pandas/core/indexes/base.py?line=3622'>3623</a>\u001b[0m     \u001b[39mraise\u001b[39;00m \u001b[39mKeyError\u001b[39;00m(key) \u001b[39mfrom\u001b[39;00m \u001b[39merr\u001b[39;00m\n\u001b[1;32m   <a href='file:///~/miniconda3/envs/gee/lib/python3.9/site-packages/pandas/core/indexes/base.py?line=3623'>3624</a>\u001b[0m \u001b[39mexcept\u001b[39;00m \u001b[39mTypeError\u001b[39;00m:\n\u001b[1;32m   <a href='file:///~/miniconda3/envs/gee/lib/python3.9/site-packages/pandas/core/indexes/base.py?line=3624'>3625</a>\u001b[0m     \u001b[39m# If we have a listlike key, _check_indexing_error will raise\u001b[39;00m\n\u001b[1;32m   <a href='file:///~/miniconda3/envs/gee/lib/python3.9/site-packages/pandas/core/indexes/base.py?line=3625'>3626</a>\u001b[0m     \u001b[39m#  InvalidIndexError. Otherwise we fall through and re-raise\u001b[39;00m\n\u001b[1;32m   <a href='file:///~/miniconda3/envs/gee/lib/python3.9/site-packages/pandas/core/indexes/base.py?line=3626'>3627</a>\u001b[0m     \u001b[39m#  the TypeError.\u001b[39;00m\n\u001b[1;32m   <a href='file:///~/miniconda3/envs/gee/lib/python3.9/site-packages/pandas/core/indexes/base.py?line=3627'>3628</a>\u001b[0m     \u001b[39mself\u001b[39m\u001b[39m.\u001b[39m_check_indexing_error(key)\n",
      "\u001b[0;31mKeyError\u001b[0m: 170"
     ]
    }
   ],
   "source": [
    "from shapely.ops import cascaded_union\n",
    "from rtree import index\n",
    "idx = index.Index()\n",
    "\n",
    "# Populate R-tree index with bounds of grid cells\n",
    "for pos, cell in enumerate(clipped_deter.geometry):\n",
    "    # assuming cell is a shapely object\n",
    "    idx.insert(pos, cell.bounds)\n",
    "\n",
    "# Loop through each Shapely polygon\n",
    "for poly in clipped_deter.geometry:\n",
    "    # Merge cells that have overlapping bounding boxes\n",
    "    merged_cells = cascaded_union([clipped_deter[pos] for pos in idx.intersection(poly.bounds)])\n",
    "    # Now do actual intersection\n",
    "    print(poly.intersection(merged_cells).area)"
   ]
  },
  {
   "cell_type": "code",
   "execution_count": 86,
   "metadata": {},
   "outputs": [
    {
     "ename": "TypeError",
     "evalue": "unhashable type: 'Polygon'",
     "output_type": "error",
     "traceback": [
      "\u001b[0;31m---------------------------------------------------------------------------\u001b[0m",
      "\u001b[0;31mTypeError\u001b[0m                                 Traceback (most recent call last)",
      "\u001b[1;32m/Users/janpisl/Documents/EPFL/deforestation/notebooks/alerts_EDA.ipynb Cell 29'\u001b[0m in \u001b[0;36m<module>\u001b[0;34m\u001b[0m\n\u001b[1;32m     <a href='vscode-notebook-cell:/Users/janpisl/Documents/EPFL/deforestation/notebooks/alerts_EDA.ipynb#ch0000030?line=9'>10</a>\u001b[0m             intersecting\u001b[39m.\u001b[39mappend(geom_i)\n\u001b[1;32m     <a href='vscode-notebook-cell:/Users/janpisl/Documents/EPFL/deforestation/notebooks/alerts_EDA.ipynb#ch0000030?line=10'>11</a>\u001b[0m             intersecting\u001b[39m.\u001b[39mappend(geom_j)\n\u001b[0;32m---> <a href='vscode-notebook-cell:/Users/janpisl/Documents/EPFL/deforestation/notebooks/alerts_EDA.ipynb#ch0000030?line=12'>13</a>\u001b[0m intersecting \u001b[39m=\u001b[39m \u001b[39mlist\u001b[39m(\u001b[39mset\u001b[39;49m(intersecting))\n\u001b[1;32m     <a href='vscode-notebook-cell:/Users/janpisl/Documents/EPFL/deforestation/notebooks/alerts_EDA.ipynb#ch0000030?line=15'>16</a>\u001b[0m df \u001b[39m=\u001b[39m pd\u001b[39m.\u001b[39mDataFrame(intersecting)\n\u001b[1;32m     <a href='vscode-notebook-cell:/Users/janpisl/Documents/EPFL/deforestation/notebooks/alerts_EDA.ipynb#ch0000030?line=16'>17</a>\u001b[0m df\n",
      "\u001b[0;31mTypeError\u001b[0m: unhashable type: 'Polygon'"
     ]
    }
   ],
   "source": [
    "intersecting = []\n",
    "\n",
    "for i, row_i in clipped_deter.iterrows():\n",
    "    geom_i = row_i.geometry\n",
    "    for j, row_j in clipped_deter.iterrows():\n",
    "        if i == j:\n",
    "            continue\n",
    "        geom_j = row_j.geometry\n",
    "        if geom_i.intersects(geom_j):\n",
    "            intersecting.append(geom_i)\n",
    "            intersecting.append(geom_j)\n",
    "\n",
    "intersecting = list(set(intersecting))\n",
    "\n",
    "\n",
    "df = pd.DataFrame(intersecting)\n",
    "df\n",
    "\n",
    "\n"
   ]
  },
  {
   "cell_type": "code",
   "execution_count": 123,
   "metadata": {},
   "outputs": [],
   "source": [
    "clipped_deter.drop('date', axis=1).explode().to_file(\"../data/aoi_1/vector/workdir/exploded_clipped_deter.shp\")"
   ]
  },
  {
   "cell_type": "code",
   "execution_count": 122,
   "metadata": {},
   "outputs": [
    {
     "data": {
      "text/plain": [
       "(2128, 15)"
      ]
     },
     "execution_count": 122,
     "metadata": {},
     "output_type": "execute_result"
    }
   ],
   "source": [
    "clipped_deter.shape"
   ]
  },
  {
   "cell_type": "code",
   "execution_count": 124,
   "metadata": {},
   "outputs": [],
   "source": [
    "from rtree import index\n",
    "from shapely.geometry import shape\n",
    "import fiona\n",
    "\n",
    "fc_A = fiona.open(\"../data/aoi_1/vector/workdir/exploded_clipped_deter.shp\")\n",
    "fc_B = fiona.open(\"../data/aoi_1/vector/workdir/exploded_clipped_deter.shp\")\n",
    "# List to collect pairs of intersecting features\n",
    "fc_intersect = []\n",
    "\n",
    "# Instantiate index class\n",
    "idx = index.Index()\n",
    "for i,featA in enumerate(fc_A):\n",
    "    idx.insert(i, shape(featA['geometry']).bounds)\n",
    "\n",
    "for featB in fc_B:\n",
    "    # Test for potential intersection with each feature of the other feature collection\n",
    "    for intersect_maybe in idx.intersection(shape(featB['geometry']).bounds):\n",
    "        # Confirm intersection\n",
    "        if shape(featB['geometry']).intersects(shape(fc_B[intersect_maybe]['geometry'])):\n",
    "            if fc_A[intersect_maybe] != featB:\n",
    "                fc_intersect.append([fc_A[intersect_maybe], featB])"
   ]
  },
  {
   "cell_type": "code",
   "execution_count": 135,
   "metadata": {},
   "outputs": [
    {
     "data": {
      "text/html": [
       "<div>\n",
       "<style scoped>\n",
       "    .dataframe tbody tr th:only-of-type {\n",
       "        vertical-align: middle;\n",
       "    }\n",
       "\n",
       "    .dataframe tbody tr th {\n",
       "        vertical-align: top;\n",
       "    }\n",
       "\n",
       "    .dataframe thead th {\n",
       "        text-align: right;\n",
       "    }\n",
       "</style>\n",
       "<table border=\"1\" class=\"dataframe\">\n",
       "  <thead>\n",
       "    <tr style=\"text-align: right;\">\n",
       "      <th></th>\n",
       "      <th>pop_est</th>\n",
       "      <th>continent</th>\n",
       "      <th>name</th>\n",
       "      <th>iso_a3</th>\n",
       "      <th>gdp_md_est</th>\n",
       "      <th>geometry</th>\n",
       "    </tr>\n",
       "  </thead>\n",
       "  <tbody>\n",
       "    <tr>\n",
       "      <th>0</th>\n",
       "      <td>920938</td>\n",
       "      <td>Oceania</td>\n",
       "      <td>Fiji</td>\n",
       "      <td>FJI</td>\n",
       "      <td>8374.0</td>\n",
       "      <td>MULTIPOLYGON (((180.00000 -16.06713, 180.00000...</td>\n",
       "    </tr>\n",
       "    <tr>\n",
       "      <th>1</th>\n",
       "      <td>53950935</td>\n",
       "      <td>Africa</td>\n",
       "      <td>Tanzania</td>\n",
       "      <td>TZA</td>\n",
       "      <td>150600.0</td>\n",
       "      <td>POLYGON ((33.90371 -0.95000, 34.07262 -1.05982...</td>\n",
       "    </tr>\n",
       "    <tr>\n",
       "      <th>2</th>\n",
       "      <td>603253</td>\n",
       "      <td>Africa</td>\n",
       "      <td>W. Sahara</td>\n",
       "      <td>ESH</td>\n",
       "      <td>906.5</td>\n",
       "      <td>POLYGON ((-8.66559 27.65643, -8.66512 27.58948...</td>\n",
       "    </tr>\n",
       "    <tr>\n",
       "      <th>3</th>\n",
       "      <td>35623680</td>\n",
       "      <td>North America</td>\n",
       "      <td>Canada</td>\n",
       "      <td>CAN</td>\n",
       "      <td>1674000.0</td>\n",
       "      <td>MULTIPOLYGON (((-122.84000 49.00000, -122.9742...</td>\n",
       "    </tr>\n",
       "    <tr>\n",
       "      <th>4</th>\n",
       "      <td>326625791</td>\n",
       "      <td>North America</td>\n",
       "      <td>United States of America</td>\n",
       "      <td>USA</td>\n",
       "      <td>18560000.0</td>\n",
       "      <td>MULTIPOLYGON (((-122.84000 49.00000, -120.0000...</td>\n",
       "    </tr>\n",
       "    <tr>\n",
       "      <th>...</th>\n",
       "      <td>...</td>\n",
       "      <td>...</td>\n",
       "      <td>...</td>\n",
       "      <td>...</td>\n",
       "      <td>...</td>\n",
       "      <td>...</td>\n",
       "    </tr>\n",
       "    <tr>\n",
       "      <th>172</th>\n",
       "      <td>7111024</td>\n",
       "      <td>Europe</td>\n",
       "      <td>Serbia</td>\n",
       "      <td>SRB</td>\n",
       "      <td>101800.0</td>\n",
       "      <td>POLYGON ((18.82982 45.90887, 18.82984 45.90888...</td>\n",
       "    </tr>\n",
       "    <tr>\n",
       "      <th>173</th>\n",
       "      <td>642550</td>\n",
       "      <td>Europe</td>\n",
       "      <td>Montenegro</td>\n",
       "      <td>MNE</td>\n",
       "      <td>10610.0</td>\n",
       "      <td>POLYGON ((20.07070 42.58863, 19.80161 42.50009...</td>\n",
       "    </tr>\n",
       "    <tr>\n",
       "      <th>174</th>\n",
       "      <td>1895250</td>\n",
       "      <td>Europe</td>\n",
       "      <td>Kosovo</td>\n",
       "      <td>-99</td>\n",
       "      <td>18490.0</td>\n",
       "      <td>POLYGON ((20.59025 41.85541, 20.52295 42.21787...</td>\n",
       "    </tr>\n",
       "    <tr>\n",
       "      <th>175</th>\n",
       "      <td>1218208</td>\n",
       "      <td>North America</td>\n",
       "      <td>Trinidad and Tobago</td>\n",
       "      <td>TTO</td>\n",
       "      <td>43570.0</td>\n",
       "      <td>POLYGON ((-61.68000 10.76000, -61.10500 10.890...</td>\n",
       "    </tr>\n",
       "    <tr>\n",
       "      <th>176</th>\n",
       "      <td>13026129</td>\n",
       "      <td>Africa</td>\n",
       "      <td>S. Sudan</td>\n",
       "      <td>SSD</td>\n",
       "      <td>20880.0</td>\n",
       "      <td>POLYGON ((30.83385 3.50917, 29.95350 4.17370, ...</td>\n",
       "    </tr>\n",
       "  </tbody>\n",
       "</table>\n",
       "<p>177 rows × 6 columns</p>\n",
       "</div>"
      ],
      "text/plain": [
       "       pop_est      continent                      name iso_a3  gdp_md_est  \\\n",
       "0       920938        Oceania                      Fiji    FJI      8374.0   \n",
       "1     53950935         Africa                  Tanzania    TZA    150600.0   \n",
       "2       603253         Africa                 W. Sahara    ESH       906.5   \n",
       "3     35623680  North America                    Canada    CAN   1674000.0   \n",
       "4    326625791  North America  United States of America    USA  18560000.0   \n",
       "..         ...            ...                       ...    ...         ...   \n",
       "172    7111024         Europe                    Serbia    SRB    101800.0   \n",
       "173     642550         Europe                Montenegro    MNE     10610.0   \n",
       "174    1895250         Europe                    Kosovo    -99     18490.0   \n",
       "175    1218208  North America       Trinidad and Tobago    TTO     43570.0   \n",
       "176   13026129         Africa                  S. Sudan    SSD     20880.0   \n",
       "\n",
       "                                              geometry  \n",
       "0    MULTIPOLYGON (((180.00000 -16.06713, 180.00000...  \n",
       "1    POLYGON ((33.90371 -0.95000, 34.07262 -1.05982...  \n",
       "2    POLYGON ((-8.66559 27.65643, -8.66512 27.58948...  \n",
       "3    MULTIPOLYGON (((-122.84000 49.00000, -122.9742...  \n",
       "4    MULTIPOLYGON (((-122.84000 49.00000, -120.0000...  \n",
       "..                                                 ...  \n",
       "172  POLYGON ((18.82982 45.90887, 18.82984 45.90888...  \n",
       "173  POLYGON ((20.07070 42.58863, 19.80161 42.50009...  \n",
       "174  POLYGON ((20.59025 41.85541, 20.52295 42.21787...  \n",
       "175  POLYGON ((-61.68000 10.76000, -61.10500 10.890...  \n",
       "176  POLYGON ((30.83385 3.50917, 29.95350 4.17370, ...  \n",
       "\n",
       "[177 rows x 6 columns]"
      ]
     },
     "execution_count": 135,
     "metadata": {},
     "output_type": "execute_result"
    }
   ],
   "source": [
    "world = gpd.read_file(gpd.datasets.get_path('naturalearth_lowres'))\n",
    "world"
   ]
  },
  {
   "cell_type": "code",
   "execution_count": 136,
   "metadata": {},
   "outputs": [
    {
     "data": {
      "text/html": [
       "<div>\n",
       "<style scoped>\n",
       "    .dataframe tbody tr th:only-of-type {\n",
       "        vertical-align: middle;\n",
       "    }\n",
       "\n",
       "    .dataframe tbody tr th {\n",
       "        vertical-align: top;\n",
       "    }\n",
       "\n",
       "    .dataframe thead th {\n",
       "        text-align: right;\n",
       "    }\n",
       "</style>\n",
       "<table border=\"1\" class=\"dataframe\">\n",
       "  <thead>\n",
       "    <tr style=\"text-align: right;\">\n",
       "      <th></th>\n",
       "      <th>geometry</th>\n",
       "      <th>pop_est</th>\n",
       "      <th>name</th>\n",
       "      <th>iso_a3</th>\n",
       "      <th>gdp_md_est</th>\n",
       "    </tr>\n",
       "    <tr>\n",
       "      <th>continent</th>\n",
       "      <th></th>\n",
       "      <th></th>\n",
       "      <th></th>\n",
       "      <th></th>\n",
       "      <th></th>\n",
       "    </tr>\n",
       "  </thead>\n",
       "  <tbody>\n",
       "    <tr>\n",
       "      <th>Africa</th>\n",
       "      <td>MULTIPOLYGON (((40.437 -11.762, 40.561 -12.639...</td>\n",
       "      <td>53950935</td>\n",
       "      <td>Tanzania</td>\n",
       "      <td>TZA</td>\n",
       "      <td>150600.0</td>\n",
       "    </tr>\n",
       "    <tr>\n",
       "      <th>Antarctica</th>\n",
       "      <td>MULTIPOLYGON (((-61.139 -79.981, -60.610 -79.6...</td>\n",
       "      <td>4050</td>\n",
       "      <td>Antarctica</td>\n",
       "      <td>ATA</td>\n",
       "      <td>810.0</td>\n",
       "    </tr>\n",
       "    <tr>\n",
       "      <th>Asia</th>\n",
       "      <td>MULTIPOLYGON (((120.295 -10.259, 118.968 -9.55...</td>\n",
       "      <td>18556698</td>\n",
       "      <td>Kazakhstan</td>\n",
       "      <td>KAZ</td>\n",
       "      <td>460700.0</td>\n",
       "    </tr>\n",
       "    <tr>\n",
       "      <th>Europe</th>\n",
       "      <td>MULTIPOLYGON (((-53.779 2.377, -54.088 2.106, ...</td>\n",
       "      <td>142257519</td>\n",
       "      <td>Russia</td>\n",
       "      <td>RUS</td>\n",
       "      <td>3745000.0</td>\n",
       "    </tr>\n",
       "    <tr>\n",
       "      <th>North America</th>\n",
       "      <td>MULTIPOLYGON (((-78.215 7.512, -78.429 8.052, ...</td>\n",
       "      <td>35623680</td>\n",
       "      <td>Canada</td>\n",
       "      <td>CAN</td>\n",
       "      <td>1674000.0</td>\n",
       "    </tr>\n",
       "  </tbody>\n",
       "</table>\n",
       "</div>"
      ],
      "text/plain": [
       "                                                        geometry    pop_est  \\\n",
       "continent                                                                     \n",
       "Africa         MULTIPOLYGON (((40.437 -11.762, 40.561 -12.639...   53950935   \n",
       "Antarctica     MULTIPOLYGON (((-61.139 -79.981, -60.610 -79.6...       4050   \n",
       "Asia           MULTIPOLYGON (((120.295 -10.259, 118.968 -9.55...   18556698   \n",
       "Europe         MULTIPOLYGON (((-53.779 2.377, -54.088 2.106, ...  142257519   \n",
       "North America  MULTIPOLYGON (((-78.215 7.512, -78.429 8.052, ...   35623680   \n",
       "\n",
       "                     name iso_a3  gdp_md_est  \n",
       "continent                                     \n",
       "Africa           Tanzania    TZA    150600.0  \n",
       "Antarctica     Antarctica    ATA       810.0  \n",
       "Asia           Kazakhstan    KAZ    460700.0  \n",
       "Europe             Russia    RUS   3745000.0  \n",
       "North America      Canada    CAN   1674000.0  "
      ]
     },
     "execution_count": 136,
     "metadata": {},
     "output_type": "execute_result"
    }
   ],
   "source": [
    "continents = world.dissolve(by='continent')\n",
    "continents.head()"
   ]
  },
  {
   "cell_type": "code",
   "execution_count": null,
   "metadata": {},
   "outputs": [],
   "source": []
  }
 ],
 "metadata": {
  "interpreter": {
   "hash": "ed0d5165fde6336af43e98beed8c8cc4390213f314ddbf79d35dc3e0efe92c7d"
  },
  "kernelspec": {
   "display_name": "Python 3.9.10 ('gee')",
   "language": "python",
   "name": "python3"
  },
  "language_info": {
   "codemirror_mode": {
    "name": "ipython",
    "version": 3
   },
   "file_extension": ".py",
   "mimetype": "text/x-python",
   "name": "python",
   "nbconvert_exporter": "python",
   "pygments_lexer": "ipython3",
   "version": "3.9.10"
  },
  "orig_nbformat": 4
 },
 "nbformat": 4,
 "nbformat_minor": 2
}
