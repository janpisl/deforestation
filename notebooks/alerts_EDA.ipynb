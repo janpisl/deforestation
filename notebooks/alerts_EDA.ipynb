{
 "cells": [
  {
   "cell_type": "markdown",
   "metadata": {},
   "source": [
    "The goal of this notebook is to explore DETER data within the first AOI i selected. group by month and make a histogram to see if DETER polygons are more clustered in dry season which would indicate they are also delayed by clouds (which might or might not be the case since they use some SAR data as well I think). Also, look at MapBiomas for the same period (and perhaps PRODES and Hansen) and visually compare them against the S-2 images.\n",
    "\n",
    "As for PRODES v. Hansen, one compelling reason to use Hansen is that it has global coverage so then the methodology would be applicable anywhere."
   ]
  },
  {
   "cell_type": "code",
   "execution_count": 54,
   "metadata": {},
   "outputs": [],
   "source": [
    "import geopandas as gpd\n",
    "import pandas as pd\n",
    "import numpy as np\n",
    "import rasterio\n",
    "import rasterio.mask\n",
    "\n",
    "import os"
   ]
  },
  {
   "cell_type": "code",
   "execution_count": 2,
   "metadata": {},
   "outputs": [
    {
     "data": {
      "text/html": [
       "<div>\n",
       "<style scoped>\n",
       "    .dataframe tbody tr th:only-of-type {\n",
       "        vertical-align: middle;\n",
       "    }\n",
       "\n",
       "    .dataframe tbody tr th {\n",
       "        vertical-align: top;\n",
       "    }\n",
       "\n",
       "    .dataframe thead th {\n",
       "        text-align: right;\n",
       "    }\n",
       "</style>\n",
       "<table border=\"1\" class=\"dataframe\">\n",
       "  <thead>\n",
       "    <tr style=\"text-align: right;\">\n",
       "      <th></th>\n",
       "      <th>CLASSNAME</th>\n",
       "      <th>QUADRANT</th>\n",
       "      <th>PATH_ROW</th>\n",
       "      <th>VIEW_DATE</th>\n",
       "      <th>SENSOR</th>\n",
       "      <th>SATELLITE</th>\n",
       "      <th>AREAUCKM</th>\n",
       "      <th>UC</th>\n",
       "      <th>AREAMUNKM</th>\n",
       "      <th>MUNICIPALI</th>\n",
       "      <th>GEOCODIBGE</th>\n",
       "      <th>UF</th>\n",
       "      <th>geometry</th>\n",
       "    </tr>\n",
       "  </thead>\n",
       "  <tbody>\n",
       "    <tr>\n",
       "      <th>0</th>\n",
       "      <td>CS_DESORDENADO</td>\n",
       "      <td>None</td>\n",
       "      <td>177111</td>\n",
       "      <td>2021-10-02</td>\n",
       "      <td>AWFI</td>\n",
       "      <td>CBERS-4</td>\n",
       "      <td>0.0</td>\n",
       "      <td>None</td>\n",
       "      <td>2.473354</td>\n",
       "      <td>Porto Velho</td>\n",
       "      <td>1100205</td>\n",
       "      <td>RO</td>\n",
       "      <td>POLYGON ((-65.72031 -9.55796, -65.71991 -9.557...</td>\n",
       "    </tr>\n",
       "    <tr>\n",
       "      <th>1</th>\n",
       "      <td>DESMATAMENTO_CR</td>\n",
       "      <td>None</td>\n",
       "      <td>177111</td>\n",
       "      <td>2021-10-02</td>\n",
       "      <td>AWFI</td>\n",
       "      <td>CBERS-4</td>\n",
       "      <td>0.0</td>\n",
       "      <td>None</td>\n",
       "      <td>0.070332</td>\n",
       "      <td>Sena Madureira</td>\n",
       "      <td>1200500</td>\n",
       "      <td>AC</td>\n",
       "      <td>POLYGON ((-68.85109 -9.90415, -68.85039 -9.903...</td>\n",
       "    </tr>\n",
       "    <tr>\n",
       "      <th>2</th>\n",
       "      <td>DESMATAMENTO_CR</td>\n",
       "      <td>None</td>\n",
       "      <td>177111</td>\n",
       "      <td>2021-10-02</td>\n",
       "      <td>AWFI</td>\n",
       "      <td>CBERS-4</td>\n",
       "      <td>0.0</td>\n",
       "      <td>None</td>\n",
       "      <td>0.128672</td>\n",
       "      <td>Labrea</td>\n",
       "      <td>1302405</td>\n",
       "      <td>AM</td>\n",
       "      <td>POLYGON ((-65.76534 -9.32607, -65.76502 -9.326...</td>\n",
       "    </tr>\n",
       "    <tr>\n",
       "      <th>3</th>\n",
       "      <td>DESMATAMENTO_CR</td>\n",
       "      <td>None</td>\n",
       "      <td>169105</td>\n",
       "      <td>2018-01-14</td>\n",
       "      <td>AWFI</td>\n",
       "      <td>CBERS-4</td>\n",
       "      <td>0.0</td>\n",
       "      <td>None</td>\n",
       "      <td>0.101666</td>\n",
       "      <td>obidos</td>\n",
       "      <td>1505106</td>\n",
       "      <td>PA</td>\n",
       "      <td>POLYGON ((-55.65637 -1.44008, -55.65618 -1.440...</td>\n",
       "    </tr>\n",
       "    <tr>\n",
       "      <th>4</th>\n",
       "      <td>DESMATAMENTO_CR</td>\n",
       "      <td>None</td>\n",
       "      <td>169105</td>\n",
       "      <td>2018-01-14</td>\n",
       "      <td>AWFI</td>\n",
       "      <td>CBERS-4</td>\n",
       "      <td>0.0</td>\n",
       "      <td>None</td>\n",
       "      <td>0.124988</td>\n",
       "      <td>obidos</td>\n",
       "      <td>1505106</td>\n",
       "      <td>PA</td>\n",
       "      <td>POLYGON ((-55.65314 -1.44255, -55.65314 -1.442...</td>\n",
       "    </tr>\n",
       "  </tbody>\n",
       "</table>\n",
       "</div>"
      ],
      "text/plain": [
       "         CLASSNAME QUADRANT PATH_ROW   VIEW_DATE SENSOR SATELLITE  AREAUCKM  \\\n",
       "0   CS_DESORDENADO     None   177111  2021-10-02   AWFI   CBERS-4       0.0   \n",
       "1  DESMATAMENTO_CR     None   177111  2021-10-02   AWFI   CBERS-4       0.0   \n",
       "2  DESMATAMENTO_CR     None   177111  2021-10-02   AWFI   CBERS-4       0.0   \n",
       "3  DESMATAMENTO_CR     None   169105  2018-01-14   AWFI   CBERS-4       0.0   \n",
       "4  DESMATAMENTO_CR     None   169105  2018-01-14   AWFI   CBERS-4       0.0   \n",
       "\n",
       "     UC  AREAMUNKM      MUNICIPALI GEOCODIBGE  UF  \\\n",
       "0  None   2.473354     Porto Velho    1100205  RO   \n",
       "1  None   0.070332  Sena Madureira    1200500  AC   \n",
       "2  None   0.128672          Labrea    1302405  AM   \n",
       "3  None   0.101666          obidos    1505106  PA   \n",
       "4  None   0.124988          obidos    1505106  PA   \n",
       "\n",
       "                                            geometry  \n",
       "0  POLYGON ((-65.72031 -9.55796, -65.71991 -9.557...  \n",
       "1  POLYGON ((-68.85109 -9.90415, -68.85039 -9.903...  \n",
       "2  POLYGON ((-65.76534 -9.32607, -65.76502 -9.326...  \n",
       "3  POLYGON ((-55.65637 -1.44008, -55.65618 -1.440...  \n",
       "4  POLYGON ((-55.65314 -1.44255, -55.65314 -1.442...  "
      ]
     },
     "execution_count": 2,
     "metadata": {},
     "output_type": "execute_result"
    }
   ],
   "source": [
    "deter = gpd.read_file(\"../data/sample_data/DETER/deter_public.shp\")\n",
    "deter.head()"
   ]
  },
  {
   "cell_type": "code",
   "execution_count": 3,
   "metadata": {},
   "outputs": [
    {
     "data": {
      "text/plain": [
       "Text(0, 0.5, 'Count')"
      ]
     },
     "execution_count": 3,
     "metadata": {},
     "output_type": "execute_result"
    },
    {
     "data": {
      "image/png": "[encoded data removed]",
      "text/plain": [
       "<Figure size 432x288 with 1 Axes>"
      ]
     },
     "metadata": {
      "needs_background": "light"
     },
     "output_type": "display_data"
    }
   ],
   "source": [
    "#deter.index = pd.to_datetime(deter.VIEW_DATE)\n",
    "#deter_monthly = deter.groupby(pd.Grouper(freq='M'))\n",
    "deter['month'] = pd.to_datetime(deter.VIEW_DATE).dt.month\n",
    "plot = deter.month.hist()\n",
    "\n",
    "plot.set_title(\"Annual distribution of DETER deforestation polygons\")\n",
    "plot.set_xlabel(\"Month - January to December\")\n",
    "plot.set_ylabel(\"Count\")\n"
   ]
  },
  {
   "cell_type": "code",
   "execution_count": 4,
   "metadata": {},
   "outputs": [
    {
     "name": "stdout",
     "output_type": "stream",
     "text": [
      "[2016 2017 2018 2019 2020 2021 2022]\n"
     ]
    },
    {
     "data": {
      "image/png": "[encoded data removed]",
      "text/plain": [
       "<Figure size 432x288 with 1 Axes>"
      ]
     },
     "metadata": {
      "needs_background": "light"
     },
     "output_type": "display_data"
    }
   ],
   "source": [
    "deter['year'] = pd.to_datetime(deter.VIEW_DATE).dt.year\n",
    "plot = deter.year.hist()\n",
    "\n",
    "plot.set_title(\"Distribution of DETER deforestation polygons by year\")\n",
    "plot.set_xlabel(\"Year\")\n",
    "plot.set_ylabel(\"Count\")\n",
    "print(np.unique(deter.year))"
   ]
  },
  {
   "cell_type": "code",
   "execution_count": 5,
   "metadata": {},
   "outputs": [
    {
     "ename": "DriverError",
     "evalue": "/Users/janpisl/Documents/EPFL/workdir/sample_data/MapBiomas/dashboard_alerts-shapefilePolygon.shp: No such file or directory",
     "output_type": "error",
     "traceback": [
      "\u001b[0;31m---------------------------------------------------------------------------\u001b[0m",
      "\u001b[0;31mCPLE_OpenFailedError\u001b[0m                      Traceback (most recent call last)",
      "File \u001b[0;32mfiona/_shim.pyx:83\u001b[0m, in \u001b[0;36mfiona._shim.gdal_open_vector\u001b[0;34m()\u001b[0m\n",
      "File \u001b[0;32mfiona/_err.pyx:270\u001b[0m, in \u001b[0;36mfiona._err.exc_wrap_pointer\u001b[0;34m()\u001b[0m\n",
      "\u001b[0;31mCPLE_OpenFailedError\u001b[0m: /Users/janpisl/Documents/EPFL/workdir/sample_data/MapBiomas/dashboard_alerts-shapefilePolygon.shp: No such file or directory",
      "\nDuring handling of the above exception, another exception occurred:\n",
      "\u001b[0;31mDriverError\u001b[0m                               Traceback (most recent call last)",
      "\u001b[1;32m/Users/janpisl/Documents/EPFL/deforestation/notebooks/alerts_EDA.ipynb Cell 6'\u001b[0m in \u001b[0;36m<module>\u001b[0;34m\u001b[0m\n\u001b[0;32m----> <a href='vscode-notebook-cell:/Users/janpisl/Documents/EPFL/deforestation/notebooks/alerts_EDA.ipynb#ch0000005?line=0'>1</a>\u001b[0m mapb \u001b[39m=\u001b[39m gpd\u001b[39m.\u001b[39;49mread_file(\u001b[39m\"\u001b[39;49m\u001b[39m/Users/janpisl/Documents/EPFL/workdir/sample_data/MapBiomas/dashboard_alerts-shapefilePolygon.shp\u001b[39;49m\u001b[39m\"\u001b[39;49m)\n\u001b[1;32m      <a href='vscode-notebook-cell:/Users/janpisl/Documents/EPFL/deforestation/notebooks/alerts_EDA.ipynb#ch0000005?line=1'>2</a>\u001b[0m mapb\u001b[39m.\u001b[39mhead()\n\u001b[1;32m      <a href='vscode-notebook-cell:/Users/janpisl/Documents/EPFL/deforestation/notebooks/alerts_EDA.ipynb#ch0000005?line=4'>5</a>\u001b[0m mapb[\u001b[39m'\u001b[39m\u001b[39mmonth\u001b[39m\u001b[39m'\u001b[39m] \u001b[39m=\u001b[39m pd\u001b[39m.\u001b[39mto_datetime(mapb\u001b[39m.\u001b[39mDataDetec)\u001b[39m.\u001b[39mdt\u001b[39m.\u001b[39mmonth\n",
      "File \u001b[0;32m~/miniconda3/envs/gee/lib/python3.9/site-packages/geopandas/io/file.py:160\u001b[0m, in \u001b[0;36m_read_file\u001b[0;34m(filename, bbox, mask, rows, **kwargs)\u001b[0m\n\u001b[1;32m    <a href='file:///~/miniconda3/envs/gee/lib/python3.9/site-packages/geopandas/io/file.py?line=156'>157</a>\u001b[0m     reader \u001b[39m=\u001b[39m fiona\u001b[39m.\u001b[39mopen\n\u001b[1;32m    <a href='file:///~/miniconda3/envs/gee/lib/python3.9/site-packages/geopandas/io/file.py?line=158'>159</a>\u001b[0m \u001b[39mwith\u001b[39;00m fiona_env():\n\u001b[0;32m--> <a href='file:///~/miniconda3/envs/gee/lib/python3.9/site-packages/geopandas/io/file.py?line=159'>160</a>\u001b[0m     \u001b[39mwith\u001b[39;00m reader(path_or_bytes, \u001b[39m*\u001b[39;49m\u001b[39m*\u001b[39;49mkwargs) \u001b[39mas\u001b[39;00m features:\n\u001b[1;32m    <a href='file:///~/miniconda3/envs/gee/lib/python3.9/site-packages/geopandas/io/file.py?line=160'>161</a>\u001b[0m \n\u001b[1;32m    <a href='file:///~/miniconda3/envs/gee/lib/python3.9/site-packages/geopandas/io/file.py?line=161'>162</a>\u001b[0m         \u001b[39m# In a future Fiona release the crs attribute of features will\u001b[39;00m\n\u001b[1;32m    <a href='file:///~/miniconda3/envs/gee/lib/python3.9/site-packages/geopandas/io/file.py?line=162'>163</a>\u001b[0m         \u001b[39m# no longer be a dict, but will behave like a dict. So this should\u001b[39;00m\n\u001b[1;32m    <a href='file:///~/miniconda3/envs/gee/lib/python3.9/site-packages/geopandas/io/file.py?line=163'>164</a>\u001b[0m         \u001b[39m# be forwards compatible\u001b[39;00m\n\u001b[1;32m    <a href='file:///~/miniconda3/envs/gee/lib/python3.9/site-packages/geopandas/io/file.py?line=164'>165</a>\u001b[0m         crs \u001b[39m=\u001b[39m (\n\u001b[1;32m    <a href='file:///~/miniconda3/envs/gee/lib/python3.9/site-packages/geopandas/io/file.py?line=165'>166</a>\u001b[0m             features\u001b[39m.\u001b[39mcrs[\u001b[39m\"\u001b[39m\u001b[39minit\u001b[39m\u001b[39m\"\u001b[39m]\n\u001b[1;32m    <a href='file:///~/miniconda3/envs/gee/lib/python3.9/site-packages/geopandas/io/file.py?line=166'>167</a>\u001b[0m             \u001b[39mif\u001b[39;00m features\u001b[39m.\u001b[39mcrs \u001b[39mand\u001b[39;00m \u001b[39m\"\u001b[39m\u001b[39minit\u001b[39m\u001b[39m\"\u001b[39m \u001b[39min\u001b[39;00m features\u001b[39m.\u001b[39mcrs\n\u001b[1;32m    <a href='file:///~/miniconda3/envs/gee/lib/python3.9/site-packages/geopandas/io/file.py?line=167'>168</a>\u001b[0m             \u001b[39melse\u001b[39;00m features\u001b[39m.\u001b[39mcrs_wkt\n\u001b[1;32m    <a href='file:///~/miniconda3/envs/gee/lib/python3.9/site-packages/geopandas/io/file.py?line=168'>169</a>\u001b[0m         )\n\u001b[1;32m    <a href='file:///~/miniconda3/envs/gee/lib/python3.9/site-packages/geopandas/io/file.py?line=170'>171</a>\u001b[0m         \u001b[39m# handle loading the bounding box\u001b[39;00m\n",
      "File \u001b[0;32m~/miniconda3/envs/gee/lib/python3.9/site-packages/fiona/env.py:398\u001b[0m, in \u001b[0;36mensure_env_with_credentials.<locals>.wrapper\u001b[0;34m(*args, **kwargs)\u001b[0m\n\u001b[1;32m    <a href='file:///~/miniconda3/envs/gee/lib/python3.9/site-packages/fiona/env.py?line=394'>395</a>\u001b[0m \u001b[39m@wraps\u001b[39m(f)\n\u001b[1;32m    <a href='file:///~/miniconda3/envs/gee/lib/python3.9/site-packages/fiona/env.py?line=395'>396</a>\u001b[0m \u001b[39mdef\u001b[39;00m \u001b[39mwrapper\u001b[39m(\u001b[39m*\u001b[39margs, \u001b[39m*\u001b[39m\u001b[39m*\u001b[39mkwargs):\n\u001b[1;32m    <a href='file:///~/miniconda3/envs/gee/lib/python3.9/site-packages/fiona/env.py?line=396'>397</a>\u001b[0m     \u001b[39mif\u001b[39;00m local\u001b[39m.\u001b[39m_env:\n\u001b[0;32m--> <a href='file:///~/miniconda3/envs/gee/lib/python3.9/site-packages/fiona/env.py?line=397'>398</a>\u001b[0m         \u001b[39mreturn\u001b[39;00m f(\u001b[39m*\u001b[39;49margs, \u001b[39m*\u001b[39;49m\u001b[39m*\u001b[39;49mkwargs)\n\u001b[1;32m    <a href='file:///~/miniconda3/envs/gee/lib/python3.9/site-packages/fiona/env.py?line=398'>399</a>\u001b[0m     \u001b[39melse\u001b[39;00m:\n\u001b[1;32m    <a href='file:///~/miniconda3/envs/gee/lib/python3.9/site-packages/fiona/env.py?line=399'>400</a>\u001b[0m         \u001b[39mif\u001b[39;00m \u001b[39misinstance\u001b[39m(args[\u001b[39m0\u001b[39m], \u001b[39mstr\u001b[39m):\n",
      "File \u001b[0;32m~/miniconda3/envs/gee/lib/python3.9/site-packages/fiona/__init__.py:253\u001b[0m, in \u001b[0;36mopen\u001b[0;34m(fp, mode, driver, schema, crs, encoding, layer, vfs, enabled_drivers, crs_wkt, **kwargs)\u001b[0m\n\u001b[1;32m    <a href='file:///~/miniconda3/envs/gee/lib/python3.9/site-packages/fiona/__init__.py?line=249'>250</a>\u001b[0m     path \u001b[39m=\u001b[39m parse_path(fp)\n\u001b[1;32m    <a href='file:///~/miniconda3/envs/gee/lib/python3.9/site-packages/fiona/__init__.py?line=251'>252</a>\u001b[0m \u001b[39mif\u001b[39;00m mode \u001b[39min\u001b[39;00m (\u001b[39m'\u001b[39m\u001b[39ma\u001b[39m\u001b[39m'\u001b[39m, \u001b[39m'\u001b[39m\u001b[39mr\u001b[39m\u001b[39m'\u001b[39m):\n\u001b[0;32m--> <a href='file:///~/miniconda3/envs/gee/lib/python3.9/site-packages/fiona/__init__.py?line=252'>253</a>\u001b[0m     c \u001b[39m=\u001b[39m Collection(path, mode, driver\u001b[39m=\u001b[39;49mdriver, encoding\u001b[39m=\u001b[39;49mencoding,\n\u001b[1;32m    <a href='file:///~/miniconda3/envs/gee/lib/python3.9/site-packages/fiona/__init__.py?line=253'>254</a>\u001b[0m                    layer\u001b[39m=\u001b[39;49mlayer, enabled_drivers\u001b[39m=\u001b[39;49menabled_drivers, \u001b[39m*\u001b[39;49m\u001b[39m*\u001b[39;49mkwargs)\n\u001b[1;32m    <a href='file:///~/miniconda3/envs/gee/lib/python3.9/site-packages/fiona/__init__.py?line=254'>255</a>\u001b[0m \u001b[39melif\u001b[39;00m mode \u001b[39m==\u001b[39m \u001b[39m'\u001b[39m\u001b[39mw\u001b[39m\u001b[39m'\u001b[39m:\n\u001b[1;32m    <a href='file:///~/miniconda3/envs/gee/lib/python3.9/site-packages/fiona/__init__.py?line=255'>256</a>\u001b[0m     \u001b[39mif\u001b[39;00m schema:\n\u001b[1;32m    <a href='file:///~/miniconda3/envs/gee/lib/python3.9/site-packages/fiona/__init__.py?line=256'>257</a>\u001b[0m         \u001b[39m# Make an ordered dict of schema properties.\u001b[39;00m\n",
      "File \u001b[0;32m~/miniconda3/envs/gee/lib/python3.9/site-packages/fiona/collection.py:154\u001b[0m, in \u001b[0;36mCollection.__init__\u001b[0;34m(self, path, mode, driver, schema, crs, encoding, layer, vsi, archive, enabled_drivers, crs_wkt, ignore_fields, ignore_geometry, **kwargs)\u001b[0m\n\u001b[1;32m    <a href='file:///~/miniconda3/envs/gee/lib/python3.9/site-packages/fiona/collection.py?line=151'>152</a>\u001b[0m \u001b[39mif\u001b[39;00m \u001b[39mself\u001b[39m\u001b[39m.\u001b[39mmode \u001b[39m==\u001b[39m \u001b[39m'\u001b[39m\u001b[39mr\u001b[39m\u001b[39m'\u001b[39m:\n\u001b[1;32m    <a href='file:///~/miniconda3/envs/gee/lib/python3.9/site-packages/fiona/collection.py?line=152'>153</a>\u001b[0m     \u001b[39mself\u001b[39m\u001b[39m.\u001b[39msession \u001b[39m=\u001b[39m Session()\n\u001b[0;32m--> <a href='file:///~/miniconda3/envs/gee/lib/python3.9/site-packages/fiona/collection.py?line=153'>154</a>\u001b[0m     \u001b[39mself\u001b[39;49m\u001b[39m.\u001b[39;49msession\u001b[39m.\u001b[39;49mstart(\u001b[39mself\u001b[39;49m, \u001b[39m*\u001b[39;49m\u001b[39m*\u001b[39;49mkwargs)\n\u001b[1;32m    <a href='file:///~/miniconda3/envs/gee/lib/python3.9/site-packages/fiona/collection.py?line=154'>155</a>\u001b[0m \u001b[39melif\u001b[39;00m \u001b[39mself\u001b[39m\u001b[39m.\u001b[39mmode \u001b[39min\u001b[39;00m (\u001b[39m'\u001b[39m\u001b[39ma\u001b[39m\u001b[39m'\u001b[39m, \u001b[39m'\u001b[39m\u001b[39mw\u001b[39m\u001b[39m'\u001b[39m):\n\u001b[1;32m    <a href='file:///~/miniconda3/envs/gee/lib/python3.9/site-packages/fiona/collection.py?line=155'>156</a>\u001b[0m     \u001b[39mself\u001b[39m\u001b[39m.\u001b[39msession \u001b[39m=\u001b[39m WritingSession()\n",
      "File \u001b[0;32mfiona/ogrext.pyx:484\u001b[0m, in \u001b[0;36mfiona.ogrext.Session.start\u001b[0;34m()\u001b[0m\n",
      "File \u001b[0;32mfiona/_shim.pyx:90\u001b[0m, in \u001b[0;36mfiona._shim.gdal_open_vector\u001b[0;34m()\u001b[0m\n",
      "\u001b[0;31mDriverError\u001b[0m: /Users/janpisl/Documents/EPFL/workdir/sample_data/MapBiomas/dashboard_alerts-shapefilePolygon.shp: No such file or directory"
     ]
    }
   ],
   "source": [
    "mapb = gpd.read_file(\"/Users/janpisl/Documents/EPFL/workdir/sample_data/MapBiomas/dashboard_alerts-shapefilePolygon.shp\")\n",
    "mapb.head()\n",
    "\n",
    "\n",
    "mapb['month'] = pd.to_datetime(mapb.DataDetec).dt.month\n",
    "plot = mapb.month.hist()\n",
    "plot.set_title(\"Annual distribution of MapBiomas deforestation polygons\")\n",
    "plot.set_xlabel(\"Month - January to December\")\n",
    "plot.set_ylabel(\"Count\")"
   ]
  },
  {
   "cell_type": "markdown",
   "metadata": {},
   "source": [
    "Here I clip DETER by my AOI and then extract alerts within AOI separately for July, August, September 2019."
   ]
  },
  {
   "cell_type": "code",
   "execution_count": 6,
   "metadata": {},
   "outputs": [],
   "source": [
    "aoi = gpd.read_file(\"../data/aoi_1/vector/aoi_1.geojson\")\n",
    "aoi = aoi.to_crs(deter.crs)"
   ]
  },
  {
   "cell_type": "code",
   "execution_count": 9,
   "metadata": {},
   "outputs": [],
   "source": [
    "clipped_deter = gpd.clip(deter, aoi)\n"
   ]
  },
  {
   "cell_type": "code",
   "execution_count": 10,
   "metadata": {},
   "outputs": [],
   "source": [
    "clipped_deter['date'] = pd.to_datetime(clipped_deter.VIEW_DATE)"
   ]
  },
  {
   "cell_type": "code",
   "execution_count": 8,
   "metadata": {},
   "outputs": [
    {
     "ename": "NameError",
     "evalue": "name 'clipped_deter' is not defined",
     "output_type": "error",
     "traceback": [
      "\u001b[0;31m---------------------------------------------------------------------------\u001b[0m",
      "\u001b[0;31mNameError\u001b[0m                                 Traceback (most recent call last)",
      "\u001b[1;32m/Users/janpisl/Documents/EPFL/deforestation/notebooks/alerts_EDA.ipynb Cell 11'\u001b[0m in \u001b[0;36m<module>\u001b[0;34m\u001b[0m\n\u001b[0;32m----> <a href='vscode-notebook-cell:/Users/janpisl/Documents/EPFL/deforestation/notebooks/alerts_EDA.ipynb#ch0000010?line=0'>1</a>\u001b[0m clipped_deter\u001b[39m.\u001b[39mquery(\u001b[39m'\u001b[39m\u001b[39m20190701 < date < 20191001\u001b[39m\u001b[39m'\u001b[39m)\u001b[39m.\u001b[39mplot()\n",
      "\u001b[0;31mNameError\u001b[0m: name 'clipped_deter' is not defined"
     ]
    }
   ],
   "source": [
    "clipped_deter.query('20190701 < date < 20191001').plot()"
   ]
  },
  {
   "cell_type": "code",
   "execution_count": 11,
   "metadata": {},
   "outputs": [
    {
     "name": "stdout",
     "output_type": "stream",
     "text": [
      "[2016 2017 2018 2019 2020 2021 2022]\n"
     ]
    },
    {
     "data": {
      "image/png": "[encoded data removed]",
      "text/plain": [
       "<Figure size 432x288 with 1 Axes>"
      ]
     },
     "metadata": {
      "needs_background": "light"
     },
     "output_type": "display_data"
    }
   ],
   "source": [
    "clipped_deter['year'] = pd.to_datetime(clipped_deter.VIEW_DATE).dt.year\n",
    "plot = clipped_deter.year.hist()\n",
    "\n",
    "plot.set_title(\"Distribution of DETER deforestation polygons by year\")\n",
    "plot.set_xlabel(\"Year\")\n",
    "plot.set_ylabel(\"Count\")\n",
    "print(np.unique(clipped_deter.year))"
   ]
  },
  {
   "cell_type": "markdown",
   "metadata": {},
   "source": [
    "Here I am gonna develop the code for generating labels. The procedure for a single DETER polygon is that i buffer the polygon, then open some raster, mask and clip this by the buffered polygon and write it to disk. i will use this new raster as a template for rasterizing the polygon.\n",
    "\n",
    "in the next step, i open the raster and burn the polygon in it"
   ]
  },
  {
   "cell_type": "code",
   "execution_count": 23,
   "metadata": {},
   "outputs": [],
   "source": [
    "subset = clipped_deter[11:12]\n",
    "#32722 is UTM 22S which is the right UTM zone for this area\n",
    "subset = subset.to_crs(32722)"
   ]
  },
  {
   "cell_type": "code",
   "execution_count": 35,
   "metadata": {},
   "outputs": [
    {
     "data": {
      "text/plain": [
       "count    2.482090e+05\n",
       "mean     5.457492e+05\n",
       "std      2.766549e+06\n",
       "min      9.736174e-04\n",
       "25%      9.390980e+04\n",
       "50%      1.540349e+05\n",
       "75%      3.290466e+05\n",
       "max      6.187093e+08\n",
       "dtype: float64"
      ]
     },
     "execution_count": 35,
     "metadata": {},
     "output_type": "execute_result"
    }
   ],
   "source": [
    "#deter_proj = deter.to_crs(32722)\n",
    "#deter_proj['area'] = deter_proj.geometry.area\n",
    "deter_proj.area.describe()\n"
   ]
  },
  {
   "cell_type": "code",
   "execution_count": 39,
   "metadata": {},
   "outputs": [
    {
     "data": {
      "text/html": [
       "<div>\n",
       "<style scoped>\n",
       "    .dataframe tbody tr th:only-of-type {\n",
       "        vertical-align: middle;\n",
       "    }\n",
       "\n",
       "    .dataframe tbody tr th {\n",
       "        vertical-align: top;\n",
       "    }\n",
       "\n",
       "    .dataframe thead th {\n",
       "        text-align: right;\n",
       "    }\n",
       "</style>\n",
       "<table border=\"1\" class=\"dataframe\">\n",
       "  <thead>\n",
       "    <tr style=\"text-align: right;\">\n",
       "      <th></th>\n",
       "      <th>CLASSNAME</th>\n",
       "      <th>QUADRANT</th>\n",
       "      <th>PATH_ROW</th>\n",
       "      <th>VIEW_DATE</th>\n",
       "      <th>SENSOR</th>\n",
       "      <th>SATELLITE</th>\n",
       "      <th>AREAUCKM</th>\n",
       "      <th>UC</th>\n",
       "      <th>AREAMUNKM</th>\n",
       "      <th>MUNICIPALI</th>\n",
       "      <th>GEOCODIBGE</th>\n",
       "      <th>UF</th>\n",
       "      <th>geometry</th>\n",
       "      <th>month</th>\n",
       "      <th>year</th>\n",
       "      <th>date</th>\n",
       "    </tr>\n",
       "  </thead>\n",
       "  <tbody>\n",
       "    <tr>\n",
       "      <th>2075</th>\n",
       "      <td>CICATRIZ_DE_QUEIMADA</td>\n",
       "      <td>None</td>\n",
       "      <td>165105</td>\n",
       "      <td>2020-09-17</td>\n",
       "      <td>AWFI</td>\n",
       "      <td>CBERS-4</td>\n",
       "      <td>0.0</td>\n",
       "      <td>None</td>\n",
       "      <td>0.12829</td>\n",
       "      <td>Altamira</td>\n",
       "      <td>1500602</td>\n",
       "      <td>PA</td>\n",
       "      <td>POLYGON ((214792.162 9310676.268, 214791.984 9...</td>\n",
       "      <td>9</td>\n",
       "      <td>2020</td>\n",
       "      <td>2020-09-17</td>\n",
       "    </tr>\n",
       "  </tbody>\n",
       "</table>\n",
       "</div>"
      ],
      "text/plain": [
       "                 CLASSNAME QUADRANT PATH_ROW   VIEW_DATE SENSOR SATELLITE  \\\n",
       "2075  CICATRIZ_DE_QUEIMADA     None   165105  2020-09-17   AWFI   CBERS-4   \n",
       "\n",
       "      AREAUCKM    UC  AREAMUNKM MUNICIPALI GEOCODIBGE  UF  \\\n",
       "2075       0.0  None    0.12829   Altamira    1500602  PA   \n",
       "\n",
       "                                               geometry  month  year  \\\n",
       "2075  POLYGON ((214792.162 9310676.268, 214791.984 9...      9  2020   \n",
       "\n",
       "           date  \n",
       "2075 2020-09-17  "
      ]
     },
     "execution_count": 39,
     "metadata": {},
     "output_type": "execute_result"
    }
   ],
   "source": [
    "subset"
   ]
  },
  {
   "cell_type": "code",
   "execution_count": 26,
   "metadata": {},
   "outputs": [
    {
     "data": {
      "text/plain": [
       "<AxesSubplot:>"
      ]
     },
     "execution_count": 26,
     "metadata": {},
     "output_type": "execute_result"
    },
    {
     "data": {
      "image/png": "[encoded data removed]",
      "text/plain": [
       "<Figure size 432x288 with 1 Axes>"
      ]
     },
     "metadata": {
      "needs_background": "light"
     },
     "output_type": "display_data"
    }
   ],
   "source": [
    "subset.buffer(100).plot()"
   ]
  },
  {
   "cell_type": "code",
   "execution_count": 51,
   "metadata": {},
   "outputs": [
    {
     "data": {
      "text/plain": [
       "'2020-09-17'"
      ]
     },
     "execution_count": 51,
     "metadata": {},
     "output_type": "execute_result"
    }
   ],
   "source": []
  },
  {
   "cell_type": "code",
   "execution_count": 52,
   "metadata": {},
   "outputs": [],
   "source": [
    "raster_path = '../data/aoi_1/raster/2019_2021/2019_01_02.tif'\n",
    "labels_dir = '../data/aoi_1/raster/labels/'\n",
    "\n",
    "date = subset.date.dt.strftime('%Y_%m_%d').values[0]\n",
    "id = subset.PATH_ROW.values[0]\n",
    "name = f\"{date}_deter_{id}.tif\"\n",
    "out_path = os.path.join(labels_dir, name)\n",
    "\n",
    "with rasterio.open(raster_path) as src:\n",
    "    out_image, out_transform = rasterio.mask.mask(src, [subset.buffer(100).geometry.values[0]], crop=True)\n",
    "    out_meta = src.meta\n",
    "\n",
    "\n",
    "out_meta.update({\"driver\": \"GTiff\",\n",
    "                 \"height\": out_image.shape[1],\n",
    "                 \"width\": out_image.shape[2],\n",
    "                 \"transform\": out_transform})\n",
    "\n",
    "with rasterio.open(out_path, \"w\", **out_meta) as dest:\n",
    "    dest.write(out_image)"
   ]
  },
  {
   "cell_type": "code",
   "execution_count": 53,
   "metadata": {},
   "outputs": [],
   "source": [
    "with rasterio.open(out_path) as src:\n",
    "    out_image, out_transform = rasterio.mask.mask(src, [subset.geometry.values[0]])\n",
    "    out_meta = src.meta\n",
    "    out_image[out_image > 0] = 1\n",
    "\n",
    "\n",
    "out_meta.update({\"driver\": \"GTiff\",\n",
    "                 \"height\": out_image.shape[1],\n",
    "                 \"width\": out_image.shape[2],\n",
    "                 \"transform\": out_transform})\n",
    "\n",
    "with rasterio.open(out_path, \"w\", **out_meta) as dest:\n",
    "    dest.write(out_image)"
   ]
  },
  {
   "cell_type": "code",
   "execution_count": null,
   "metadata": {},
   "outputs": [],
   "source": []
  }
 ],
 "metadata": {
  "interpreter": {
   "hash": "ed0d5165fde6336af43e98beed8c8cc4390213f314ddbf79d35dc3e0efe92c7d"
  },
  "kernelspec": {
   "display_name": "Python 3.9.10 ('gee')",
   "language": "python",
   "name": "python3"
  },
  "language_info": {
   "codemirror_mode": {
    "name": "ipython",
    "version": 3
   },
   "file_extension": ".py",
   "mimetype": "text/x-python",
   "name": "python",
   "nbconvert_exporter": "python",
   "pygments_lexer": "ipython3",
   "version": "3.9.10"
  },
  "orig_nbformat": 4
 },
 "nbformat": 4,
 "nbformat_minor": 2
}
