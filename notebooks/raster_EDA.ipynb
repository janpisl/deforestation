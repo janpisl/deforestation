{
 "cells": [
  {
   "cell_type": "markdown",
   "metadata": {},
   "source": [
    "In this notebook, I explore some of the S2 rasters, see how to mask them out based on the classification band and how to merge them monthly into medians and maybe how to interpolate some of the missing values"
   ]
  },
  {
   "cell_type": "code",
   "execution_count": 8,
   "metadata": {},
   "outputs": [],
   "source": [
    "import rasterio\n",
    "from rasterio.plot import show\n",
    "import numpy as np\n",
    "import os\n",
    "import matplotlib.pyplot as plt\n",
    "import glob\n",
    "%matplotlib inline"
   ]
  },
  {
   "cell_type": "code",
   "execution_count": 10,
   "metadata": {},
   "outputs": [],
   "source": [
    "# Function to normalize the grid values\n",
    "def normalize(array):\n",
    "    \"\"\"Normalizes numpy arrays into scale 0.0 - 1.0\"\"\"\n",
    "    array_min, array_max = array.min(), array.max()\n",
    "    return ((array - array_min)/(array_max - array_min))"
   ]
  },
  {
   "cell_type": "code",
   "execution_count": 11,
   "metadata": {},
   "outputs": [
    {
     "name": "stdout",
     "output_type": "stream",
     "text": [
      "Normalized bands\n",
      "0.0 - 1.0 mean: 0.0570226440021899\n",
      "0.0 - 1.0 mean: 0.06959920561619219\n",
      "0.0 - 1.0 mean: 0.0457738969323509\n"
     ]
    },
    {
     "data": {
      "image/png": "[encoded data removed]",
      "text/plain": [
       "<Figure size 432x288 with 1 Axes>"
      ]
     },
     "metadata": {
      "needs_background": "light"
     },
     "output_type": "display_data"
    }
   ],
   "source": [
    "# As per https://automating-gis-processes.github.io/site/notebooks/Raster/plotting-raster.html \n",
    "\n",
    "\n",
    "path = '../data/aoi_1/raster/2019/01Sep2019.tif'\n",
    "\n",
    "\n",
    "with rasterio.open(path) as src:\n",
    "\n",
    "    # Read the grid values into numpy arrays\n",
    "    red = src.read(3)\n",
    "    green = src.read(2)\n",
    "    blue = src.read(1)\n",
    "\n",
    "\n",
    "    red = np.ma.array(red, mask=np.isnan(red))\n",
    "    green = np.ma.array(green, mask=np.isnan(green))\n",
    "    blue = np.ma.array(blue, mask=np.isnan(blue))\n",
    "\n",
    "    # Normalize the bands\n",
    "    redn = normalize(red)\n",
    "    greenn = normalize(green)\n",
    "    bluen = normalize(blue)\n",
    "\n",
    "    print(\"Normalized bands\")\n",
    "    print(redn.min(), '-', redn.max(), 'mean:', redn.mean())\n",
    "    print(greenn.min(), '-', greenn.max(), 'mean:', greenn.mean())\n",
    "    print(bluen.min(), '-', bluen.max(), 'mean:', bluen.mean())\n",
    "\n",
    "    # Create RGB natural color composite\n",
    "    rgb = np.dstack((redn, greenn, bluen))\n",
    "\n",
    "    # Let's see how our color composite looks like\n",
    "    plt.imshow(rgb)"
   ]
  },
  {
   "cell_type": "code",
   "execution_count": 10,
   "metadata": {},
   "outputs": [],
   "source": [
    "path = '../data/aoi_1/raster/2019/01Sep2019.tif'\n",
    "\n",
    "\n",
    "with rasterio.open(path) as src:\n",
    "\n",
    "    data = src.read()\n",
    "    profile = src.profile\n",
    "    \n"
   ]
  },
  {
   "cell_type": "code",
   "execution_count": 99,
   "metadata": {},
   "outputs": [
    {
     "data": {
      "text/plain": [
       "array([[False, False, False, ..., False, False, False],\n",
       "       [False, False, False, ..., False, False, False],\n",
       "       [False, False, False, ..., False, False, False],\n",
       "       ...,\n",
       "       [False, False, False, ..., False, False, False],\n",
       "       [False, False, False, ..., False, False, False],\n",
       "       [False, False, False, ..., False, False, False]])"
      ]
     },
     "execution_count": 99,
     "metadata": {},
     "output_type": "execute_result"
    }
   ],
   "source": [
    "s2_scl_table = {\n",
    "    1 : \"satured or defective\",\n",
    "    2 : \"dark area pixels\",\n",
    "    3 : \"cloud shadows\",\n",
    "    4 : \"vegetation\",\n",
    "    5 : \"bare soils\",\n",
    "    6 : \"water\",\n",
    "    7 : \"clouds low probability/unclassified\",\n",
    "    8 : \"clouds medium probability\",\n",
    "    9 : \"clouds high probability\",\n",
    "    10 : \"cirrus\",\n",
    "    11 : \"snow/ice\"\n",
    "}\n",
    "\n",
    "\n",
    "# I create a 2D mask that returns false for pixels where the classification isn't nan and also isn't one of the undesired values (clouds, shadows,..)\n",
    "#mask = ~(np.isin(data[-1], [1,3,7,8,9]) | np.isnan(data[-1]))\n",
    "\n"
   ]
  },
  {
   "cell_type": "code",
   "execution_count": 14,
   "metadata": {},
   "outputs": [
    {
     "name": "stdout",
     "output_type": "stream",
     "text": [
      "(3, 7818, 11132) nan\n",
      "(3, 7818, 11132) 8576.0\n"
     ]
    }
   ],
   "source": [
    "image = data[:3]\n",
    "image_valid = np.ma.array(image, mask=np.isnan(image))\n",
    "print(image.shape, image.mean())\n",
    "print(image_valid.shape, image_valid.max())"
   ]
  },
  {
   "cell_type": "code",
   "execution_count": 15,
   "metadata": {},
   "outputs": [],
   "source": [
    "mask_2d = ~np.isin(data[-1], [1,3,7,8,9])\n",
    "mask_3d = np.broadcast_to(mask_2d, image_valid.shape)"
   ]
  },
  {
   "cell_type": "code",
   "execution_count": 21,
   "metadata": {},
   "outputs": [],
   "source": [
    "image_valid[~mask_3d] = np.nan"
   ]
  },
  {
   "cell_type": "code",
   "execution_count": 26,
   "metadata": {},
   "outputs": [],
   "source": [
    "profile.update(count=3)\n",
    "with rasterio.open('1sep_masked.tif', \"w\", **profile) as sink:\n",
    "    sink.write(image_valid)"
   ]
  },
  {
   "cell_type": "markdown",
   "metadata": {},
   "source": [
    "So far, things worked. I get a raster with masked out nondata + shadow/cloud values. The cloud masking is not perfect. Perhaps I should add some buffer at a later stage (although not sure how atm)\n",
    "\n",
    "Let's now merge multiple rasters from 1 month into a median of them."
   ]
  },
  {
   "cell_type": "code",
   "execution_count": 38,
   "metadata": {},
   "outputs": [],
   "source": [
    "#np.nanmedian(a, axis=None, out=None,\n",
    "#Compute the median along the specified axis, while ignoring NaNs\n",
    "\n",
    "import glob\n",
    "month = 'Sep'\n",
    "rasters = glob.glob(f'../data/aoi_1/raster/2019/*{month}*')"
   ]
  },
  {
   "cell_type": "code",
   "execution_count": 5,
   "metadata": {},
   "outputs": [],
   "source": [
    "def mask_raster(path):\n",
    "\n",
    "    with rasterio.open(path) as src:\n",
    "\n",
    "        data = src.read()\n",
    "        profile = src.profile\n",
    "\n",
    "    image = data[:3]\n",
    "    image_valid = np.ma.array(image, mask=np.isnan(image))\n",
    "\n",
    "\n",
    "    mask_2d = ~np.isin(data[-1], [1,3,7,8,9])\n",
    "    mask_3d = np.broadcast_to(mask_2d, image_valid.shape)\n",
    "\n",
    "    image_valid[~mask_3d] = np.nan\n",
    "\n",
    "    return image_valid\n",
    "\n"
   ]
  },
  {
   "cell_type": "code",
   "execution_count": 39,
   "metadata": {},
   "outputs": [],
   "source": [
    "masked_rasters = [mask_raster(path) for path in rasters]"
   ]
  },
  {
   "cell_type": "code",
   "execution_count": 45,
   "metadata": {},
   "outputs": [
    {
     "name": "stdout",
     "output_type": "stream",
     "text": [
      "[536.9061120761932, 1158.046731488407, 397.2447595594308, 529.4294642407534, 663.3485779806065, 603.1388458112933, 596.6382554087584]\n"
     ]
    }
   ],
   "source": [
    "print([np.ma.array(image, mask=np.isnan(image)).mean() for image in masked_rasters])"
   ]
  },
  {
   "cell_type": "code",
   "execution_count": 42,
   "metadata": {},
   "outputs": [
    {
     "data": {
      "text/plain": [
       "(7, 3, 7818, 11132)"
      ]
     },
     "execution_count": 42,
     "metadata": {},
     "output_type": "execute_result"
    }
   ],
   "source": [
    "stacked = np.stack(masked_rasters)\n",
    "stacked.shape\n",
    "\n"
   ]
  },
  {
   "cell_type": "code",
   "execution_count": 43,
   "metadata": {},
   "outputs": [
    {
     "name": "stderr",
     "output_type": "stream",
     "text": [
      "/home/jan/miniconda3/lib/python3.9/site-packages/numpy/lib/nanfunctions.py:1119: RuntimeWarning: All-NaN slice encountered\n",
      "  r, k = function_base._ureduce(a, func=_nanmedian, axis=axis, out=out,\n"
     ]
    }
   ],
   "source": [
    "out = np.nanmedian(stacked, axis=0)"
   ]
  },
  {
   "cell_type": "code",
   "execution_count": 46,
   "metadata": {},
   "outputs": [],
   "source": [
    "profile.update(count=3)\n",
    "with rasterio.open('../data/workdir/sep_mosaic.tif', \"w\", **profile) as sink:\n",
    "    sink.write(out)"
   ]
  },
  {
   "cell_type": "code",
   "execution_count": 48,
   "metadata": {},
   "outputs": [
    {
     "name": "stderr",
     "output_type": "stream",
     "text": [
      "/tmp/ipykernel_860226/1421056936.py:1: RuntimeWarning: Mean of empty slice\n",
      "  out_mean = np.nanmean(stacked, axis=0)\n"
     ]
    }
   ],
   "source": [
    "out_mean = np.nanmean(stacked, axis=0)\n",
    "profile.update(count=3)\n",
    "with rasterio.open('../data/workdir/sep_mean.tif', \"w\", **profile) as sink:\n",
    "    sink.write(out_mean)"
   ]
  },
  {
   "cell_type": "code",
   "execution_count": 12,
   "metadata": {},
   "outputs": [],
   "source": [
    "def write_monthly_median(month):\n",
    "    files = glob.glob(f'../data/aoi_1/raster/2019/*{month}*')\n",
    "    if len(files) < 2:\n",
    "        return\n",
    "\n",
    "    masked_rasters = [mask_raster(path) for path in files]\n",
    "    stacked = np.stack(masked_rasters)\n",
    "    out = np.nanmedian(stacked, axis=0)\n",
    "    profile.update(count=3)\n",
    "    with rasterio.open(f'../data/workdir/monthly_medians/{month}.tif', \"w\", **profile) as sink:\n",
    "        sink.write(out)\n",
    "\n",
    " \n"
   ]
  },
  {
   "cell_type": "code",
   "execution_count": null,
   "metadata": {},
   "outputs": [],
   "source": [
    "for month in [\"Jan\", \"Feb\", \"Mar\", \"Apr\", \"May\", \"Jun\", \"Jul\", \"Aug\", \"Sep\", \"Oct\", \"Nov\", \"Dec\"]:\n",
    "    write_monthly_median(month)\n",
    "\n",
    "\n"
   ]
  },
  {
   "cell_type": "code",
   "execution_count": null,
   "metadata": {},
   "outputs": [],
   "source": []
  },
  {
   "cell_type": "code",
   "execution_count": null,
   "metadata": {},
   "outputs": [],
   "source": []
  }
 ],
 "metadata": {
  "interpreter": {
   "hash": "ed0d5165fde6336af43e98beed8c8cc4390213f314ddbf79d35dc3e0efe92c7d"
  },
  "kernelspec": {
   "display_name": "Python 3.9.10 ('gee')",
   "language": "python",
   "name": "python3"
  },
  "language_info": {
   "codemirror_mode": {
    "name": "ipython",
    "version": 3
   },
   "file_extension": ".py",
   "mimetype": "text/x-python",
   "name": "python",
   "nbconvert_exporter": "python",
   "pygments_lexer": "ipython3",
   "version": "3.9.7"
  },
  "orig_nbformat": 4
 },
 "nbformat": 4,
 "nbformat_minor": 2
}
