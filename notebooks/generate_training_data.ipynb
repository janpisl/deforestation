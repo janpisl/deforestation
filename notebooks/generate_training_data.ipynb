{
 "cells": [
  {
   "cell_type": "markdown",
   "metadata": {},
   "source": [
    "Here I develop code to generate training examples. The process might look like this:\n",
    "\n",
    "1. I sample two images. For a start, I can pick two images e.g. 1 year apart\n",
    "2. I get the intersection of their extents\n",
    "3. I get the subset of deter polygons within the intersection and within the time window\n",
    "4. I rasterize/mask the polygons from set 3.\n",
    "5. I iterate through the area; if there are no no-data values in neither of two images, i generate a patch and a corresponding label"
   ]
  },
  {
   "cell_type": "code",
   "execution_count": 88,
   "metadata": {},
   "outputs": [],
   "source": [
    "import glob\n",
    "import os\n",
    "from pathlib import Path\n",
    "import matplotlib.pyplot as plt\n",
    "\n",
    "from shapely.geometry import box, Polygon\n",
    "import numpy as np\n",
    "import pandas as pd\n",
    "import rasterio\n",
    "from rasterio.windows import get_data_window, transform, shape\n",
    "import geopandas as gpd\n",
    "import pandas as pd\n",
    "from pandas import Timestamp\n",
    "from rasterio.mask import mask"
   ]
  },
  {
   "cell_type": "code",
   "execution_count": 147,
   "metadata": {},
   "outputs": [],
   "source": [
    "image_1_path = '../data/aoi_1/raster/2019_2021_processed/2019_07_16.tif'\n",
    "image_2_path = '../data/aoi_1/raster/2019_2021_processed/2020_07_15.tif'\n",
    "\n",
    "temp_dir = '../data/aoi_1/raster/workdir/'\n",
    "\n",
    "\n",
    "deter_path = '../data/sample_data/DETER/deter_public.shp'"
   ]
  },
  {
   "cell_type": "code",
   "execution_count": 148,
   "metadata": {},
   "outputs": [],
   "source": [
    "margin_days = 31\n",
    "margin = pd.to_timedelta(margin_days, unit='d')\n",
    "\n",
    "raster_crs = 32722\n"
   ]
  },
  {
   "cell_type": "code",
   "execution_count": 149,
   "metadata": {},
   "outputs": [],
   "source": [
    "def get_raster_bounds(path: str) -> Polygon:\n",
    "    \"\"\"Open raster and return its extent/bounds\n",
    "\n",
    "    Args:\n",
    "        path (str): path to tif file\n",
    "\n",
    "    Returns:\n",
    "        Polygon: extent of the raster as a shapely Polygon\n",
    "    \"\"\"\n",
    "    with rasterio.open(path) as src:\n",
    "        geom = box(*src.bounds)\n",
    "    \n",
    "    return geom"
   ]
  },
  {
   "cell_type": "code",
   "execution_count": 150,
   "metadata": {},
   "outputs": [],
   "source": [
    "def get_raster_date(path: str) -> Timestamp:\n",
    "    \"\"\"Extract date from file name\n",
    "\n",
    "    Args:\n",
    "        path (str): path to raster file; expects certain naming conventions\n",
    "\n",
    "    Returns:\n",
    "        pandas Timestamp: date of acquisition of this raster\n",
    "    \"\"\"\n",
    "\n",
    "    filename = Path(path).stem\n",
    "    date = pd.to_datetime(filename.replace(\"_\", \"-\"))\n",
    "\n",
    "    return date\n"
   ]
  },
  {
   "cell_type": "code",
   "execution_count": 151,
   "metadata": {},
   "outputs": [],
   "source": [
    "bounds_1 = get_raster_bounds(image_1_path)\n",
    "bounds_2 = get_raster_bounds(image_2_path)\n",
    "intersection = bounds_1.intersection(bounds_2)"
   ]
  },
  {
   "cell_type": "code",
   "execution_count": 152,
   "metadata": {},
   "outputs": [],
   "source": [
    "start_date = get_raster_date(image_1_path)\n",
    "end_date = get_raster_date(image_2_path)"
   ]
  },
  {
   "cell_type": "code",
   "execution_count": 153,
   "metadata": {},
   "outputs": [],
   "source": [
    "deter = gpd.read_file(deter_path).to_crs(raster_crs)"
   ]
  },
  {
   "cell_type": "code",
   "execution_count": 154,
   "metadata": {},
   "outputs": [],
   "source": [
    "deter_spatial_subset = deter.loc[deter.intersects(intersection)].copy()\n",
    "deter_spatial_subset['date'] = pd.to_datetime(deter_spatial_subset.VIEW_DATE)"
   ]
  },
  {
   "cell_type": "code",
   "execution_count": 155,
   "metadata": {},
   "outputs": [],
   "source": [
    "deter_temporal_subset = deter_spatial_subset.loc[\n",
    "    (deter_spatial_subset['date'] > (start_date + margin).strftime('%Y-%m-%d')) \n",
    "    & (deter_spatial_subset['date'] < (end_date - margin).strftime('%Y-%m-%d'))]\n",
    "\n",
    "deter_subset = deter_temporal_subset"
   ]
  },
  {
   "cell_type": "code",
   "execution_count": 166,
   "metadata": {},
   "outputs": [],
   "source": [
    "template_raster_path = os.path.join(temp_dir, 'segm_mask.tif')\n",
    "\n",
    "with rasterio.open(image_1_path) as src:\n",
    "    out_image, out_transform = mask(src, [geom for geom in deter_subset.geometry], crop=True)\n",
    "    out_meta = src.meta\n",
    "\n",
    "    out_image = out_image[:1]\n",
    "    out_image[out_image > 0] = 1\n",
    "\n",
    "\n",
    "out_meta.update({\"driver\": \"GTiff\",\n",
    "                \"height\": out_image.shape[1],\n",
    "                \"width\": out_image.shape[2],\n",
    "                \"count\": 1,\n",
    "                \"transform\": out_transform})\n",
    "\n",
    "\n",
    "with rasterio.open(template_raster_path, \"w\", **out_meta) as dest:\n",
    "    dest.write(out_image)"
   ]
  },
  {
   "cell_type": "markdown",
   "metadata": {},
   "source": [
    "I have produced the segmentation mask for a given pair of images. As expected, the vast majority of pixels is negative. I think that a possible solution could be\n",
    "\n",
    "1. for each of the subset of deter polygons, get its bbox\n",
    "2. buffer the bbox by some value\n",
    "3. maybe do some kind of union to get rid of areas being included multiple times (as a result of nearby polygons + buffer)\n",
    "4. for each separate polygon, clip this polygon from the input and output rasters\n",
    "5. then for each of these, as specified before, iterate through them and extract valid patches"
   ]
  },
  {
   "cell_type": "code",
   "execution_count": 173,
   "metadata": {},
   "outputs": [],
   "source": [
    "# The envelope of a geometry is the bounding rectangle. \n",
    "# That is, the point or smallest rectangular polygon \n",
    "# (with sides parallel to the coordinate axes) that contains the geometry.\n",
    "\n",
    "deter_subset['bbox'] = deter_subset.envelope.buffer(100)"
   ]
  },
  {
   "cell_type": "code",
   "execution_count": 183,
   "metadata": {},
   "outputs": [
    {
     "data": {
      "text/plain": [
       "2953      POLYGON ((176370.104 9324777.053, 176836.168 9...\n",
       "3855      POLYGON ((232375.306 9331097.691, 233255.733 9...\n",
       "3946      POLYGON ((242097.082 9320874.005, 242915.176 9...\n",
       "4047      POLYGON ((230803.350 9316704.615, 231078.747 9...\n",
       "4063      POLYGON ((226269.229 9318802.844, 226921.584 9...\n",
       "                                ...                        \n",
       "180022    POLYGON ((185422.950 9347329.980, 185904.308 9...\n",
       "180551    POLYGON ((242438.383 9320852.635, 242884.955 9...\n",
       "180565    POLYGON ((245225.401 9324017.877, 245506.408 9...\n",
       "182038    POLYGON ((248298.940 9324116.119, 249040.465 9...\n",
       "184462    POLYGON ((233745.644 9359213.899, 234258.943 9...\n",
       "Length: 211, dtype: geometry"
      ]
     },
     "execution_count": 183,
     "metadata": {},
     "output_type": "execute_result"
    }
   ],
   "source": []
  },
  {
   "cell_type": "code",
   "execution_count": 181,
   "metadata": {},
   "outputs": [],
   "source": [
    "def write_patch(row, index, image_path, out_dir):\n",
    "\n",
    "    out_name = str(index) + \"_\" + Path(image_path).name\n",
    "    out_path = os.path.join(out_dir, out_name)\n",
    "\n",
    "    with rasterio.open(image_path) as src:\n",
    "        out_image, out_transform = mask(src, [row.bbox], crop=True)\n",
    "        out_meta = src.meta\n",
    "\n",
    "    out_meta.update({\"driver\": \"GTiff\",\n",
    "                    \"height\": out_image.shape[1],\n",
    "                    \"width\": out_image.shape[2],\n",
    "                    \"transform\": out_transform})\n",
    "\n",
    "\n",
    "    with rasterio.open(out_path, \"w\", **out_meta) as dest:\n",
    "        dest.write(out_image)"
   ]
  },
  {
   "cell_type": "code",
   "execution_count": 182,
   "metadata": {},
   "outputs": [],
   "source": [
    "out_dir = '../data/aoi_1/raster/workdir/examples'\n",
    "\n",
    "for idx, row in deter_subset.iterrows():\n",
    "    write_patch(row, idx, image_1_path, out_dir)\n",
    "    write_patch(row, idx, image_2_path, out_dir)\n",
    "\n",
    "\n"
   ]
  },
  {
   "cell_type": "code",
   "execution_count": 158,
   "metadata": {},
   "outputs": [
    {
     "name": "stderr",
     "output_type": "stream",
     "text": [
      "/Users/janpisl/miniconda3/envs/gee/lib/python3.9/site-packages/geopandas/io/file.py:299: FutureWarning: pandas.Int64Index is deprecated and will be removed from pandas in a future version. Use pandas.Index with the appropriate dtype instead.\n",
      "  pd.Int64Index,\n"
     ]
    }
   ],
   "source": [
    "#deter_subset['geometry'] = deter_subset['bbox']\n",
    "deter_subset = deter_temporal_subset.drop(['date'], axis=1)\n",
    "deter_subset.to_file(\"../data/aoi_1/vector/workdir/deter_subset_2019_07_16___2020_07_15.shp\")"
   ]
  },
  {
   "cell_type": "code",
   "execution_count": 187,
   "metadata": {},
   "outputs": [
    {
     "name": "stderr",
     "output_type": "stream",
     "text": [
      "/Users/janpisl/miniconda3/envs/gee/lib/python3.9/site-packages/geopandas/geodataframe.py:1322: SettingWithCopyWarning: \n",
      "A value is trying to be set on a copy of a slice from a DataFrame.\n",
      "Try using .loc[row_indexer,col_indexer] = value instead\n",
      "\n",
      "See the caveats in the documentation: https://pandas.pydata.org/pandas-docs/stable/user_guide/indexing.html#returning-a-view-versus-a-copy\n",
      "  super(GeoDataFrame, self).__setitem__(key, value)\n"
     ]
    }
   ],
   "source": [
    "deter_temporal_subset['geometry'] = deter_temporal_subset.envelope.buffer(100).copy()"
   ]
  },
  {
   "cell_type": "code",
   "execution_count": 192,
   "metadata": {},
   "outputs": [
    {
     "data": {
      "text/plain": [
       "<AxesSubplot:>"
      ]
     },
     "execution_count": 192,
     "metadata": {},
     "output_type": "execute_result"
    },
    {
     "data": {
      "image/png": "[encoded data removed]",
      "text/plain": [
       "<Figure size 432x288 with 1 Axes>"
      ]
     },
     "metadata": {
      "needs_background": "light"
     },
     "output_type": "display_data"
    }
   ],
   "source": [
    "x= deter_temporal_subset.dissolve().explode()\n",
    "x.plot()"
   ]
  },
  {
   "cell_type": "code",
   "execution_count": null,
   "metadata": {},
   "outputs": [],
   "source": []
  }
 ],
 "metadata": {
  "language_info": {
   "name": "python"
  },
  "orig_nbformat": 4
 },
 "nbformat": 4,
 "nbformat_minor": 2
}
