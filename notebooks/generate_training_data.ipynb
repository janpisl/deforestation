{
 "cells": [
  {
   "cell_type": "markdown",
   "metadata": {},
   "source": [
    "The goal of this notebook is to develop code to generate training data for training a UNet or similar. The code from here will then be adapted to some \"production\" code. \n",
    "\n",
    "The training data will look like this:\n",
    "\n",
    "1. input: pair of images of 4xWxH from before and after\n",
    "    - these can come from the 'before' and 'after' periods (ie. many possible combinations) or also from various mosaics of them\n",
    "    - these will be merged in some way; the vanilla merge method is concat; better methods can include trainable merge\n",
    "    - later it can be more than 2 images, e.g. it can be 3 from each before and after \n",
    "2. label: image of 1xWxH with binary label - deforestation or not for a particular date (as per the DETER polygon specified date)\n",
    "    - this will be created by rasterization of DETER polygons, either a single one or multiple grouped by e.g. week or month\n"
   ]
  },
  {
   "cell_type": "code",
   "execution_count": 108,
   "metadata": {},
   "outputs": [],
   "source": [
    "import glob\n",
    "import os\n",
    "from pathlib import Path\n",
    "import matplotlib.pyplot as plt\n",
    "\n",
    "import numpy as np\n",
    "import pandas as pd\n",
    "import rasterio\n",
    "import geopandas as gpd"
   ]
  },
  {
   "cell_type": "code",
   "execution_count": 9,
   "metadata": {},
   "outputs": [],
   "source": [
    "raster_paths = '../data/aoi_1/raster/2019_2021'\n",
    "deter_path = '../data/sample_data/DETER/deter_public.shp'\n",
    "aoi_path = '../data/aoi_1/vector/aoi_1.geojson'"
   ]
  },
  {
   "cell_type": "code",
   "execution_count": 29,
   "metadata": {},
   "outputs": [],
   "source": [
    "deter = gpd.read_file(deter_path)\n",
    "aoi = gpd.read_file(aoi_path).to_crs(deter.crs)\n",
    "deter_aoi = gpd.clip(deter, aoi)\n",
    "deter_aoi['date'] = deter_aoi[\"VIEW_DATE\"].astype(\"datetime64\")"
   ]
  },
  {
   "cell_type": "code",
   "execution_count": 52,
   "metadata": {},
   "outputs": [
    {
     "data": {
      "text/html": [
       "<div>\n",
       "<style scoped>\n",
       "    .dataframe tbody tr th:only-of-type {\n",
       "        vertical-align: middle;\n",
       "    }\n",
       "\n",
       "    .dataframe tbody tr th {\n",
       "        vertical-align: top;\n",
       "    }\n",
       "\n",
       "    .dataframe thead th {\n",
       "        text-align: right;\n",
       "    }\n",
       "</style>\n",
       "<table border=\"1\" class=\"dataframe\">\n",
       "  <thead>\n",
       "    <tr style=\"text-align: right;\">\n",
       "      <th></th>\n",
       "      <th>CLASSNAME</th>\n",
       "      <th>QUADRANT</th>\n",
       "      <th>PATH_ROW</th>\n",
       "      <th>VIEW_DATE</th>\n",
       "      <th>SENSOR</th>\n",
       "      <th>SATELLITE</th>\n",
       "      <th>AREAUCKM</th>\n",
       "      <th>UC</th>\n",
       "      <th>AREAMUNKM</th>\n",
       "      <th>MUNICIPALI</th>\n",
       "      <th>GEOCODIBGE</th>\n",
       "      <th>UF</th>\n",
       "      <th>geometry</th>\n",
       "      <th>date</th>\n",
       "    </tr>\n",
       "    <tr>\n",
       "      <th>date</th>\n",
       "      <th></th>\n",
       "      <th></th>\n",
       "      <th></th>\n",
       "      <th></th>\n",
       "      <th></th>\n",
       "      <th></th>\n",
       "      <th></th>\n",
       "      <th></th>\n",
       "      <th></th>\n",
       "      <th></th>\n",
       "      <th></th>\n",
       "      <th></th>\n",
       "      <th></th>\n",
       "      <th></th>\n",
       "    </tr>\n",
       "  </thead>\n",
       "  <tbody>\n",
       "    <tr>\n",
       "      <th>2021-10-03</th>\n",
       "      <td>DESMATAMENTO_CR</td>\n",
       "      <td>None</td>\n",
       "      <td>168105</td>\n",
       "      <td>2021-10-03</td>\n",
       "      <td>AWFI</td>\n",
       "      <td>CBERS-4</td>\n",
       "      <td>0.0</td>\n",
       "      <td>None</td>\n",
       "      <td>0.290930</td>\n",
       "      <td>Altamira</td>\n",
       "      <td>1500602</td>\n",
       "      <td>PA</td>\n",
       "      <td>POLYGON ((-53.64143 -5.86984, -53.64900 -5.868...</td>\n",
       "      <td>2021-10-03</td>\n",
       "    </tr>\n",
       "    <tr>\n",
       "      <th>2021-10-05</th>\n",
       "      <td>DEGRADACAO</td>\n",
       "      <td>None</td>\n",
       "      <td>036016</td>\n",
       "      <td>2021-10-05</td>\n",
       "      <td>WFI</td>\n",
       "      <td>AMAZONIA-1</td>\n",
       "      <td>0.0</td>\n",
       "      <td>None</td>\n",
       "      <td>0.221640</td>\n",
       "      <td>Altamira</td>\n",
       "      <td>1500602</td>\n",
       "      <td>PA</td>\n",
       "      <td>POLYGON ((-53.76300 -5.87785, -53.76271 -5.877...</td>\n",
       "      <td>2021-10-05</td>\n",
       "    </tr>\n",
       "    <tr>\n",
       "      <th>2021-07-06</th>\n",
       "      <td>DEGRADACAO</td>\n",
       "      <td>None</td>\n",
       "      <td>163111</td>\n",
       "      <td>2021-07-06</td>\n",
       "      <td>AWFI</td>\n",
       "      <td>CBERS-4</td>\n",
       "      <td>0.0</td>\n",
       "      <td>None</td>\n",
       "      <td>0.077628</td>\n",
       "      <td>Altamira</td>\n",
       "      <td>1500602</td>\n",
       "      <td>PA</td>\n",
       "      <td>POLYGON ((-53.65610 -6.15209, -53.65584 -6.152...</td>\n",
       "      <td>2021-07-06</td>\n",
       "    </tr>\n",
       "    <tr>\n",
       "      <th>2021-10-05</th>\n",
       "      <td>DEGRADACAO</td>\n",
       "      <td>None</td>\n",
       "      <td>036016</td>\n",
       "      <td>2021-10-05</td>\n",
       "      <td>WFI</td>\n",
       "      <td>AMAZONIA-1</td>\n",
       "      <td>0.0</td>\n",
       "      <td>None</td>\n",
       "      <td>0.674434</td>\n",
       "      <td>Altamira</td>\n",
       "      <td>1500602</td>\n",
       "      <td>PA</td>\n",
       "      <td>POLYGON ((-53.67105 -5.80741, -53.67088 -5.807...</td>\n",
       "      <td>2021-10-05</td>\n",
       "    </tr>\n",
       "    <tr>\n",
       "      <th>2021-10-05</th>\n",
       "      <td>DESMATAMENTO_CR</td>\n",
       "      <td>None</td>\n",
       "      <td>036016</td>\n",
       "      <td>2021-10-05</td>\n",
       "      <td>WFI</td>\n",
       "      <td>AMAZONIA-1</td>\n",
       "      <td>0.0</td>\n",
       "      <td>None</td>\n",
       "      <td>1.188350</td>\n",
       "      <td>Altamira</td>\n",
       "      <td>1500602</td>\n",
       "      <td>PA</td>\n",
       "      <td>POLYGON ((-53.64364 -6.15132, -53.64339 -6.151...</td>\n",
       "      <td>2021-10-05</td>\n",
       "    </tr>\n",
       "    <tr>\n",
       "      <th>...</th>\n",
       "      <td>...</td>\n",
       "      <td>...</td>\n",
       "      <td>...</td>\n",
       "      <td>...</td>\n",
       "      <td>...</td>\n",
       "      <td>...</td>\n",
       "      <td>...</td>\n",
       "      <td>...</td>\n",
       "      <td>...</td>\n",
       "      <td>...</td>\n",
       "      <td>...</td>\n",
       "      <td>...</td>\n",
       "      <td>...</td>\n",
       "      <td>...</td>\n",
       "    </tr>\n",
       "    <tr>\n",
       "      <th>2020-08-22</th>\n",
       "      <td>DESMATAMENTO_CR</td>\n",
       "      <td>None</td>\n",
       "      <td>165105</td>\n",
       "      <td>2020-08-22</td>\n",
       "      <td>AWFI</td>\n",
       "      <td>CBERS-4</td>\n",
       "      <td>0.0</td>\n",
       "      <td>None</td>\n",
       "      <td>0.092532</td>\n",
       "      <td>Altamira</td>\n",
       "      <td>1500602</td>\n",
       "      <td>PA</td>\n",
       "      <td>POLYGON ((-53.51657 -6.13940, -53.51679 -6.139...</td>\n",
       "      <td>2020-08-22</td>\n",
       "    </tr>\n",
       "    <tr>\n",
       "      <th>2020-08-22</th>\n",
       "      <td>DESMATAMENTO_CR</td>\n",
       "      <td>None</td>\n",
       "      <td>165105</td>\n",
       "      <td>2020-08-22</td>\n",
       "      <td>AWFI</td>\n",
       "      <td>CBERS-4</td>\n",
       "      <td>0.0</td>\n",
       "      <td>None</td>\n",
       "      <td>0.090413</td>\n",
       "      <td>Altamira</td>\n",
       "      <td>1500602</td>\n",
       "      <td>PA</td>\n",
       "      <td>POLYGON ((-53.51787 -6.18079, -53.51484 -6.182...</td>\n",
       "      <td>2020-08-22</td>\n",
       "    </tr>\n",
       "    <tr>\n",
       "      <th>2020-08-22</th>\n",
       "      <td>DESMATAMENTO_CR</td>\n",
       "      <td>None</td>\n",
       "      <td>165105</td>\n",
       "      <td>2020-08-22</td>\n",
       "      <td>AWFI</td>\n",
       "      <td>CBERS-4</td>\n",
       "      <td>0.0</td>\n",
       "      <td>None</td>\n",
       "      <td>0.164874</td>\n",
       "      <td>Altamira</td>\n",
       "      <td>1500602</td>\n",
       "      <td>PA</td>\n",
       "      <td>POLYGON ((-53.57832 -6.10408, -53.57751 -6.103...</td>\n",
       "      <td>2020-08-22</td>\n",
       "    </tr>\n",
       "    <tr>\n",
       "      <th>2020-08-22</th>\n",
       "      <td>DESMATAMENTO_CR</td>\n",
       "      <td>None</td>\n",
       "      <td>165105</td>\n",
       "      <td>2020-08-22</td>\n",
       "      <td>AWFI</td>\n",
       "      <td>CBERS-4</td>\n",
       "      <td>0.0</td>\n",
       "      <td>None</td>\n",
       "      <td>0.095500</td>\n",
       "      <td>Altamira</td>\n",
       "      <td>1500602</td>\n",
       "      <td>PA</td>\n",
       "      <td>POLYGON ((-53.56290 -6.08856, -53.56290 -6.089...</td>\n",
       "      <td>2020-08-22</td>\n",
       "    </tr>\n",
       "    <tr>\n",
       "      <th>2020-08-22</th>\n",
       "      <td>DESMATAMENTO_CR</td>\n",
       "      <td>None</td>\n",
       "      <td>165105</td>\n",
       "      <td>2020-08-22</td>\n",
       "      <td>AWFI</td>\n",
       "      <td>CBERS-4</td>\n",
       "      <td>0.0</td>\n",
       "      <td>None</td>\n",
       "      <td>0.677487</td>\n",
       "      <td>Altamira</td>\n",
       "      <td>1500602</td>\n",
       "      <td>PA</td>\n",
       "      <td>POLYGON ((-53.65599 -5.80906, -53.65585 -5.810...</td>\n",
       "      <td>2020-08-22</td>\n",
       "    </tr>\n",
       "  </tbody>\n",
       "</table>\n",
       "<p>1363 rows × 14 columns</p>\n",
       "</div>"
      ],
      "text/plain": [
       "                  CLASSNAME QUADRANT PATH_ROW   VIEW_DATE SENSOR   SATELLITE  \\\n",
       "date                                                                           \n",
       "2021-10-03  DESMATAMENTO_CR     None   168105  2021-10-03   AWFI     CBERS-4   \n",
       "2021-10-05       DEGRADACAO     None   036016  2021-10-05    WFI  AMAZONIA-1   \n",
       "2021-07-06       DEGRADACAO     None   163111  2021-07-06   AWFI     CBERS-4   \n",
       "2021-10-05       DEGRADACAO     None   036016  2021-10-05    WFI  AMAZONIA-1   \n",
       "2021-10-05  DESMATAMENTO_CR     None   036016  2021-10-05    WFI  AMAZONIA-1   \n",
       "...                     ...      ...      ...         ...    ...         ...   \n",
       "2020-08-22  DESMATAMENTO_CR     None   165105  2020-08-22   AWFI     CBERS-4   \n",
       "2020-08-22  DESMATAMENTO_CR     None   165105  2020-08-22   AWFI     CBERS-4   \n",
       "2020-08-22  DESMATAMENTO_CR     None   165105  2020-08-22   AWFI     CBERS-4   \n",
       "2020-08-22  DESMATAMENTO_CR     None   165105  2020-08-22   AWFI     CBERS-4   \n",
       "2020-08-22  DESMATAMENTO_CR     None   165105  2020-08-22   AWFI     CBERS-4   \n",
       "\n",
       "            AREAUCKM    UC  AREAMUNKM MUNICIPALI GEOCODIBGE  UF  \\\n",
       "date                                                              \n",
       "2021-10-03       0.0  None   0.290930   Altamira    1500602  PA   \n",
       "2021-10-05       0.0  None   0.221640   Altamira    1500602  PA   \n",
       "2021-07-06       0.0  None   0.077628   Altamira    1500602  PA   \n",
       "2021-10-05       0.0  None   0.674434   Altamira    1500602  PA   \n",
       "2021-10-05       0.0  None   1.188350   Altamira    1500602  PA   \n",
       "...              ...   ...        ...        ...        ...  ..   \n",
       "2020-08-22       0.0  None   0.092532   Altamira    1500602  PA   \n",
       "2020-08-22       0.0  None   0.090413   Altamira    1500602  PA   \n",
       "2020-08-22       0.0  None   0.164874   Altamira    1500602  PA   \n",
       "2020-08-22       0.0  None   0.095500   Altamira    1500602  PA   \n",
       "2020-08-22       0.0  None   0.677487   Altamira    1500602  PA   \n",
       "\n",
       "                                                     geometry       date  \n",
       "date                                                                      \n",
       "2021-10-03  POLYGON ((-53.64143 -5.86984, -53.64900 -5.868... 2021-10-03  \n",
       "2021-10-05  POLYGON ((-53.76300 -5.87785, -53.76271 -5.877... 2021-10-05  \n",
       "2021-07-06  POLYGON ((-53.65610 -6.15209, -53.65584 -6.152... 2021-07-06  \n",
       "2021-10-05  POLYGON ((-53.67105 -5.80741, -53.67088 -5.807... 2021-10-05  \n",
       "2021-10-05  POLYGON ((-53.64364 -6.15132, -53.64339 -6.151... 2021-10-05  \n",
       "...                                                       ...        ...  \n",
       "2020-08-22  POLYGON ((-53.51657 -6.13940, -53.51679 -6.139... 2020-08-22  \n",
       "2020-08-22  POLYGON ((-53.51787 -6.18079, -53.51484 -6.182... 2020-08-22  \n",
       "2020-08-22  POLYGON ((-53.57832 -6.10408, -53.57751 -6.103... 2020-08-22  \n",
       "2020-08-22  POLYGON ((-53.56290 -6.08856, -53.56290 -6.089... 2020-08-22  \n",
       "2020-08-22  POLYGON ((-53.65599 -5.80906, -53.65585 -5.810... 2020-08-22  \n",
       "\n",
       "[1363 rows x 14 columns]"
      ]
     },
     "execution_count": 52,
     "metadata": {},
     "output_type": "execute_result"
    }
   ],
   "source": [
    "deter_aoi_2019_21 = deter_aoi[(deter_aoi['date'] > \"2019-01-01\") & (deter_aoi['date'] < \"2022-01-01\")]\n",
    "deter_aoi_2019_21"
   ]
  },
  {
   "cell_type": "code",
   "execution_count": 53,
   "metadata": {},
   "outputs": [
    {
     "data": {
      "text/plain": [
       "<AxesSubplot:xlabel='date'>"
      ]
     },
     "execution_count": 53,
     "metadata": {},
     "output_type": "execute_result"
    },
    {
     "data": {
      "image/png": "[encoded data removed]",
      "text/plain": [
       "<Figure size 1080x720 with 1 Axes>"
      ]
     },
     "metadata": {
      "needs_background": "light"
     },
     "output_type": "display_data"
    }
   ],
   "source": [
    "deter_aoi_2019_21.set_index('date', inplace=True)\n",
    "deter_aoi_2019_21.resample('M').size().plot.bar(figsize=(15,10))\n"
   ]
  },
  {
   "cell_type": "code",
   "execution_count": 86,
   "metadata": {},
   "outputs": [
    {
     "data": {
      "text/html": [
       "<div>\n",
       "<style scoped>\n",
       "    .dataframe tbody tr th:only-of-type {\n",
       "        vertical-align: middle;\n",
       "    }\n",
       "\n",
       "    .dataframe tbody tr th {\n",
       "        vertical-align: top;\n",
       "    }\n",
       "\n",
       "    .dataframe thead th {\n",
       "        text-align: right;\n",
       "    }\n",
       "</style>\n",
       "<table border=\"1\" class=\"dataframe\">\n",
       "  <thead>\n",
       "    <tr style=\"text-align: right;\">\n",
       "      <th></th>\n",
       "      <th>date</th>\n",
       "      <th>CLASSNAME</th>\n",
       "      <th>QUADRANT</th>\n",
       "      <th>PATH_ROW</th>\n",
       "      <th>VIEW_DATE</th>\n",
       "      <th>SENSOR</th>\n",
       "      <th>SATELLITE</th>\n",
       "      <th>AREAUCKM</th>\n",
       "      <th>UC</th>\n",
       "      <th>AREAMUNKM</th>\n",
       "      <th>MUNICIPALI</th>\n",
       "      <th>GEOCODIBGE</th>\n",
       "      <th>UF</th>\n",
       "      <th>geometry</th>\n",
       "    </tr>\n",
       "  </thead>\n",
       "  <tbody>\n",
       "    <tr>\n",
       "      <th>0</th>\n",
       "      <td>2020-08-25</td>\n",
       "      <td>DESMATAMENTO_CR</td>\n",
       "      <td>None</td>\n",
       "      <td>164105</td>\n",
       "      <td>2020-08-25</td>\n",
       "      <td>AWFI</td>\n",
       "      <td>CBERS-4</td>\n",
       "      <td>0.0</td>\n",
       "      <td>None</td>\n",
       "      <td>0.179314</td>\n",
       "      <td>Altamira</td>\n",
       "      <td>1500602</td>\n",
       "      <td>PA</td>\n",
       "      <td>POLYGON ((-53.39948 -6.05016, -53.40000 -6.052...</td>\n",
       "    </tr>\n",
       "  </tbody>\n",
       "</table>\n",
       "</div>"
      ],
      "text/plain": [
       "        date        CLASSNAME QUADRANT PATH_ROW   VIEW_DATE SENSOR SATELLITE  \\\n",
       "0 2020-08-25  DESMATAMENTO_CR     None   164105  2020-08-25   AWFI   CBERS-4   \n",
       "\n",
       "   AREAUCKM    UC  AREAMUNKM MUNICIPALI GEOCODIBGE  UF  \\\n",
       "0       0.0  None   0.179314   Altamira    1500602  PA   \n",
       "\n",
       "                                            geometry  \n",
       "0  POLYGON ((-53.39948 -6.05016, -53.40000 -6.052...  "
      ]
     },
     "execution_count": 86,
     "metadata": {},
     "output_type": "execute_result"
    }
   ],
   "source": [
    "sample = deter_aoi_2019_21.iloc[11:12].reset_index()\n",
    "sample"
   ]
  },
  {
   "cell_type": "code",
   "execution_count": 71,
   "metadata": {},
   "outputs": [
    {
     "name": "stdout",
     "output_type": "stream",
     "text": [
      "20210725\n"
     ]
    }
   ],
   "source": [
    "name = os.listdir(raster_paths)[0].split(\".\")[0]\n",
    "\n",
    "months_mapping = {\"Jan\" : \"01\",\n",
    "                 \"Feb\" : \"02\",\n",
    "                 \"Mar\" : \"03\",\n",
    "                 \"Apr\" : \"04\",\n",
    "                 \"May\" : \"05\",\n",
    "                 \"Jun\" : \"06\",\n",
    "                 \"Jul\" : \"07\",\n",
    "                 \"Aug\" : \"08\",\n",
    "                 \"Sep\" : \"09\",\n",
    "                 \"Oct\" : \"10\",\n",
    "                 \"Nov\" : \"11\",\n",
    "                 \"Dec\" : \"12\"\n",
    "                 }\n",
    "\n",
    "\n",
    "\n",
    "print(name)"
   ]
  },
  {
   "cell_type": "code",
   "execution_count": 96,
   "metadata": {},
   "outputs": [],
   "source": [
    "rasters = []\n",
    "\n",
    "for file in os.listdir(raster_paths):\n",
    "    if not file.endswith(\".tif\"):\n",
    "        continue\n",
    "    filename = Path(file).stem\n",
    "    for key in months_mapping.keys():\n",
    "        filename = filename.replace(key, months_mapping[key])\n",
    "    date = pd.to_datetime(filename)\n",
    "    filepath = os.path.join(raster_paths, file)\n",
    "    rasters.append([date, filepath])\n",
    "\n",
    "\n",
    "rasters_df = pd.DataFrame(rasters, columns=('date', 'path'))\n",
    "rasters_df = rasters_df.sort_values(by='date')\n",
    "\n"
   ]
  },
  {
   "cell_type": "code",
   "execution_count": 104,
   "metadata": {},
   "outputs": [
    {
     "data": {
      "text/plain": [
       "numpy.datetime64('2020-08-25T00:00:00.000000000')"
      ]
     },
     "execution_count": 104,
     "metadata": {},
     "output_type": "execute_result"
    }
   ],
   "source": [
    "sample.date.values[0]"
   ]
  },
  {
   "cell_type": "code",
   "execution_count": 105,
   "metadata": {},
   "outputs": [],
   "source": [
    "before = rasters_df[rasters_df.date < sample.date.values[0]]\n",
    "after = rasters_df[rasters_df.date > sample.date.values[0]]\n"
   ]
  },
  {
   "cell_type": "code",
   "execution_count": 107,
   "metadata": {},
   "outputs": [
    {
     "data": {
      "text/html": [
       "<div>\n",
       "<style scoped>\n",
       "    .dataframe tbody tr th:only-of-type {\n",
       "        vertical-align: middle;\n",
       "    }\n",
       "\n",
       "    .dataframe tbody tr th {\n",
       "        vertical-align: top;\n",
       "    }\n",
       "\n",
       "    .dataframe thead th {\n",
       "        text-align: right;\n",
       "    }\n",
       "</style>\n",
       "<table border=\"1\" class=\"dataframe\">\n",
       "  <thead>\n",
       "    <tr style=\"text-align: right;\">\n",
       "      <th></th>\n",
       "      <th>date</th>\n",
       "      <th>path</th>\n",
       "    </tr>\n",
       "  </thead>\n",
       "  <tbody>\n",
       "    <tr>\n",
       "      <th>224</th>\n",
       "      <td>2020-08-26</td>\n",
       "      <td>../data/aoi_1/raster/2019_2021/2020Aug26.tif</td>\n",
       "    </tr>\n",
       "  </tbody>\n",
       "</table>\n",
       "</div>"
      ],
      "text/plain": [
       "          date                                          path\n",
       "224 2020-08-26  ../data/aoi_1/raster/2019_2021/2020Aug26.tif"
      ]
     },
     "execution_count": 107,
     "metadata": {},
     "output_type": "execute_result"
    }
   ],
   "source": [
    "before[-1:].path\n",
    "after[:1]"
   ]
  },
  {
   "cell_type": "code",
   "execution_count": 109,
   "metadata": {},
   "outputs": [],
   "source": [
    "# Function to normalize the grid values\n",
    "def normalize(array):\n",
    "    \"\"\"Normalizes numpy arrays into scale 0.0 - 1.0\"\"\"\n",
    "    array_min, array_max = 0, 255\n",
    "    return ((array - array_min)/(array_max - array_min))"
   ]
  },
  {
   "cell_type": "markdown",
   "metadata": {},
   "source": []
  },
  {
   "cell_type": "code",
   "execution_count": 114,
   "metadata": {},
   "outputs": [
    {
     "data": {
      "text/plain": [
       "'../data/aoi_1/raster/2019_2021/2020Aug24.tif'"
      ]
     },
     "execution_count": 114,
     "metadata": {},
     "output_type": "execute_result"
    }
   ],
   "source": []
  },
  {
   "cell_type": "code",
   "execution_count": 115,
   "metadata": {},
   "outputs": [
    {
     "name": "stdout",
     "output_type": "stream",
     "text": [
      "Normalized bands\n",
      "nan - nan mean: nan\n",
      "nan - nan mean: nan\n",
      "nan - nan mean: nan\n"
     ]
    },
    {
     "ename": "NameError",
     "evalue": "name 'plt' is not defined",
     "output_type": "error",
     "traceback": [
      "\u001b[0;31m---------------------------------------------------------------------------\u001b[0m",
      "\u001b[0;31mNameError\u001b[0m                                 Traceback (most recent call last)",
      "\u001b[1;32m/Users/janpisl/Documents/EPFL/deforestation/notebooks/generate_training_data.ipynb Cell 16'\u001b[0m in \u001b[0;36m<module>\u001b[0;34m\u001b[0m\n\u001b[1;32m     <a href='vscode-notebook-cell:/Users/janpisl/Documents/EPFL/deforestation/notebooks/generate_training_data.ipynb#ch0000014?line=18'>19</a>\u001b[0m rgb \u001b[39m=\u001b[39m np\u001b[39m.\u001b[39mdstack((redn, greenn, bluen))\n\u001b[1;32m     <a href='vscode-notebook-cell:/Users/janpisl/Documents/EPFL/deforestation/notebooks/generate_training_data.ipynb#ch0000014?line=20'>21</a>\u001b[0m \u001b[39m# Let's see how our color composite looks like\u001b[39;00m\n\u001b[0;32m---> <a href='vscode-notebook-cell:/Users/janpisl/Documents/EPFL/deforestation/notebooks/generate_training_data.ipynb#ch0000014?line=21'>22</a>\u001b[0m plt\u001b[39m.\u001b[39mimshow(rgb)\n",
      "\u001b[0;31mNameError\u001b[0m: name 'plt' is not defined"
     ]
    }
   ],
   "source": [
    "with rasterio.open(before[-1:].path.values[0]) as src:\n",
    "\n",
    "    # Read the grid values into numpy arrays\n",
    "    red = src.read(3)\n",
    "    green = src.read(2)\n",
    "    blue = src.read(1)\n",
    "\n",
    "    # Normalize the bands\n",
    "    redn = normalize(red)\n",
    "    greenn = normalize(green)\n",
    "    bluen = normalize(blue)\n",
    "\n",
    "    print(\"Normalized bands\")\n",
    "    print(redn.min(), '-', redn.max(), 'mean:', redn.mean())\n",
    "    print(greenn.min(), '-', greenn.max(), 'mean:', greenn.mean())\n",
    "    print(bluen.min(), '-', bluen.max(), 'mean:', bluen.mean())\n",
    "\n",
    "    # Create RGB natural color composite\n",
    "    rgb = np.dstack((redn, greenn, bluen))\n",
    "\n",
    "    # Let's see how our color composite looks like\n",
    "    plt.imshow(rgb)"
   ]
  },
  {
   "cell_type": "code",
   "execution_count": null,
   "metadata": {},
   "outputs": [],
   "source": []
  }
 ],
 "metadata": {
  "interpreter": {
   "hash": "ed0d5165fde6336af43e98beed8c8cc4390213f314ddbf79d35dc3e0efe92c7d"
  },
  "kernelspec": {
   "display_name": "Python 3.9.10 ('gee')",
   "language": "python",
   "name": "python3"
  },
  "language_info": {
   "codemirror_mode": {
    "name": "ipython",
    "version": 3
   },
   "file_extension": ".py",
   "mimetype": "text/x-python",
   "name": "python",
   "nbconvert_exporter": "python",
   "pygments_lexer": "ipython3",
   "version": "3.9.10"
  },
  "orig_nbformat": 4
 },
 "nbformat": 4,
 "nbformat_minor": 2
}
