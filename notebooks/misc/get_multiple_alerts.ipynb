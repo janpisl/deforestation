{
 "cells": [
  {
   "cell_type": "markdown",
   "metadata": {},
   "source": [
    "Let's get alerts from RADD, DETER, MapBiomas and GLAD for an AOI. Download, visualize, compare."
   ]
  },
  {
   "cell_type": "code",
   "execution_count": 31,
   "metadata": {},
   "outputs": [],
   "source": [
    "import os\n",
    "import json\n",
    "import pprint\n",
    "import requests\n",
    "from requests import Response\n",
    "from typing import List, Set, Dict, Any, Tuple\n",
    "\n",
    "import shapely\n",
    "import pandas as pd\n",
    "import geopandas as gpd\n",
    "from shapely.geometry import Polygon, shape\n",
    "from geopandas import GeoDataFrame\n",
    "\n",
    "from typing import Dict\n",
    "\n",
    "\n"
   ]
  },
  {
   "cell_type": "markdown",
   "metadata": {},
   "source": [
    "I need to define the AOI and the time period. I pick the AOI by looking at the distribution of alerts in QGIS. As for date, let's start with 2021."
   ]
  },
  {
   "cell_type": "code",
   "execution_count": 2,
   "metadata": {},
   "outputs": [
    {
     "data": {
      "text/plain": [
       "<AxesSubplot:>"
      ]
     },
     "execution_count": 2,
     "metadata": {},
     "output_type": "execute_result"
    },
    {
     "data": {
      "image/png": "[encoded data removed]",
      "text/plain": [
       "<Figure size 432x288 with 1 Axes>"
      ]
     },
     "metadata": {
      "needs_background": "light"
     },
     "output_type": "display_data"
    }
   ],
   "source": [
    "\n",
    "\n",
    "bb: Tuple[int] = (-7006677,-1024964, -6855473,-868057)\n",
    "epsg: int = 3857\n",
    "\n",
    "aoi: Polygon = Polygon([ [bb[0], bb[1]], [bb[0], bb[3]], [bb[2], bb[3]], [bb[2],bb[1]]])\n",
    "\n",
    "aoi_gdf: GeoDataFrame = gpd.GeoDataFrame([], geometry=[aoi], crs=epsg)\n",
    "aoi_gdf = aoi_gdf.to_crs(4326)\n",
    "aoi_gdf.plot()"
   ]
  },
  {
   "cell_type": "code",
   "execution_count": 22,
   "metadata": {},
   "outputs": [
    {
     "data": {
      "text/plain": [
       "'{\"type\": \"FeatureCollection\", \"features\": [{\"id\": \"0\", \"type\": \"Feature\", \"properties\": {}, \"geometry\": {\"type\": \"Polygon\", \"coordinates\": [[[-62.942050399887165, -9.168032980041682], [-62.942050399887165, -7.7739263440393875], [-61.58376175768708, -7.7739263440393875], [-61.58376175768708, -9.168032980041682], [-62.942050399887165, -9.168032980041682]]]}, \"bbox\": [-62.942050399887165, -9.168032980041682, -61.58376175768708, -7.7739263440393875]}], \"bbox\": [-62.942050399887165, -9.168032980041682, -61.58376175768708, -7.7739263440393875]}'"
      ]
     },
     "execution_count": 22,
     "metadata": {},
     "output_type": "execute_result"
    }
   ],
   "source": [
    "aoi_gdf.geometry.to_json()"
   ]
  },
  {
   "cell_type": "code",
   "execution_count": 3,
   "metadata": {},
   "outputs": [
    {
     "data": {
      "text/plain": [
       "23724966028.000145"
      ]
     },
     "execution_count": 3,
     "metadata": {},
     "output_type": "execute_result"
    }
   ],
   "source": [
    "aoi_gdf.to_crs(3857).area[0]"
   ]
  },
  {
   "cell_type": "markdown",
   "metadata": {},
   "source": [
    "1. RADD alerts"
   ]
  },
  {
   "cell_type": "code",
   "execution_count": 4,
   "metadata": {},
   "outputs": [],
   "source": [
    "version: str = 'v20220130'\n",
    "dataset_name: str = 'wur_radd_alerts'\n",
    "\n",
    "api_key: str = '4d824101-4456-441e-82c1-005ff1fd0e41'\n",
    "\n",
    "geojson: Dict[str, Any] = { \"type\": \"Polygon\", \"coordinates\": [[ [-62.942050399887165, -9.168032980041682], [-62.942050399887165, -7.7739263440393875], [-61.58376175768708, -7.7739263440393875], [-61.58376175768708, -9.168032980041682], [-62.942050399887165, -9.168032980041682] ]] }\n",
    "polygon_shape = shape(geojson)\n",
    "sql: str = \"SELECT longitude, latitude, wur_radd_alerts__date, wur_radd_alerts__confidence FROM results WHERE wur_radd_alerts__date >= '2021-01-01' AND wur_radd_alerts__date <='2021-03-31'\""
   ]
  },
  {
   "cell_type": "code",
   "execution_count": 44,
   "metadata": {},
   "outputs": [],
   "source": [
    "body: Dict[str, str] = {'geometry' : geojson, 'sql' : sql}\n",
    "body_encoded: str = json.dumps(body).encode('utf-8')\n",
    "headers: Dict[str, str] = {'Content-Type': 'application/json', 'x-api-key' : api_key}\n",
    "\n",
    "url_data_request: str = f'https://data-api.globalforestwatch.org/dataset/{dataset_name}/{version}/query'"
   ]
  },
  {
   "cell_type": "code",
   "execution_count": 45,
   "metadata": {},
   "outputs": [],
   "source": [
    "resp = requests.post(url_data_request, data=body_encoded, headers=headers)\n",
    "resp\n"
   ]
  },
  {
   "cell_type": "code",
   "execution_count": 54,
   "metadata": {},
   "outputs": [
    {
     "data": {
      "text/plain": [
       "<AxesSubplot:>"
      ]
     },
     "execution_count": 54,
     "metadata": {},
     "output_type": "execute_result"
    },
    {
     "data": {
      "image/png": "[encoded data removed]",
      "text/plain": [
       "<Figure size 432x288 with 1 Axes>"
      ]
     },
     "metadata": {
      "needs_background": "light"
     },
     "output_type": "display_data"
    }
   ],
   "source": [
    "alerts_data = json.loads(resp.text)\n",
    "alerts_df = pd.DataFrame(alerts_data['data'])\n",
    "gdf = gpd.GeoDataFrame(alerts_df, geometry=gpd.points_from_xy(alerts_df.longitude, alerts_df.latitude))\n",
    "gdf = gdf.drop(['latitude', 'longitude'], axis=1)\n",
    "gdf.crs = 4326\n",
    "gdf.plot()"
   ]
  },
  {
   "cell_type": "code",
   "execution_count": 57,
   "metadata": {},
   "outputs": [
    {
     "name": "stderr",
     "output_type": "stream",
     "text": [
      "/Users/janpisl/opt/anaconda3/envs/env-py-3.8/lib/python3.8/site-packages/geopandas/io/file.py:362: FutureWarning: pandas.Int64Index is deprecated and will be removed from pandas in a future version. Use pandas.Index with the appropriate dtype instead.\n",
      "  pd.Int64Index,\n"
     ]
    }
   ],
   "source": [
    "gdf.to_file('sample_data/RADD_Q1_2021.gpkg', driver='GPKG')"
   ]
  },
  {
   "cell_type": "markdown",
   "metadata": {},
   "source": [
    "2. GLAD\n",
    "\n",
    "There are many datasets that contains \"GLAD\". I am not sure which one to choose. Some candidates:\n",
    "\n",
    "umd_glad_landsat_alerts\\\n",
    "umd_glad_sentinel2_alerts\n",
    "\n",
    "geostore__glad__daily_alerts\n"
   ]
  },
  {
   "cell_type": "code",
   "execution_count": 7,
   "metadata": {},
   "outputs": [],
   "source": [
    "dataset_name_glad_landsat = 'umd_glad_landsat_alerts'\n",
    "field_url = f'https://data-api.globalforestwatch.org/dataset/{dataset_name_glad_landsat}/latest/fields'\n",
    "resp = requests.get(field_url)\n",
    "resp.raise_for_status()\n",
    "fields = json.loads(resp.text)\n",
    "for field in fields['data']:\n",
    "    print(field['field_name'])"
   ]
  },
  {
   "cell_type": "markdown",
   "metadata": {},
   "source": [
    "Some of the fields in am interested in:\n",
    "\n",
    "umd_glad_landsat_alerts__date \\\n",
    "umd_glad_landsat_alerts__date_conf\\\n",
    "umd_glad_landsat_alerts__confidence\n",
    "plus latitude, longitude that are not on the list"
   ]
  },
  {
   "cell_type": "code",
   "execution_count": 5,
   "metadata": {},
   "outputs": [],
   "source": [
    "sql_glad_landsat: str = \"SELECT longitude, latitude, umd_glad_landsat_alerts__date, umd_glad_landsat_alerts__date_conf,umd_glad_landsat_alerts__confidence FROM results WHERE umd_glad_landsat_alerts__date >= '2021-01-01' AND umd_glad_landsat_alerts__date <='2021-03-31'\""
   ]
  },
  {
   "cell_type": "code",
   "execution_count": 36,
   "metadata": {},
   "outputs": [],
   "source": [
    "def request_gfw_dataset(api_key: str,\n",
    "                        dataset_name: str,\n",
    "                        version: str,\n",
    "                        aoi: Polygon,\n",
    "                        query: str\n",
    "                        ) -> Response:\n",
    "    \"\"\"Request a dataset from Global Forest Watch.\n",
    "    For more information and details on how to get the input parameters, visit:\n",
    "    https://www.globalforestwatch.org/help/developers/guides/query-data-for-a-custom-geometry/\n",
    "\n",
    "    Args:\n",
    "        api_key (str):\n",
    "            Global Forest Watch API key\n",
    "        dataset_name (str):\n",
    "            name of dataset to be requested\n",
    "        version (str):\n",
    "            version of the dataset\n",
    "        aoi (shapely.geometry.Polygon):\n",
    "            area of interest\n",
    "        query (str):\n",
    "            SQL query to select desired data\n",
    "\n",
    "    Returns:\n",
    "        requests.Response:\n",
    "            The object returned by the request\n",
    "    \"\"\"\n",
    "\n",
    "    geometry: str = shapely.geometry.mapping(aoi)\n",
    "\n",
    "    body: Dict[str, str] = {'geometry' : geometry, 'sql' : query}\n",
    "    body_encoded: str = json.dumps(body).encode('utf-8')\n",
    "    headers: Dict[str, str] = {'Content-Type': 'application/json', 'x-api-key' : api_key}\n",
    "\n",
    "    url_data_request: str = f'https://data-api.globalforestwatch.org/dataset/{dataset_name}/{version}/query'\n",
    "\n",
    "    resp = requests.post(url_data_request, data=body_encoded, headers=headers)\n",
    "    \n",
    "    if int(resp.status_code) >= 400:\n",
    "        pprint.pprint(json.loads(resp.text))\n",
    "        raise Exception(f\"Request failed\")\n",
    "        \n",
    "\n",
    "    return resp"
   ]
  },
  {
   "cell_type": "code",
   "execution_count": 19,
   "metadata": {},
   "outputs": [],
   "source": [
    "glad_response = request_gfw_dataset(api_key, dataset_name_glad_landsat, 'latest', polygon_shape, sql_glad_landsat)\n"
   ]
  },
  {
   "cell_type": "code",
   "execution_count": 21,
   "metadata": {},
   "outputs": [
    {
     "data": {
      "text/plain": [
       "<AxesSubplot:>"
      ]
     },
     "execution_count": 21,
     "metadata": {},
     "output_type": "execute_result"
    },
    {
     "data": {
      "image/png": "[encoded data removed]",
      "text/plain": [
       "<Figure size 864x864 with 1 Axes>"
      ]
     },
     "metadata": {
      "needs_background": "light"
     },
     "output_type": "display_data"
    }
   ],
   "source": [
    "alerts_data = json.loads(glad_response.text)\n",
    "glad_alerts_df = pd.DataFrame(alerts_data['data'])\n",
    "glad_gdf = gpd.GeoDataFrame(glad_alerts_df, geometry=gpd.points_from_xy(glad_alerts_df.longitude, glad_alerts_df.latitude))\n",
    "glad_gdf = glad_gdf.drop(['latitude', 'longitude'], axis=1)\n",
    "glad_gdf.plot(figsize=(12,12))"
   ]
  },
  {
   "cell_type": "code",
   "execution_count": 23,
   "metadata": {},
   "outputs": [
    {
     "name": "stderr",
     "output_type": "stream",
     "text": [
      "/Users/janpisl/opt/anaconda3/envs/env-py-3.8/lib/python3.8/site-packages/geopandas/io/file.py:362: FutureWarning: pandas.Int64Index is deprecated and will be removed from pandas in a future version. Use pandas.Index with the appropriate dtype instead.\n",
      "  pd.Int64Index,\n"
     ]
    }
   ],
   "source": [
    "glad_gdf.to_file('sample_data/GLAD_landsat_Q1_2021.gpkg', driver='GPKG')"
   ]
  },
  {
   "cell_type": "markdown",
   "metadata": {},
   "source": [
    "Let's do the same for GLAD S-2"
   ]
  },
  {
   "cell_type": "code",
   "execution_count": 24,
   "metadata": {},
   "outputs": [
    {
     "name": "stdout",
     "output_type": "stream",
     "text": [
      "is__gfw_peatlands\n",
      "mapbox_river_basins__id\n",
      "whrc_aboveground_biomass_stock_2000__Mg_ha-1\n",
      "whrc_aboveground_biomass_stock_2000__Mg\n",
      "is__umd_regional_primary_forest_2001\n",
      "wdpa_protected_areas__iucn_cat\n",
      "rspo_oil_palm__certification_status\n",
      "is__gfw_oil_gas\n",
      "is__birdlife_alliance_for_zero_extinction_sites\n",
      "is__birdlife_key_biodiversity_areas\n",
      "rspo_southeast_asia_land_cover_2010__class\n",
      "idn_forest_area__class\n",
      "inpe_prodes__year\n",
      "ifl_intact_forest_landscapes__year\n",
      "is__gfw_mining_concessions\n",
      "gfw_deadwood_carbon__Mg_CO2_ha-1\n",
      "gfw_deadwood_carbon__Mg_CO2\n",
      "gfw_litter_carbon__Mg_CO2_ha-1\n",
      "gfw_litter_carbon__Mg_CO2\n",
      "is__gmw_global_mangrove_extent_2016\n",
      "ibge_bra_biomes__name\n",
      "is__gfw_land_rights\n",
      "gfw_litter_carbon__category\n",
      "tsc_tree_cover_loss_drivers__driver\n",
      "is__gfw_resource_rights\n",
      "is__gmw_global_mangrove_extent_1996\n",
      "gfw_aboveground_carbon__Mg_CO2_ha-1\n",
      "gfw_aboveground_carbon__Mg_CO2\n",
      "gfw_belowground_carbon__Mg_CO2_ha-1\n",
      "gfw_belowground_carbon__Mg_CO2\n",
      "gfw_radd_alerts__date_conf\n",
      "gfw_radd_alerts__date\n",
      "gfw_radd_alerts__confidence\n",
      "is__gfwpro_peatlands\n",
      "is__jpl_mangrove_aboveground_biomass_stock_2000\n",
      "esa_land_cover_2015__class\n",
      "is__birdlife_endemic_bird_areas\n",
      "is__gfw_oil_palm\n",
      "is__wwf_tiger_conservation_landscapes\n",
      "is__idn_forest_moratorium\n",
      "is__landmark_indigenous_and_community_lands\n",
      "is__gfw_managed_forests\n",
      "per_forest_concessions__type\n",
      "is__osinfor_peru_permanent_production_forests\n",
      "is__per_protected_areas\n",
      "wur_radd_coverage__coverage\n",
      "wur_radd_alerts__date_conf\n",
      "wur_radd_alerts__date\n",
      "wur_radd_alerts__confidence\n",
      "umd_glad_sentinel2_alerts__date_conf\n",
      "umd_glad_sentinel2_alerts__date\n",
      "umd_glad_sentinel2_alerts__confidence\n",
      "gfw_integrated_alerts__date_conf\n",
      "gfw_integrated_alerts__date\n",
      "gfw_integrated_alerts__confidence\n",
      "umd_glad_landsat_alerts__date_conf\n",
      "umd_glad_landsat_alerts__date\n",
      "umd_glad_landsat_alerts__confidence\n"
     ]
    }
   ],
   "source": [
    "dataset_name_glad_s2 = 'umd_glad_sentinel2_alerts'\n",
    "field_url = f'https://data-api.globalforestwatch.org/dataset/{dataset_name_glad_s2}/latest/fields'\n",
    "resp = requests.get(field_url)\n",
    "resp.raise_for_status()\n",
    "fields = json.loads(resp.text)\n",
    "for field in fields['data']:\n",
    "    print(field['field_name'])"
   ]
  },
  {
   "cell_type": "code",
   "execution_count": 27,
   "metadata": {},
   "outputs": [],
   "source": [
    "# The fields are pretty much the same as for Landsat\n",
    "\n",
    "sql_glad_s2: str = \"SELECT longitude, latitude, umd_glad_sentinel2_alerts__date, umd_glad_sentinel2_alerts__date_conf,umd_glad_sentinel2_alerts__confidence FROM results WHERE umd_glad_sentinel2_alerts__date >= '2021-01-01' AND umd_glad_sentinel2_alerts__date <='2021-03-31'\""
   ]
  },
  {
   "cell_type": "code",
   "execution_count": 37,
   "metadata": {},
   "outputs": [
    {
     "name": "stdout",
     "output_type": "stream",
     "text": [
      "{'message': 'Raster analysis lambda received an unexpected response: {\\n'\n",
      "            '  \"errorMessage\": \"Response payload size exceeded maximum allowed '\n",
      "            'payload size (6291556 bytes).\",\\n'\n",
      "            '  \"errorType\": \"Function.ResponseSizeTooLarge\"\\n'\n",
      "            '}',\n",
      " 'status': 'error'}\n"
     ]
    },
    {
     "ename": "Exception",
     "evalue": "Request failed",
     "output_type": "error",
     "traceback": [
      "\u001b[0;31m---------------------------------------------------------------------------\u001b[0m",
      "\u001b[0;31mException\u001b[0m                                 Traceback (most recent call last)",
      "\u001b[1;32m/Users/janpisl/Documents/EPFL/workdir/get_multiple_alerts.ipynb Cell 24'\u001b[0m in \u001b[0;36m<module>\u001b[0;34m\u001b[0m\n\u001b[0;32m----> <a href='vscode-notebook-cell:/Users/janpisl/Documents/EPFL/workdir/get_multiple_alerts.ipynb#ch0000026?line=0'>1</a>\u001b[0m glad_response \u001b[39m=\u001b[39m request_gfw_dataset(api_key, dataset_name_glad_s2, \u001b[39m'\u001b[39;49m\u001b[39mlatest\u001b[39;49m\u001b[39m'\u001b[39;49m, polygon_shape, sql_glad_s2)\n\u001b[1;32m      <a href='vscode-notebook-cell:/Users/janpisl/Documents/EPFL/workdir/get_multiple_alerts.ipynb#ch0000026?line=1'>2</a>\u001b[0m alerts_data \u001b[39m=\u001b[39m json\u001b[39m.\u001b[39mloads(glad_response\u001b[39m.\u001b[39mtext)\n\u001b[1;32m      <a href='vscode-notebook-cell:/Users/janpisl/Documents/EPFL/workdir/get_multiple_alerts.ipynb#ch0000026?line=2'>3</a>\u001b[0m glad_alerts_df \u001b[39m=\u001b[39m pd\u001b[39m.\u001b[39mDataFrame(alerts_data[\u001b[39m'\u001b[39m\u001b[39mdata\u001b[39m\u001b[39m'\u001b[39m])\n",
      "\u001b[1;32m/Users/janpisl/Documents/EPFL/workdir/get_multiple_alerts.ipynb Cell 17'\u001b[0m in \u001b[0;36mrequest_gfw_dataset\u001b[0;34m(api_key, dataset_name, version, aoi, query)\u001b[0m\n\u001b[1;32m     <a href='vscode-notebook-cell:/Users/janpisl/Documents/EPFL/workdir/get_multiple_alerts.ipynb#ch0000022?line=37'>38</a>\u001b[0m \u001b[39mif\u001b[39;00m \u001b[39mint\u001b[39m(resp\u001b[39m.\u001b[39mstatus_code) \u001b[39m>\u001b[39m\u001b[39m=\u001b[39m \u001b[39m400\u001b[39m:\n\u001b[1;32m     <a href='vscode-notebook-cell:/Users/janpisl/Documents/EPFL/workdir/get_multiple_alerts.ipynb#ch0000022?line=38'>39</a>\u001b[0m     pprint\u001b[39m.\u001b[39mpprint(json\u001b[39m.\u001b[39mloads(resp\u001b[39m.\u001b[39mtext))\n\u001b[0;32m---> <a href='vscode-notebook-cell:/Users/janpisl/Documents/EPFL/workdir/get_multiple_alerts.ipynb#ch0000022?line=39'>40</a>\u001b[0m     \u001b[39mraise\u001b[39;00m \u001b[39mException\u001b[39;00m(\u001b[39mf\u001b[39m\u001b[39m\"\u001b[39m\u001b[39mRequest failed\u001b[39m\u001b[39m\"\u001b[39m)\n\u001b[1;32m     <a href='vscode-notebook-cell:/Users/janpisl/Documents/EPFL/workdir/get_multiple_alerts.ipynb#ch0000022?line=42'>43</a>\u001b[0m \u001b[39mreturn\u001b[39;00m resp\n",
      "\u001b[0;31mException\u001b[0m: Request failed"
     ]
    }
   ],
   "source": [
    "glad_response = request_gfw_dataset(api_key, dataset_name_glad_s2, 'latest', polygon_shape, sql_glad_s2)\n",
    "alerts_data = json.loads(glad_response.text)\n",
    "glad_alerts_df = pd.DataFrame(alerts_data['data'])\n",
    "glad_gdf = gpd.GeoDataFrame(glad_alerts_df, geometry=gpd.points_from_xy(glad_alerts_df.longitude, glad_alerts_df.latitude))\n",
    "glad_gdf = glad_gdf.drop(['latitude', 'longitude'], axis=1)\n",
    "glad_gdf.plot(figsize=(12,12))"
   ]
  },
  {
   "cell_type": "markdown",
   "metadata": {},
   "source": [
    "Request failed because of \"Response payload size exceeded maximum allowed payload size (6291556 bytes)\". I need to split the time. Let's try to split in half."
   ]
  },
  {
   "cell_type": "code",
   "execution_count": 60,
   "metadata": {},
   "outputs": [],
   "source": [
    "sql_glad_s2_1: str = \"SELECT longitude, latitude, umd_glad_sentinel2_alerts__date, umd_glad_sentinel2_alerts__date_conf,umd_glad_sentinel2_alerts__confidence FROM results WHERE umd_glad_sentinel2_alerts__date >= '2021-10-01' AND umd_glad_sentinel2_alerts__date <='2021-10-03'\""
   ]
  },
  {
   "cell_type": "code",
   "execution_count": 61,
   "metadata": {},
   "outputs": [
    {
     "name": "stdout",
     "output_type": "stream",
     "text": [
      "{'message': 'Raster analysis lambda received an unexpected response: {\\n'\n",
      "            '  \"errorMessage\": \"Response payload size exceeded maximum allowed '\n",
      "            'payload size (6291556 bytes).\",\\n'\n",
      "            '  \"errorType\": \"Function.ResponseSizeTooLarge\"\\n'\n",
      "            '}',\n",
      " 'status': 'error'}\n"
     ]
    },
    {
     "ename": "Exception",
     "evalue": "Request failed",
     "output_type": "error",
     "traceback": [
      "\u001b[0;31m---------------------------------------------------------------------------\u001b[0m",
      "\u001b[0;31mException\u001b[0m                                 Traceback (most recent call last)",
      "\u001b[1;32m/Users/janpisl/Documents/EPFL/workdir/get_multiple_alerts.ipynb Cell 27'\u001b[0m in \u001b[0;36m<module>\u001b[0;34m\u001b[0m\n\u001b[0;32m----> <a href='vscode-notebook-cell:/Users/janpisl/Documents/EPFL/workdir/get_multiple_alerts.ipynb#ch0000029?line=0'>1</a>\u001b[0m glad_response \u001b[39m=\u001b[39m request_gfw_dataset(api_key, dataset_name_glad_s2, \u001b[39m'\u001b[39;49m\u001b[39mlatest\u001b[39;49m\u001b[39m'\u001b[39;49m, polygon_shape, sql_glad_s2_1)\n\u001b[1;32m      <a href='vscode-notebook-cell:/Users/janpisl/Documents/EPFL/workdir/get_multiple_alerts.ipynb#ch0000029?line=1'>2</a>\u001b[0m alerts_data \u001b[39m=\u001b[39m json\u001b[39m.\u001b[39mloads(glad_response\u001b[39m.\u001b[39mtext)\n\u001b[1;32m      <a href='vscode-notebook-cell:/Users/janpisl/Documents/EPFL/workdir/get_multiple_alerts.ipynb#ch0000029?line=2'>3</a>\u001b[0m glad_alerts_df \u001b[39m=\u001b[39m pd\u001b[39m.\u001b[39mDataFrame(alerts_data[\u001b[39m'\u001b[39m\u001b[39mdata\u001b[39m\u001b[39m'\u001b[39m])\n",
      "\u001b[1;32m/Users/janpisl/Documents/EPFL/workdir/get_multiple_alerts.ipynb Cell 17'\u001b[0m in \u001b[0;36mrequest_gfw_dataset\u001b[0;34m(api_key, dataset_name, version, aoi, query)\u001b[0m\n\u001b[1;32m     <a href='vscode-notebook-cell:/Users/janpisl/Documents/EPFL/workdir/get_multiple_alerts.ipynb#ch0000022?line=37'>38</a>\u001b[0m \u001b[39mif\u001b[39;00m \u001b[39mint\u001b[39m(resp\u001b[39m.\u001b[39mstatus_code) \u001b[39m>\u001b[39m\u001b[39m=\u001b[39m \u001b[39m400\u001b[39m:\n\u001b[1;32m     <a href='vscode-notebook-cell:/Users/janpisl/Documents/EPFL/workdir/get_multiple_alerts.ipynb#ch0000022?line=38'>39</a>\u001b[0m     pprint\u001b[39m.\u001b[39mpprint(json\u001b[39m.\u001b[39mloads(resp\u001b[39m.\u001b[39mtext))\n\u001b[0;32m---> <a href='vscode-notebook-cell:/Users/janpisl/Documents/EPFL/workdir/get_multiple_alerts.ipynb#ch0000022?line=39'>40</a>\u001b[0m     \u001b[39mraise\u001b[39;00m \u001b[39mException\u001b[39;00m(\u001b[39mf\u001b[39m\u001b[39m\"\u001b[39m\u001b[39mRequest failed\u001b[39m\u001b[39m\"\u001b[39m)\n\u001b[1;32m     <a href='vscode-notebook-cell:/Users/janpisl/Documents/EPFL/workdir/get_multiple_alerts.ipynb#ch0000022?line=42'>43</a>\u001b[0m \u001b[39mreturn\u001b[39;00m resp\n",
      "\u001b[0;31mException\u001b[0m: Request failed"
     ]
    }
   ],
   "source": [
    "glad_response = request_gfw_dataset(api_key, dataset_name_glad_s2, 'latest', polygon_shape, sql_glad_s2_1)\n",
    "alerts_data = json.loads(glad_response.text)\n",
    "glad_alerts_df = pd.DataFrame(alerts_data['data'])\n",
    "glad_gdf = gpd.GeoDataFrame(glad_alerts_df, geometry=gpd.points_from_xy(glad_alerts_df.longitude, glad_alerts_df.latitude))\n",
    "glad_gdf = glad_gdf.drop(['latitude', 'longitude'], axis=1)\n",
    "glad_gdf.plot(figsize=(12,12))"
   ]
  },
  {
   "cell_type": "markdown",
   "metadata": {},
   "source": [
    "Ok. This is not working. I keep getting the message about size being exceeded until I suddenly get an empty response."
   ]
  }
 ],
 "metadata": {
  "interpreter": {
   "hash": "6c372ed90af00841b719635ecbc469f9e0b418dcd170896c087225b93bebf0d8"
  },
  "kernelspec": {
   "display_name": "Python 3.8.10 ('env-py-3.8')",
   "language": "python",
   "name": "python3"
  },
  "language_info": {
   "codemirror_mode": {
    "name": "ipython",
    "version": 3
   },
   "file_extension": ".py",
   "mimetype": "text/x-python",
   "name": "python",
   "nbconvert_exporter": "python",
   "pygments_lexer": "ipython3",
   "version": "3.8.10"
  },
  "orig_nbformat": 4
 },
 "nbformat": 4,
 "nbformat_minor": 2
}
